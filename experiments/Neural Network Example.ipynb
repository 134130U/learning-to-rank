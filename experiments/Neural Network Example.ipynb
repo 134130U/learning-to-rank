{
 "cells": [
  {
   "cell_type": "code",
   "execution_count": 1,
   "metadata": {
    "collapsed": true
   },
   "outputs": [],
   "source": [
    "import numpy as np\n",
    "import pandas as pd"
   ]
  },
  {
   "cell_type": "code",
   "execution_count": 2,
   "metadata": {
    "collapsed": false
   },
   "outputs": [],
   "source": [
    "import logging\n",
    "fh = logging.FileHandler('output.log')\n",
    "\n",
    "logger = logging.getLogger()\n",
    "logger.setLevel(logging.DEBUG)\n",
    "logger.removeHandler(logger.handlers[0])\n",
    "logger.addHandler(fh)\n",
    "\n",
    "logging.debug(\"test\")"
   ]
  },
  {
   "cell_type": "markdown",
   "metadata": {},
   "source": [
    "# SKNN library - Wrapper for Lasagne"
   ]
  },
  {
   "cell_type": "code",
   "execution_count": 3,
   "metadata": {
    "collapsed": true
   },
   "outputs": [],
   "source": [
    "from sknn.mlp import Classifier, Layer\n",
    "\n",
    "nn = Classifier(\n",
    "    layers=[\n",
    "        Layer(\"Sigmoid\", units=10),\n",
    "        Layer(\"Softmax\")],\n",
    "    learning_rate=0.1,\n",
    "    n_iter=100)"
   ]
  },
  {
   "cell_type": "code",
   "execution_count": 4,
   "metadata": {
    "collapsed": false
   },
   "outputs": [
    {
     "data": {
      "text/plain": [
       "{'batch_size': 1,\n",
       " 'callback': None,\n",
       " 'debug': False,\n",
       " 'dropout_rate': None,\n",
       " 'f_stable': 0.001,\n",
       " 'hidden0': <sknn.nn.Layer `Sigmoid`: units=10, frozen=False, name='hidden0'>,\n",
       " 'layers': [<sknn.nn.Layer `Sigmoid`: units=10, frozen=False, name='hidden0'>,\n",
       "  <sknn.nn.Layer `Softmax`: frozen=False, name='output'>],\n",
       " 'learning_momentum': 0.9,\n",
       " 'learning_rate': 0.1,\n",
       " 'learning_rule': 'sgd',\n",
       " 'loss_type': None,\n",
       " 'n_iter': 100,\n",
       " 'n_stable': 10,\n",
       " 'normalize': None,\n",
       " 'output': <sknn.nn.Layer `Softmax`: frozen=False, name='output'>,\n",
       " 'parameters': None,\n",
       " 'random_state': None,\n",
       " 'regularize': None,\n",
       " 'valid_set': None,\n",
       " 'valid_size': 0.0,\n",
       " 'verbose': None,\n",
       " 'warning': None,\n",
       " 'weight_decay': None}"
      ]
     },
     "execution_count": 4,
     "metadata": {},
     "output_type": "execute_result"
    }
   ],
   "source": [
    "nn.get_params()"
   ]
  },
  {
   "cell_type": "code",
   "execution_count": 5,
   "metadata": {
    "collapsed": false
   },
   "outputs": [
    {
     "name": "stdout",
     "output_type": "stream",
     "text": [
      "(3, 2)\n",
      "(3,)\n"
     ]
    }
   ],
   "source": [
    "X=np.array([[0, 1], [0, 0], [1, 0]])\n",
    "print(X.shape)\n",
    "\n",
    "y=np.array([1, 0, 2])\n",
    "print(y.shape)"
   ]
  },
  {
   "cell_type": "code",
   "execution_count": 6,
   "metadata": {
    "collapsed": false
   },
   "outputs": [
    {
     "name": "stderr",
     "output_type": "stream",
     "text": [
      "/Users/motta/.pyenv/versions/learning-to-rank/lib/python3.5/site-packages/theano/tensor/signal/downsample.py:6: UserWarning: downsample module has been moved to the theano.tensor.signal.pool module.\n",
      "  \"downsample module has been moved to the theano.tensor.signal.pool module.\")\n"
     ]
    },
    {
     "data": {
      "text/plain": [
       "Classifier(batch_size=1, callback=None, debug=False, dropout_rate=None,\n",
       "      f_stable=0.001,\n",
       "      hidden0=<sknn.nn.Layer `Sigmoid`: units=10, frozen=False, name='hidden0'>,\n",
       "      layers=[<sknn.nn.Layer `Sigmoid`: units=10, frozen=False, name='hidden0'>, <sknn.nn.Layer `Softmax`: units=3, frozen=False, name='output'>],\n",
       "      learning_momentum=0.9, learning_rate=0.1, learning_rule='sgd',\n",
       "      loss_type=None, n_iter=100, n_stable=10, normalize=None,\n",
       "      output=<sknn.nn.Layer `Softmax`: units=3, frozen=False, name='output'>,\n",
       "      parameters=None, random_state=None, regularize=None, valid_set=None,\n",
       "      valid_size=0.0, verbose=None, warning=None, weight_decay=None)"
      ]
     },
     "execution_count": 6,
     "metadata": {},
     "output_type": "execute_result"
    }
   ],
   "source": [
    "nn.fit(X, y)"
   ]
  },
  {
   "cell_type": "code",
   "execution_count": 7,
   "metadata": {
    "collapsed": false
   },
   "outputs": [
    {
     "name": "stdout",
     "output_type": "stream",
     "text": [
      "[(3, 3)]\n"
     ]
    },
    {
     "data": {
      "text/plain": [
       "array([[1],\n",
       "       [0],\n",
       "       [2]])"
      ]
     },
     "execution_count": 7,
     "metadata": {},
     "output_type": "execute_result"
    }
   ],
   "source": [
    "y_pred = nn.predict(X)\n",
    "y_pred"
   ]
  },
  {
   "cell_type": "markdown",
   "metadata": {},
   "source": [
    "# FANN Library"
   ]
  },
  {
   "cell_type": "code",
   "execution_count": 64,
   "metadata": {
    "collapsed": true
   },
   "outputs": [],
   "source": [
    "from fann2 import libfann"
   ]
  },
  {
   "cell_type": "code",
   "execution_count": 65,
   "metadata": {
    "collapsed": true
   },
   "outputs": [],
   "source": [
    "ann = libfann.neural_net()"
   ]
  },
  {
   "cell_type": "code",
   "execution_count": 67,
   "metadata": {
    "collapsed": false
   },
   "outputs": [],
   "source": [
    "ann.create_standard_array([10, 10, 2])"
   ]
  },
  {
   "cell_type": "code",
   "execution_count": 68,
   "metadata": {
    "collapsed": true
   },
   "outputs": [],
   "source": [
    "fann_data = libfann.training_data()"
   ]
  },
  {
   "cell_type": "code",
   "execution_count": 69,
   "metadata": {
    "collapsed": false
   },
   "outputs": [
    {
     "name": "stdout",
     "output_type": "stream",
     "text": [
      "(3, 2)\n",
      "(3, 1)\n"
     ]
    }
   ],
   "source": [
    "X=np.array([[0, 1], [0, 0], [1, 0]])\n",
    "print(X.shape)\n",
    "\n",
    "y=np.array([[1], [0], [2]])\n",
    "print(y.shape)"
   ]
  },
  {
   "cell_type": "code",
   "execution_count": 70,
   "metadata": {
    "collapsed": false
   },
   "outputs": [],
   "source": [
    "fann_data.set_train_data(X, y)\n",
    "ann.train_on_data(fann_data, 1000, 1, 0.1)"
   ]
  },
  {
   "cell_type": "code",
   "execution_count": 71,
   "metadata": {
    "collapsed": true
   },
   "outputs": [],
   "source": [
    "def get_predictions_for(ann, x):\n",
    "    y_pred = []\n",
    "    for i in x:\n",
    "        y_pred.append(np.argmax(ann.run(i)))\n",
    "\n",
    "    return np.array(y_pred)"
   ]
  },
  {
   "cell_type": "code",
   "execution_count": 72,
   "metadata": {
    "collapsed": false
   },
   "outputs": [
    {
     "data": {
      "text/plain": [
       "array([0, 0, 0])"
      ]
     },
     "execution_count": 72,
     "metadata": {},
     "output_type": "execute_result"
    }
   ],
   "source": [
    "get_predictions_for(ann, X)"
   ]
  },
  {
   "cell_type": "code",
   "execution_count": null,
   "metadata": {
    "collapsed": true
   },
   "outputs": [],
   "source": []
  }
 ],
 "metadata": {
  "kernelspec": {
   "display_name": "learning-to-rank",
   "language": "python",
   "name": "learning-to-rank"
  },
  "language_info": {
   "codemirror_mode": {
    "name": "ipython",
    "version": 3
   },
   "file_extension": ".py",
   "mimetype": "text/x-python",
   "name": "python",
   "nbconvert_exporter": "python",
   "pygments_lexer": "ipython3",
   "version": "3.5.0"
  }
 },
 "nbformat": 4,
 "nbformat_minor": 0
}
