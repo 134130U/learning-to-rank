{
 "cells": [
  {
   "cell_type": "code",
   "execution_count": 68,
   "metadata": {
    "collapsed": false
   },
   "outputs": [],
   "source": [
    "import numpy as np\n",
    "import pandas as pd\n",
    "from sklearn.cross_validation import train_test_split\n",
    "from sklearn.metrics import mean_squared_error\n",
    "from sklearn.linear_model import LogisticRegression\n",
    "import pdb\n",
    "from sklearn.metrics import *\n",
    "%matplotlib inline\n",
    "import matplotlib.pyplot as plt\n",
    "from sklearn import preprocessing\n",
    "from sklearn.preprocessing import StandardScaler"
   ]
  },
  {
   "cell_type": "markdown",
   "metadata": {},
   "source": [
    "# Load dataset"
   ]
  },
  {
   "cell_type": "code",
   "execution_count": 2,
   "metadata": {
    "collapsed": false
   },
   "outputs": [],
   "source": [
    "genres_data = pd.read_csv(\n",
    "    'movielens-dataset/u.genre', \n",
    "    sep = '|', \n",
    "    encoding = \"ISO-8859-1\", \n",
    "    header = None, \n",
    "    names=['name', 'id']\n",
    ")"
   ]
  },
  {
   "cell_type": "code",
   "execution_count": 3,
   "metadata": {
    "collapsed": true
   },
   "outputs": [],
   "source": [
    "movie_data_columns = np.append(\n",
    "    ['movie_id', 'title', 'release_date', 'video_release_date', 'url'], \n",
    "    genres_data['name'].values\n",
    ")"
   ]
  },
  {
   "cell_type": "code",
   "execution_count": 4,
   "metadata": {
    "collapsed": true
   },
   "outputs": [],
   "source": [
    "movie_data = pd.read_csv(\n",
    "    'movielens-dataset/u.item', \n",
    "    sep = '|', \n",
    "    encoding = \"ISO-8859-1\", \n",
    "    header = None, \n",
    "    names = movie_data_columns,\n",
    "    index_col = 'movie_id'\n",
    ")"
   ]
  },
  {
   "cell_type": "code",
   "execution_count": 5,
   "metadata": {
    "collapsed": false
   },
   "outputs": [
    {
     "data": {
      "text/html": [
       "<div>\n",
       "<table border=\"1\" class=\"dataframe\">\n",
       "  <thead>\n",
       "    <tr style=\"text-align: right;\">\n",
       "      <th></th>\n",
       "      <th>title</th>\n",
       "      <th>release_date</th>\n",
       "      <th>unknown</th>\n",
       "      <th>Action</th>\n",
       "      <th>Adventure</th>\n",
       "      <th>Animation</th>\n",
       "      <th>Children's</th>\n",
       "      <th>Comedy</th>\n",
       "      <th>Crime</th>\n",
       "      <th>Documentary</th>\n",
       "      <th>...</th>\n",
       "      <th>Fantasy</th>\n",
       "      <th>Film-Noir</th>\n",
       "      <th>Horror</th>\n",
       "      <th>Musical</th>\n",
       "      <th>Mystery</th>\n",
       "      <th>Romance</th>\n",
       "      <th>Sci-Fi</th>\n",
       "      <th>Thriller</th>\n",
       "      <th>War</th>\n",
       "      <th>Western</th>\n",
       "    </tr>\n",
       "    <tr>\n",
       "      <th>movie_id</th>\n",
       "      <th></th>\n",
       "      <th></th>\n",
       "      <th></th>\n",
       "      <th></th>\n",
       "      <th></th>\n",
       "      <th></th>\n",
       "      <th></th>\n",
       "      <th></th>\n",
       "      <th></th>\n",
       "      <th></th>\n",
       "      <th></th>\n",
       "      <th></th>\n",
       "      <th></th>\n",
       "      <th></th>\n",
       "      <th></th>\n",
       "      <th></th>\n",
       "      <th></th>\n",
       "      <th></th>\n",
       "      <th></th>\n",
       "      <th></th>\n",
       "      <th></th>\n",
       "    </tr>\n",
       "  </thead>\n",
       "  <tbody>\n",
       "    <tr>\n",
       "      <th>1</th>\n",
       "      <td>Toy Story (1995)</td>\n",
       "      <td>1995-01-01</td>\n",
       "      <td>0</td>\n",
       "      <td>0</td>\n",
       "      <td>0</td>\n",
       "      <td>1</td>\n",
       "      <td>1</td>\n",
       "      <td>1</td>\n",
       "      <td>0</td>\n",
       "      <td>0</td>\n",
       "      <td>...</td>\n",
       "      <td>0</td>\n",
       "      <td>0</td>\n",
       "      <td>0</td>\n",
       "      <td>0</td>\n",
       "      <td>0</td>\n",
       "      <td>0</td>\n",
       "      <td>0</td>\n",
       "      <td>0</td>\n",
       "      <td>0</td>\n",
       "      <td>0</td>\n",
       "    </tr>\n",
       "    <tr>\n",
       "      <th>2</th>\n",
       "      <td>GoldenEye (1995)</td>\n",
       "      <td>1995-01-01</td>\n",
       "      <td>0</td>\n",
       "      <td>1</td>\n",
       "      <td>1</td>\n",
       "      <td>0</td>\n",
       "      <td>0</td>\n",
       "      <td>0</td>\n",
       "      <td>0</td>\n",
       "      <td>0</td>\n",
       "      <td>...</td>\n",
       "      <td>0</td>\n",
       "      <td>0</td>\n",
       "      <td>0</td>\n",
       "      <td>0</td>\n",
       "      <td>0</td>\n",
       "      <td>0</td>\n",
       "      <td>0</td>\n",
       "      <td>1</td>\n",
       "      <td>0</td>\n",
       "      <td>0</td>\n",
       "    </tr>\n",
       "    <tr>\n",
       "      <th>3</th>\n",
       "      <td>Four Rooms (1995)</td>\n",
       "      <td>1995-01-01</td>\n",
       "      <td>0</td>\n",
       "      <td>0</td>\n",
       "      <td>0</td>\n",
       "      <td>0</td>\n",
       "      <td>0</td>\n",
       "      <td>0</td>\n",
       "      <td>0</td>\n",
       "      <td>0</td>\n",
       "      <td>...</td>\n",
       "      <td>0</td>\n",
       "      <td>0</td>\n",
       "      <td>0</td>\n",
       "      <td>0</td>\n",
       "      <td>0</td>\n",
       "      <td>0</td>\n",
       "      <td>0</td>\n",
       "      <td>1</td>\n",
       "      <td>0</td>\n",
       "      <td>0</td>\n",
       "    </tr>\n",
       "    <tr>\n",
       "      <th>4</th>\n",
       "      <td>Get Shorty (1995)</td>\n",
       "      <td>1995-01-01</td>\n",
       "      <td>0</td>\n",
       "      <td>1</td>\n",
       "      <td>0</td>\n",
       "      <td>0</td>\n",
       "      <td>0</td>\n",
       "      <td>1</td>\n",
       "      <td>0</td>\n",
       "      <td>0</td>\n",
       "      <td>...</td>\n",
       "      <td>0</td>\n",
       "      <td>0</td>\n",
       "      <td>0</td>\n",
       "      <td>0</td>\n",
       "      <td>0</td>\n",
       "      <td>0</td>\n",
       "      <td>0</td>\n",
       "      <td>0</td>\n",
       "      <td>0</td>\n",
       "      <td>0</td>\n",
       "    </tr>\n",
       "    <tr>\n",
       "      <th>5</th>\n",
       "      <td>Copycat (1995)</td>\n",
       "      <td>1995-01-01</td>\n",
       "      <td>0</td>\n",
       "      <td>0</td>\n",
       "      <td>0</td>\n",
       "      <td>0</td>\n",
       "      <td>0</td>\n",
       "      <td>0</td>\n",
       "      <td>1</td>\n",
       "      <td>0</td>\n",
       "      <td>...</td>\n",
       "      <td>0</td>\n",
       "      <td>0</td>\n",
       "      <td>0</td>\n",
       "      <td>0</td>\n",
       "      <td>0</td>\n",
       "      <td>0</td>\n",
       "      <td>0</td>\n",
       "      <td>1</td>\n",
       "      <td>0</td>\n",
       "      <td>0</td>\n",
       "    </tr>\n",
       "  </tbody>\n",
       "</table>\n",
       "<p>5 rows × 21 columns</p>\n",
       "</div>"
      ],
      "text/plain": [
       "                      title release_date  unknown  Action  Adventure  \\\n",
       "movie_id                                                               \n",
       "1          Toy Story (1995)   1995-01-01        0       0          0   \n",
       "2          GoldenEye (1995)   1995-01-01        0       1          1   \n",
       "3         Four Rooms (1995)   1995-01-01        0       0          0   \n",
       "4         Get Shorty (1995)   1995-01-01        0       1          0   \n",
       "5            Copycat (1995)   1995-01-01        0       0          0   \n",
       "\n",
       "          Animation  Children's  Comedy  Crime  Documentary   ...     Fantasy  \\\n",
       "movie_id                                                      ...               \n",
       "1                 1           1       1      0            0   ...           0   \n",
       "2                 0           0       0      0            0   ...           0   \n",
       "3                 0           0       0      0            0   ...           0   \n",
       "4                 0           0       1      0            0   ...           0   \n",
       "5                 0           0       0      1            0   ...           0   \n",
       "\n",
       "          Film-Noir  Horror  Musical  Mystery  Romance  Sci-Fi  Thriller  War  \\\n",
       "movie_id                                                                        \n",
       "1                 0       0        0        0        0       0         0    0   \n",
       "2                 0       0        0        0        0       0         1    0   \n",
       "3                 0       0        0        0        0       0         1    0   \n",
       "4                 0       0        0        0        0       0         0    0   \n",
       "5                 0       0        0        0        0       0         1    0   \n",
       "\n",
       "          Western  \n",
       "movie_id           \n",
       "1               0  \n",
       "2               0  \n",
       "3               0  \n",
       "4               0  \n",
       "5               0  \n",
       "\n",
       "[5 rows x 21 columns]"
      ]
     },
     "execution_count": 5,
     "metadata": {},
     "output_type": "execute_result"
    }
   ],
   "source": [
    "selected_columns = np.append(['title', 'release_date'], genres_data['name'].values)\n",
    "movie_data = movie_data[selected_columns]\n",
    "movie_data['release_date'] = pd.to_datetime(movie_data['release_date'])\n",
    "\n",
    "movie_data.head()"
   ]
  },
  {
   "cell_type": "code",
   "execution_count": 6,
   "metadata": {
    "collapsed": false
   },
   "outputs": [],
   "source": [
    "ratings_data = pd.read_csv(\n",
    "    'movielens-dataset/u.data', \n",
    "    sep = '\\t', \n",
    "    encoding = \"ISO-8859-1\", \n",
    "    header = None, \n",
    "    names=['user_id', 'movie_id', 'rating', 'timestamp']\n",
    ")"
   ]
  },
  {
   "cell_type": "code",
   "execution_count": 7,
   "metadata": {
    "collapsed": false
   },
   "outputs": [],
   "source": [
    "movie_data['ratings_average'] = ratings_data.groupby(['movie_id'])['rating'].mean()\n",
    "movie_data['ratings_count'] = ratings_data.groupby(['movie_id'])['rating'].count()"
   ]
  },
  {
   "cell_type": "code",
   "execution_count": 8,
   "metadata": {
    "collapsed": false
   },
   "outputs": [
    {
     "data": {
      "text/html": [
       "<div>\n",
       "<table border=\"1\" class=\"dataframe\">\n",
       "  <thead>\n",
       "    <tr style=\"text-align: right;\">\n",
       "      <th></th>\n",
       "      <th>title</th>\n",
       "      <th>ratings_average</th>\n",
       "      <th>ratings_count</th>\n",
       "    </tr>\n",
       "    <tr>\n",
       "      <th>movie_id</th>\n",
       "      <th></th>\n",
       "      <th></th>\n",
       "      <th></th>\n",
       "    </tr>\n",
       "  </thead>\n",
       "  <tbody>\n",
       "    <tr>\n",
       "      <th>1</th>\n",
       "      <td>Toy Story (1995)</td>\n",
       "      <td>3.878319</td>\n",
       "      <td>452</td>\n",
       "    </tr>\n",
       "    <tr>\n",
       "      <th>2</th>\n",
       "      <td>GoldenEye (1995)</td>\n",
       "      <td>3.206107</td>\n",
       "      <td>131</td>\n",
       "    </tr>\n",
       "    <tr>\n",
       "      <th>3</th>\n",
       "      <td>Four Rooms (1995)</td>\n",
       "      <td>3.033333</td>\n",
       "      <td>90</td>\n",
       "    </tr>\n",
       "    <tr>\n",
       "      <th>4</th>\n",
       "      <td>Get Shorty (1995)</td>\n",
       "      <td>3.550239</td>\n",
       "      <td>209</td>\n",
       "    </tr>\n",
       "    <tr>\n",
       "      <th>5</th>\n",
       "      <td>Copycat (1995)</td>\n",
       "      <td>3.302326</td>\n",
       "      <td>86</td>\n",
       "    </tr>\n",
       "  </tbody>\n",
       "</table>\n",
       "</div>"
      ],
      "text/plain": [
       "                      title  ratings_average  ratings_count\n",
       "movie_id                                                   \n",
       "1          Toy Story (1995)         3.878319            452\n",
       "2          GoldenEye (1995)         3.206107            131\n",
       "3         Four Rooms (1995)         3.033333             90\n",
       "4         Get Shorty (1995)         3.550239            209\n",
       "5            Copycat (1995)         3.302326             86"
      ]
     },
     "execution_count": 8,
     "metadata": {},
     "output_type": "execute_result"
    }
   ],
   "source": [
    "movie_data[['title', 'ratings_average', 'ratings_count']].head()"
   ]
  },
  {
   "cell_type": "markdown",
   "metadata": {},
   "source": [
    "# Remove null values"
   ]
  },
  {
   "cell_type": "code",
   "execution_count": 9,
   "metadata": {
    "collapsed": false
   },
   "outputs": [
    {
     "data": {
      "text/plain": [
       "title           False\n",
       "release_date     True\n",
       "unknown         False\n",
       "Action          False\n",
       "Adventure       False\n",
       "Animation       False\n",
       "Children's      False\n",
       "Comedy          False\n",
       "Crime           False\n",
       "Documentary     False\n",
       "Drama           False\n",
       "Fantasy         False\n",
       "Film-Noir       False\n",
       "Horror          False\n",
       "Musical         False\n",
       "Mystery         False\n",
       "Romance         False\n",
       "Sci-Fi          False\n",
       "Thriller        False\n",
       "War             False\n",
       "Western         False\n",
       "dtype: bool"
      ]
     },
     "execution_count": 9,
     "metadata": {},
     "output_type": "execute_result"
    }
   ],
   "source": [
    "movie_data[selected_columns].isnull().any()"
   ]
  },
  {
   "cell_type": "code",
   "execution_count": 10,
   "metadata": {
    "collapsed": true
   },
   "outputs": [],
   "source": [
    "null_release_dates = movie_data[movie_data['release_date'].isnull()]\n",
    "assert null_release_dates.shape[0] == 1"
   ]
  },
  {
   "cell_type": "code",
   "execution_count": 11,
   "metadata": {
    "collapsed": true
   },
   "outputs": [],
   "source": [
    "movie_data = movie_data.drop(null_release_dates.index.values)\n",
    "assert movie_data[selected_columns].isnull().any().any() == False"
   ]
  },
  {
   "cell_type": "markdown",
   "metadata": {},
   "source": [
    "# Check data types"
   ]
  },
  {
   "cell_type": "code",
   "execution_count": 12,
   "metadata": {
    "collapsed": false
   },
   "outputs": [
    {
     "data": {
      "text/plain": [
       "title                      object\n",
       "release_date       datetime64[ns]\n",
       "unknown                     int64\n",
       "Action                      int64\n",
       "Adventure                   int64\n",
       "Animation                   int64\n",
       "Children's                  int64\n",
       "Comedy                      int64\n",
       "Crime                       int64\n",
       "Documentary                 int64\n",
       "Drama                       int64\n",
       "Fantasy                     int64\n",
       "Film-Noir                   int64\n",
       "Horror                      int64\n",
       "Musical                     int64\n",
       "Mystery                     int64\n",
       "Romance                     int64\n",
       "Sci-Fi                      int64\n",
       "Thriller                    int64\n",
       "War                         int64\n",
       "Western                     int64\n",
       "ratings_average           float64\n",
       "ratings_count               int64\n",
       "dtype: object"
      ]
     },
     "execution_count": 12,
     "metadata": {},
     "output_type": "execute_result"
    }
   ],
   "source": [
    "movie_data.dtypes"
   ]
  },
  {
   "cell_type": "markdown",
   "metadata": {},
   "source": [
    "# Compute the artificial \"price\" and \"buy_probability\" attributes"
   ]
  },
  {
   "cell_type": "code",
   "execution_count": 13,
   "metadata": {
    "collapsed": false
   },
   "outputs": [],
   "source": [
    "from datetime import datetime\n",
    "import dateutil"
   ]
  },
  {
   "cell_type": "code",
   "execution_count": 14,
   "metadata": {
    "collapsed": false
   },
   "outputs": [
    {
     "data": {
      "text/html": [
       "<div>\n",
       "<table border=\"1\" class=\"dataframe\">\n",
       "  <thead>\n",
       "    <tr style=\"text-align: right;\">\n",
       "      <th></th>\n",
       "      <th>title</th>\n",
       "      <th>price</th>\n",
       "      <th>ratings_average</th>\n",
       "      <th>ratings_count</th>\n",
       "    </tr>\n",
       "    <tr>\n",
       "      <th>movie_id</th>\n",
       "      <th></th>\n",
       "      <th></th>\n",
       "      <th></th>\n",
       "      <th></th>\n",
       "    </tr>\n",
       "  </thead>\n",
       "  <tbody>\n",
       "    <tr>\n",
       "      <th>1</th>\n",
       "      <td>Toy Story (1995)</td>\n",
       "      <td>7</td>\n",
       "      <td>3.878319</td>\n",
       "      <td>452</td>\n",
       "    </tr>\n",
       "    <tr>\n",
       "      <th>2</th>\n",
       "      <td>GoldenEye (1995)</td>\n",
       "      <td>5</td>\n",
       "      <td>3.206107</td>\n",
       "      <td>131</td>\n",
       "    </tr>\n",
       "    <tr>\n",
       "      <th>3</th>\n",
       "      <td>Four Rooms (1995)</td>\n",
       "      <td>5</td>\n",
       "      <td>3.033333</td>\n",
       "      <td>90</td>\n",
       "    </tr>\n",
       "    <tr>\n",
       "      <th>4</th>\n",
       "      <td>Get Shorty (1995)</td>\n",
       "      <td>6</td>\n",
       "      <td>3.550239</td>\n",
       "      <td>209</td>\n",
       "    </tr>\n",
       "    <tr>\n",
       "      <th>5</th>\n",
       "      <td>Copycat (1995)</td>\n",
       "      <td>5</td>\n",
       "      <td>3.302326</td>\n",
       "      <td>86</td>\n",
       "    </tr>\n",
       "  </tbody>\n",
       "</table>\n",
       "</div>"
      ],
      "text/plain": [
       "                      title  price  ratings_average  ratings_count\n",
       "movie_id                                                          \n",
       "1          Toy Story (1995)      7         3.878319            452\n",
       "2          GoldenEye (1995)      5         3.206107            131\n",
       "3         Four Rooms (1995)      5         3.033333             90\n",
       "4         Get Shorty (1995)      6         3.550239            209\n",
       "5            Copycat (1995)      5         3.302326             86"
      ]
     },
     "execution_count": 14,
     "metadata": {},
     "output_type": "execute_result"
    }
   ],
   "source": [
    "oldest_date = pd.to_datetime(movie_data['release_date']).min()\n",
    "most_recent_date = pd.to_datetime(movie_data['release_date']).max()\n",
    "normalised_age = (most_recent_date - pd.to_datetime(movie_data['release_date'])) / (most_recent_date - oldest_date)\n",
    "normalised_rating = (5 - movie_data['ratings_average']) / (5 - 1)\n",
    "\n",
    "movie_data['price'] = np.round((1 - normalised_rating) * (1 - normalised_age) * 10)\n",
    "movie_data[['title', 'price', 'ratings_average', 'ratings_count']].head()"
   ]
  },
  {
   "cell_type": "code",
   "execution_count": 15,
   "metadata": {
    "collapsed": true
   },
   "outputs": [],
   "source": [
    "# one movie had title unknown, relesease data unknown, etc...\n",
    "movie_data = movie_data[movie_data['price'].notnull()]"
   ]
  },
  {
   "cell_type": "code",
   "execution_count": 16,
   "metadata": {
    "collapsed": false
   },
   "outputs": [],
   "source": [
    "# the lower the price, the more likely I am going to buy\n",
    "movie_data['buy_probability'] = 1 - movie_data['price'] * 0.1"
   ]
  },
  {
   "cell_type": "markdown",
   "metadata": {},
   "source": [
    "# The perfect ranking"
   ]
  },
  {
   "cell_type": "code",
   "execution_count": 17,
   "metadata": {
    "collapsed": false
   },
   "outputs": [
    {
     "data": {
      "image/png": "[encoded data removed]",
      "text/plain": [
       "<matplotlib.figure.Figure at 0x108e25c18>"
      ]
     },
     "metadata": {},
     "output_type": "display_data"
    }
   ],
   "source": [
    "plt.plot(movie_data['price'].values, movie_data['buy_probability'].values, 'ro') # ro = red circles\n",
    "plt.show()"
   ]
  },
  {
   "cell_type": "markdown",
   "metadata": {},
   "source": [
    "## Genres distribution"
   ]
  },
  {
   "cell_type": "code",
   "execution_count": 45,
   "metadata": {
    "collapsed": false
   },
   "outputs": [],
   "source": [
    "def plot_genres(movie_data):\n",
    "    genres_array = [(genre, movie_data[genre].sum()) for genre in genres_data['name'].values]\n",
    "    genres_names = list(map(lambda x: x[0], genres_array))\n",
    "    genres_count = list(map(lambda x: x[1], genres_array))\n",
    "\n",
    "    genres_df = pd.DataFrame({'name': genres_names, 'count': genres_count})\n",
    "    x = np.arange(len(genres_df['name'].values))\n",
    "    plt.bar(x, genres_df['count'].values)\n",
    "    plt.xticks(x, genres_df['name'].values, rotation='vertical')\n",
    "    plt.title(\"Genres distribution\")\n",
    "    \n",
    "def plot_years(movie_data):\n",
    "    years = movie_data['release_date'].values.astype('datetime64[Y]').astype(int) + 1970\n",
    "    plt.hist(years)\n",
    "    plt.title(\"Years distribution\")\n",
    "    \n",
    "def plot_ratings(movie_data):\n",
    "    movie_data['ratings_average'].hist()\n",
    "    plt.title(\"Ratings distribution\")\n",
    "    \n",
    "def plot_price(movie_data):\n",
    "    movie_data['price'].hist()\n",
    "    plt.title(\"Price distribution\")\n",
    "    \n",
    "def plot_ratings_count(movie_data):\n",
    "    movie_data['ratings_count'].hist()\n",
    "    plt.title(\"Ratings count\")\n",
    "    \n",
    "def buy_probability_distribution(movie_data):\n",
    "    movie_data['buy_probability'].hist(bins=11)\n",
    "    plt.title(\"Buy probability distribution\")"
   ]
  },
  {
   "cell_type": "code",
   "execution_count": 47,
   "metadata": {
    "collapsed": false
   },
   "outputs": [],
   "source": [
    "def plot_distributions(movie_data):\n",
    "    fig = plt.figure(figsize=(8, 6)) \n",
    "\n",
    "    fig.add_subplot(3, 2, 1)\n",
    "    plot_genres(movie_data)\n",
    "\n",
    "    fig.add_subplot(3, 2, 2)\n",
    "    plot_years(movie_data)\n",
    "\n",
    "    fig.add_subplot(3, 2, 3)\n",
    "    plot_ratings(movie_data)\n",
    "\n",
    "    fig.add_subplot(3, 2, 4)\n",
    "    plot_price(movie_data)\n",
    "\n",
    "    fig.add_subplot(3, 2, 5)\n",
    "    plot_ratings_count(movie_data)\n",
    "\n",
    "    fig.add_subplot(3, 2, 6)\n",
    "    buy_probability_distribution(movie_data)\n",
    "\n",
    "    plt.tight_layout()"
   ]
  },
  {
   "cell_type": "code",
   "execution_count": 48,
   "metadata": {
    "collapsed": false
   },
   "outputs": [
    {
     "data": {
      "image/png": "[encoded data removed]",
      "text/plain": [
       "<matplotlib.figure.Figure at 0x104ff5908>"
      ]
     },
     "metadata": {},
     "output_type": "display_data"
    }
   ],
   "source": [
    "plot_distributions(movie_data)"
   ]
  },
  {
   "cell_type": "markdown",
   "metadata": {},
   "source": [
    "# Events database functions"
   ]
  },
  {
   "cell_type": "markdown",
   "metadata": {},
   "source": [
    "Each user has a certain probability of renting a movie. Let `X` the random variable being `1` if the user rented the movie and `0` otherwise.  \n",
    "\n",
    "$$X \\backsim Bernoulli(p)$$\n",
    "\n",
    "where $p=f(movie~features)$."
   ]
  },
  {
   "cell_type": "code",
   "execution_count": 49,
   "metadata": {
    "collapsed": true
   },
   "outputs": [],
   "source": [
    "np.random.seed(1)\n",
    "NUM_OF_OPENED_MOVIES_PER_USER = 20\n",
    "NUM_OF_USERS = 20000"
   ]
  },
  {
   "cell_type": "code",
   "execution_count": 50,
   "metadata": {
    "collapsed": true
   },
   "outputs": [],
   "source": [
    "# Saw a movie and ended up buying it\n",
    "# [\n",
    "#   user_1: [list of movies]\n",
    "#   user_2: [list of movies]\n",
    "#   ...\n",
    "# ]\n",
    "class PositiveEvents:\n",
    "    def __init__(self):\n",
    "        self.data = []\n",
    "    \n",
    "    def add(self, user_id, movie_id):\n",
    "        self.data.append({'user_id': user_id, 'movie_id': movie_id})\n",
    "    \n",
    "    def all(self):\n",
    "        return self.data\n",
    "\n",
    "# Saw a movie but did not buy\n",
    "# [\n",
    "#   user_1: [list of movies]\n",
    "#   user_2: [list of movies]\n",
    "#   ...\n",
    "# ]\n",
    "class NegativeEvents:\n",
    "    def __init__(self):\n",
    "        self.data = []\n",
    "        \n",
    "    def add(self, user_id, movie_id):\n",
    "        self.data.append({'user_id': user_id, 'movie_id': movie_id})\n",
    "    \n",
    "    def all(self):\n",
    "        return self.data\n",
    "\n",
    "# The users database\n",
    "class Users:\n",
    "    def __init__(self):\n",
    "        self.data = []\n",
    "        \n",
    "    def add(self, user_id):\n",
    "        self.data.append({'user_id': user_id})\n",
    "    \n",
    "    def all(self):\n",
    "        return self.data"
   ]
  },
  {
   "cell_type": "code",
   "execution_count": 60,
   "metadata": {
    "collapsed": false
   },
   "outputs": [],
   "source": [
    "def generate_events():\n",
    "    users = Users()\n",
    "    positive_events = PositiveEvents()\n",
    "    negative_events = NegativeEvents()\n",
    "\n",
    "    for id in range(1, NUM_OF_USERS):\n",
    "        users.add(id)\n",
    "\n",
    "    for user in users.all():\n",
    "        opened_movies = np.random.choice(movie_data.index.values, NUM_OF_OPENED_MOVIES_PER_USER)\n",
    "\n",
    "        for movie_id in opened_movies:\n",
    "            if np.random.binomial(1, movie_data.loc[movie_id].buy_probability): \n",
    "                positive_events.add(user['user_id'], movie_id)\n",
    "            else:\n",
    "                negative_events.add(user['user_id'], movie_id)\n",
    "                \n",
    "    return [positive_events, negative_events]"
   ]
  },
  {
   "cell_type": "code",
   "execution_count": 61,
   "metadata": {
    "collapsed": true
   },
   "outputs": [],
   "source": [
    "def build_learning_data_from(movie_data):\n",
    "    feature_columns = np.setdiff1d(movie_data.columns, np.array(['title', 'buy_probability']))\n",
    "    learning_data = movie_data.loc[:, feature_columns]\n",
    "    \n",
    "    scaler = StandardScaler()\n",
    "    learning_data.loc[:, ('price')] = scaler.fit_transform(learning_data[['price']])\n",
    "    learning_data['ratings_average'] = scaler.fit_transform(learning_data[['ratings_average']])\n",
    "    learning_data['ratings_count'] = scaler.fit_transform(learning_data[['ratings_count']])\n",
    "    learning_data['release_date'] = learning_data['release_date'].apply(lambda x: x.year)\n",
    "    learning_data['release_date'] = scaler.fit_transform(learning_data[['release_date']])\n",
    "    \n",
    "    return learning_data"
   ]
  },
  {
   "cell_type": "code",
   "execution_count": 62,
   "metadata": {
    "collapsed": false,
    "scrolled": true
   },
   "outputs": [],
   "source": [
    "def build_events_data(positive_events, negative_events, learning_data):\n",
    "    events_data = []\n",
    "\n",
    "    for event in positive_events.all():\n",
    "        tmp = learning_data.loc[event['movie_id']].to_dict()\n",
    "        tmp['outcome'] = 1\n",
    "        events_data += [tmp]\n",
    "\n",
    "    for event in negative_events.all():\n",
    "        tmp = learning_data.loc[event['movie_id']].to_dict()\n",
    "        tmp['outcome'] = 0\n",
    "        events_data += [tmp]\n",
    "        \n",
    "    events_data = pd.DataFrame(events_data)\n",
    "        \n",
    "    for genre in genres_data['name'].values:\n",
    "        events_data[genre] = events_data[genre].astype(int)\n",
    "\n",
    "    return events_data"
   ]
  },
  {
   "cell_type": "code",
   "execution_count": 63,
   "metadata": {
    "collapsed": true
   },
   "outputs": [],
   "source": [
    "def plot_events_distribution(events_data):\n",
    "    events_data_sample = events_data.sample(frac=0.1)\n",
    "    negative_outcomes = events_data_sample[events_data_sample['outcome'] == 0.0]['price']\n",
    "    positive_outcomes = events_data_sample[events_data_sample['outcome'] == 1.0]['price']\n",
    "    \n",
    "    outcomes = np.array(list(zip(negative_outcomes.values, positive_outcomes.values)))\n",
    "    plt.hist(outcomes, bins=11, label = ['Negative', 'Positive'])\n",
    "    plt.legend()\n",
    "    plt.xlabel('price')\n",
    "    plt.show()"
   ]
  },
  {
   "cell_type": "code",
   "execution_count": 64,
   "metadata": {
    "collapsed": false
   },
   "outputs": [],
   "source": [
    "def save_events_data(events_data, learning_data, tag):\n",
    "    events_data = events_data.reindex(np.random.permutation(events_data.index))\n",
    "    events_data.to_csv('movie_events_' + tag + '.csv')\n",
    "    \n",
    "    df = pd.DataFrame(learning_data.columns.values)\n",
    "    df.to_csv(\"feature_columns.csv\")"
   ]
  },
  {
   "cell_type": "code",
   "execution_count": 65,
   "metadata": {
    "collapsed": false
   },
   "outputs": [],
   "source": [
    "def load_events_data(tag):\n",
    "    events_data = pd.DataFrame.from_csv('movie_events_' + tag + '.csv')\n",
    "    tmp = pd.DataFrame.from_csv('feature_columns.csv')\n",
    "    feature_columns = tmp['0'].values\n",
    "    \n",
    "    return [events_data, feature_columns]"
   ]
  },
  {
   "cell_type": "code",
   "execution_count": 66,
   "metadata": {
    "collapsed": false
   },
   "outputs": [],
   "source": [
    "def get_test_train_data(events_data):\n",
    "    X = events_data.loc[:, feature_columns].values.astype(np.float32)\n",
    "    print('overall input shape: ' + str(X.shape))\n",
    "\n",
    "    y = events_data.loc[:, ['outcome']].values.astype(np.float32).ravel()\n",
    "    print('overall output shape: ' + str(y.shape))\n",
    "\n",
    "    X_train, X_test, y_train, y_test = train_test_split(X, y, test_size=0.2, random_state=42)\n",
    "    print('training input shape: ' + str(X_train.shape))\n",
    "    print('training output shape: ' + str(y_train.shape))\n",
    "\n",
    "    print('testing input shape: ' + str(X_test.shape))\n",
    "    print('testing output shape: ' + str(y_test.shape))\n",
    "    \n",
    "    return [X_train, X_test, y_train, y_test]"
   ]
  },
  {
   "cell_type": "markdown",
   "metadata": {},
   "source": [
    "# Generate linear events"
   ]
  },
  {
   "cell_type": "code",
   "execution_count": null,
   "metadata": {
    "collapsed": false
   },
   "outputs": [],
   "source": [
    "positive_events, negative_events = generate_events()\n",
    "learning_data = build_learning_data_from(movie_data)\n",
    "events_data = build_events_data(positive_events, negative_events, learning_data)\n",
    "save_events_data(events_data, learning_data, 'linear')\n",
    "events_data, feature_columns = load_events_data('linear')"
   ]
  },
  {
   "cell_type": "code",
   "execution_count": 35,
   "metadata": {
    "collapsed": false
   },
   "outputs": [],
   "source": [
    "plot_events_distribution(events_data)"
   ]
  },
  {
   "cell_type": "markdown",
   "metadata": {},
   "source": [
    "# Train/Test data split"
   ]
  },
  {
   "cell_type": "code",
   "execution_count": 53,
   "metadata": {
    "collapsed": false
   },
   "outputs": [
    {
     "name": "stdout",
     "output_type": "stream",
     "text": [
      "overall input shape: (399980, 23)\n",
      "overall output shape: (399980,)\n",
      "training input shape: (319984, 23)\n",
      "training output shape: (319984,)\n",
      "testing input shape: (79996, 23)\n",
      "testing output shape: (79996,)\n"
     ]
    }
   ],
   "source": [
    "X_train, X_test, y_train, y_test = get_test_train_data(events_data)"
   ]
  },
  {
   "cell_type": "markdown",
   "metadata": {},
   "source": [
    "# Ranking with Amazon ML"
   ]
  },
  {
   "cell_type": "markdown",
   "metadata": {},
   "source": [
    "![title](amazon_performance.png)"
   ]
  },
  {
   "cell_type": "markdown",
   "metadata": {},
   "source": [
    "# Rank with the perfect predictor"
   ]
  },
  {
   "cell_type": "code",
   "execution_count": 46,
   "metadata": {
    "collapsed": true
   },
   "outputs": [],
   "source": [
    "import warnings\n",
    "warnings.filterwarnings(\"ignore\", category=DeprecationWarning)"
   ]
  },
  {
   "cell_type": "code",
   "execution_count": 47,
   "metadata": {
    "collapsed": false
   },
   "outputs": [],
   "source": [
    "class PerfectPredictor:\n",
    "    def predict(self, X):\n",
    "        min_max_scaler = preprocessing.MinMaxScaler()\n",
    "        return 1 - min_max_scaler.fit_transform(X[:, -5])"
   ]
  },
  {
   "cell_type": "code",
   "execution_count": 50,
   "metadata": {
    "collapsed": false
   },
   "outputs": [
    {
     "name": "stdout",
     "output_type": "stream",
     "text": [
      "train precision: 0.725068771013\n",
      "train recall: 0.586215417795\n",
      "train accuracy: 0.646063553178\n",
      "test precision: 0.719687456397\n",
      "test recall: 0.584396456006\n",
      "test accuracy: 0.645157257863\n"
     ]
    }
   ],
   "source": [
    "p = PerfectPredictor()\n",
    "y_train_pred = np.rint(p.predict(X_train))\n",
    "\n",
    "print('train precision: ' + str(precision_score(y_train, y_train_pred)))\n",
    "print('train recall: ' + str(recall_score(y_train, y_train_pred)))\n",
    "print('train accuracy: ' + str(accuracy_score(y_train, y_train_pred)))\n",
    "\n",
    "y_test_pred = np.rint(p.predict(X_test))\n",
    "\n",
    "print('test precision: ' + str(precision_score(y_test, y_test_pred)))\n",
    "print('test recall: ' + str(recall_score(y_test, y_test_pred)))\n",
    "print('test accuracy: ' + str(accuracy_score(y_test, y_test_pred)))"
   ]
  },
  {
   "cell_type": "code",
   "execution_count": 52,
   "metadata": {
    "collapsed": false
   },
   "outputs": [
    {
     "name": "stdout",
     "output_type": "stream",
     "text": [
      "overall input shape: (1681, 23)\n"
     ]
    },
    {
     "data": {
      "image/png": "[encoded data removed]",
      "text/plain": [
       "<matplotlib.figure.Figure at 0x110c03e48>"
      ]
     },
     "metadata": {},
     "output_type": "display_data"
    }
   ],
   "source": [
    "pp_input = learning_data.values.astype(np.float32)\n",
    "print('overall input shape: ' + str(pp_input.shape))\n",
    "\n",
    "learning_data_with_rank = learning_data.copy()\n",
    "learning_data_with_rank['rank'] = p.predict(pp_input)\n",
    "\n",
    "plt.plot(learning_data_with_rank['price'].values, learning_data_with_rank['rank'].values, 'ro')\n",
    "plt.show()"
   ]
  },
  {
   "cell_type": "markdown",
   "metadata": {},
   "source": [
    "# Rank with a Logistic Regression\n",
    "\n",
    "* Collect for each movie the buy probability from the raw events\n",
    "* Run a beta regression\n",
    "\n",
    "=> Expect the coefficients to represent the artificial probability function"
   ]
  },
  {
   "cell_type": "code",
   "execution_count": 130,
   "metadata": {
    "collapsed": true
   },
   "outputs": [],
   "source": [
    "def plot_rank(features, model, learning_data, predict_fun):\n",
    "    lg_input = learning_data.values.astype(np.float32)\n",
    "    print('overall input shape: ' + str(lg_input.shape))\n",
    "\n",
    "    learning_data_with_rank = learning_data.copy()\n",
    "    learning_data_with_rank['rank'] = predict_fun(model, lg_input)\n",
    "    \n",
    "    for idx, feature in enumerate(features):\n",
    "        plt.subplot(len(features), 1, idx + 1)\n",
    "        plt.plot(learning_data_with_rank[feature].values, learning_data_with_rank['rank'].values, 'ro')\n",
    "        plt.xlabel(feature)\n",
    "        plt.ylabel('rank')\n",
    "        \n",
    "    plt.tight_layout()\n",
    "    plt.show()"
   ]
  },
  {
   "cell_type": "code",
   "execution_count": 131,
   "metadata": {
    "collapsed": true
   },
   "outputs": [],
   "source": [
    "def train_logistic_regression(X_train, y_train, X_test, y_test):\n",
    "    model = LogisticRegression()\n",
    "    model.fit(X_train, y_train)\n",
    "    \n",
    "    y_train_pred = np.argmax(model.predict_proba(X_train), axis=1).astype(np.float32)\n",
    "\n",
    "    print('train precision: ' + str(precision_score(y_train, y_train_pred)))\n",
    "    print('train recall: ' + str(recall_score(y_train, y_train_pred)))\n",
    "    print('train accuracy: ' + str(accuracy_score(y_train, y_train_pred)))\n",
    "\n",
    "    y_test_pred = np.argmax(model.predict_proba(X_test), axis=1).astype(np.float32)\n",
    "\n",
    "    print('test precision: ' + str(precision_score(y_test, y_test_pred)))\n",
    "    print('test recall: ' + str(recall_score(y_test, y_test_pred)))\n",
    "    print('test accuracy: ' + str(accuracy_score(y_test, y_test_pred)))\n",
    "    \n",
    "    return model"
   ]
  },
  {
   "cell_type": "code",
   "execution_count": 132,
   "metadata": {
    "collapsed": false
   },
   "outputs": [
    {
     "name": "stdout",
     "output_type": "stream",
     "text": [
      "train precision: 0.613005193046\n",
      "train recall: 0.136016933231\n",
      "train accuracy: 0.762991274564\n",
      "test precision: 0.605217010083\n",
      "test recall: 0.138008597421\n",
      "test accuracy: 0.761913095655\n"
     ]
    }
   ],
   "source": [
    "model = train_logistic_regression(X_train, y_train, X_test, y_test)"
   ]
  },
  {
   "cell_type": "code",
   "execution_count": 135,
   "metadata": {
    "collapsed": false
   },
   "outputs": [
    {
     "name": "stdout",
     "output_type": "stream",
     "text": [
      "overall input shape: (1681, 23)\n"
     ]
    },
    {
     "data": {
      "image/png": "[encoded data removed]",
      "text/plain": [
       "<matplotlib.figure.Figure at 0x109ffe3c8>"
      ]
     },
     "metadata": {},
     "output_type": "display_data"
    }
   ],
   "source": [
    "def predict_fun(model, data):\n",
    "    return model.predict_proba(data)[:, 1]\n",
    "\n",
    "plot_rank(['price'], model, learning_data, predict_fun)"
   ]
  },
  {
   "cell_type": "markdown",
   "metadata": {
    "collapsed": true
   },
   "source": [
    "# Rank with Neural Network"
   ]
  },
  {
   "cell_type": "code",
   "execution_count": 95,
   "metadata": {
    "collapsed": false
   },
   "outputs": [],
   "source": [
    "from lasagne import layers\n",
    "from lasagne.updates import nesterov_momentum\n",
    "from lasagne.nonlinearities import softmax\n",
    "from nolearn.lasagne import NeuralNet\n",
    "\n",
    "def train_nn(X_train, y_train, X_test, y_test):\n",
    "    nn = NeuralNet(\n",
    "        layers=[  # three layers: one hidden layer\n",
    "            ('input', layers.InputLayer),\n",
    "            ('hidden', layers.DenseLayer),\n",
    "            ('output', layers.DenseLayer),\n",
    "            ],\n",
    "        # layer parameters:\n",
    "        input_shape=(None, 23),  # this code won't compile without SIZE being set\n",
    "        hidden_num_units=46,  # number of units in hidden layer\n",
    "        output_nonlinearity=None,  # output layer uses identity function\n",
    "        output_num_units=1,  # this code won't compile without OUTPUTS being set\n",
    "\n",
    "        # optimization method:\n",
    "        update_learning_rate=0.01, \n",
    "        regression=True,  # If you're doing classification you want this off\n",
    "        max_epochs=50,  # more epochs can be good, \n",
    "        verbose=1, # enabled so that you see meaningful output when the program runs\n",
    "    )\n",
    "\n",
    "    nn.fit(X_train.astype(np.float32), y_train.astype(np.float32))\n",
    "    \n",
    "    y_train_pred = np.rint(nn.predict(X_train.astype(np.float32)))\n",
    "    print('train precision: ' + str(precision_score(y_train, y_train_pred)))\n",
    "    print('train recall: ' + str(recall_score(y_train, y_train_pred)))\n",
    "    print('train accuracy: ' + str(accuracy_score(y_train, y_train_pred)))\n",
    "\n",
    "    y_test_pred = np.rint(nn.predict(X_test.astype(np.float32)))\n",
    "    print('test precision: ' + str(precision_score(y_test, y_test_pred)))\n",
    "    print('test recall: ' + str(recall_score(y_test, y_test_pred)))\n",
    "    print('test accuracy: ' + str(accuracy_score(y_test, y_test_pred)))\n",
    "    \n",
    "    return nn"
   ]
  },
  {
   "cell_type": "code",
   "execution_count": null,
   "metadata": {
    "collapsed": false
   },
   "outputs": [],
   "source": [
    "model = train_nn(X_train, y_train, X_test, y_test)"
   ]
  },
  {
   "cell_type": "code",
   "execution_count": null,
   "metadata": {
    "collapsed": true
   },
   "outputs": [],
   "source": [
    "plot_rank(['price'], model, learning_data, 'predict')"
   ]
  },
  {
   "cell_type": "markdown",
   "metadata": {
    "collapsed": true
   },
   "source": [
    "# Rank with Decision Trees"
   ]
  },
  {
   "cell_type": "code",
   "execution_count": 61,
   "metadata": {
    "collapsed": false
   },
   "outputs": [
    {
     "data": {
      "text/plain": [
       "DecisionTreeClassifier(class_weight=None, criterion='gini', max_depth=None,\n",
       "            max_features=None, max_leaf_nodes=None, min_samples_leaf=1,\n",
       "            min_samples_split=2, min_weight_fraction_leaf=0.0,\n",
       "            presort=False, random_state=None, splitter='best')"
      ]
     },
     "execution_count": 61,
     "metadata": {},
     "output_type": "execute_result"
    }
   ],
   "source": [
    "from sklearn import tree\n",
    "model = tree.DecisionTreeClassifier()\n",
    "model.fit(X_train, y_train)"
   ]
  },
  {
   "cell_type": "code",
   "execution_count": 62,
   "metadata": {
    "collapsed": false
   },
   "outputs": [
    {
     "name": "stdout",
     "output_type": "stream",
     "text": [
      "train precision: 0.680947848951\n",
      "train recall: 0.711256135779\n",
      "train accuracy: 0.653892069603\n",
      "test precision: 0.668242778542\n",
      "test recall: 0.704538759602\n",
      "test accuracy: 0.644044702235\n"
     ]
    }
   ],
   "source": [
    "y_train_pred = np.argmax(model.predict_proba(X_train), axis=1).astype(np.float32)\n",
    "\n",
    "print('train precision: ' + str(precision_score(y_train, y_train_pred)))\n",
    "print('train recall: ' + str(recall_score(y_train, y_train_pred)))\n",
    "print('train accuracy: ' + str(accuracy_score(y_train, y_train_pred)))\n",
    "\n",
    "y_test_pred = np.argmax(model.predict_proba(X_test), axis=1).astype(np.float32)\n",
    "\n",
    "print('test precision: ' + str(precision_score(y_test, y_test_pred)))\n",
    "print('test recall: ' + str(recall_score(y_test, y_test_pred)))\n",
    "print('test accuracy: ' + str(accuracy_score(y_test, y_test_pred)))"
   ]
  },
  {
   "cell_type": "code",
   "execution_count": 63,
   "metadata": {
    "collapsed": false
   },
   "outputs": [
    {
     "name": "stdout",
     "output_type": "stream",
     "text": [
      "overall input shape: (1681, 23)\n"
     ]
    },
    {
     "data": {
      "image/png": "[encoded data removed]",
      "text/plain": [
       "<matplotlib.figure.Figure at 0x1155c1c50>"
      ]
     },
     "metadata": {},
     "output_type": "display_data"
    }
   ],
   "source": [
    "lg_input = learning_data.values.astype(np.float32)\n",
    "print('overall input shape: ' + str(lg_input.shape))\n",
    "\n",
    "learning_data_with_rank = learning_data.copy()\n",
    "learning_data_with_rank['rank'] = model.predict_proba(lg_input)[:, 1]\n",
    "\n",
    "plt.plot(learning_data_with_rank['price'].values, learning_data_with_rank['rank'].values, 'ro')\n",
    "plt.show()"
   ]
  },
  {
   "cell_type": "markdown",
   "metadata": {},
   "source": [
    "# Customers with non-linear buying behaviour"
   ]
  },
  {
   "cell_type": "code",
   "execution_count": 57,
   "metadata": {
    "collapsed": false
   },
   "outputs": [],
   "source": [
    "price_component = np.sqrt(movie_data['price'] * 0.1)\n",
    "ratings_component = np.sqrt(movie_data['ratings_average'] * 0.1 * 2)\n",
    "movie_data['buy_probability'] = 1 - price_component * 0.2 - ratings_component * 0.8"
   ]
  },
  {
   "cell_type": "code",
   "execution_count": 58,
   "metadata": {
    "collapsed": false
   },
   "outputs": [
    {
     "data": {
      "image/png": "[encoded data removed]",
      "text/plain": [
       "<matplotlib.figure.Figure at 0x1092c9e48>"
      ]
     },
     "metadata": {},
     "output_type": "display_data"
    }
   ],
   "source": [
    "plot_distributions(movie_data)"
   ]
  },
  {
   "cell_type": "code",
   "execution_count": 55,
   "metadata": {
    "collapsed": false
   },
   "outputs": [
    {
     "data": {
      "image/png": "[encoded data removed]",
      "text/plain": [
       "<matplotlib.figure.Figure at 0x1091fb550>"
      ]
     },
     "metadata": {},
     "output_type": "display_data"
    }
   ],
   "source": [
    "plt.subplot(2, 1, 1)\n",
    "plt.plot(movie_data['price'].values, movie_data['buy_probability'].values, 'ro') # ro = red circles\n",
    "plt.xlabel('price')\n",
    "plt.ylabel('buy_probability')\n",
    "\n",
    "plt.subplot(2, 1, 2)\n",
    "plt.plot(movie_data['ratings_average'].values, movie_data['buy_probability'].values, 'ro') # ro = red circles\n",
    "plt.xlabel('ratings_average')\n",
    "plt.ylabel('buy_probability')\n",
    "\n",
    "plt.tight_layout()\n",
    "plt.show()"
   ]
  },
  {
   "cell_type": "markdown",
   "metadata": {},
   "source": [
    "# Create events"
   ]
  },
  {
   "cell_type": "code",
   "execution_count": 69,
   "metadata": {
    "collapsed": false
   },
   "outputs": [],
   "source": [
    "positive_events, negative_events = generate_events()\n",
    "learning_data = build_learning_data_from(movie_data)\n",
    "events_data = build_events_data(positive_events, negative_events, learning_data)\n",
    "save_events_data(events_data, learning_data, 'nonlinear')\n",
    "events_data, feature_columns = load_events_data('nonlinear')"
   ]
  },
  {
   "cell_type": "code",
   "execution_count": 74,
   "metadata": {
    "collapsed": false
   },
   "outputs": [
    {
     "data": {
      "image/png": "[encoded data removed]",
      "text/plain": [
       "<matplotlib.figure.Figure at 0x1086aae80>"
      ]
     },
     "metadata": {},
     "output_type": "display_data"
    }
   ],
   "source": [
    "plot_events_distribution(events_data)"
   ]
  },
  {
   "cell_type": "code",
   "execution_count": 75,
   "metadata": {
    "collapsed": false
   },
   "outputs": [
    {
     "name": "stdout",
     "output_type": "stream",
     "text": [
      "overall input shape: (399980, 23)\n",
      "overall output shape: (399980,)\n",
      "training input shape: (319984, 23)\n",
      "training output shape: (319984,)\n",
      "testing input shape: (79996, 23)\n",
      "testing output shape: (79996,)\n"
     ]
    }
   ],
   "source": [
    "X_train, X_test, y_train, y_test = get_test_train_data(events_data)"
   ]
  },
  {
   "cell_type": "markdown",
   "metadata": {},
   "source": [
    "# Rank with Logistic Regression"
   ]
  },
  {
   "cell_type": "code",
   "execution_count": 100,
   "metadata": {
    "collapsed": false
   },
   "outputs": [
    {
     "name": "stdout",
     "output_type": "stream",
     "text": [
      "train precision: 0.613005193046\n",
      "train recall: 0.136016933231\n",
      "train accuracy: 0.762991274564\n",
      "test precision: 0.605217010083\n",
      "test recall: 0.138008597421\n",
      "test accuracy: 0.761913095655\n"
     ]
    }
   ],
   "source": [
    "model = train_logistic_regression(X_train, y_train, X_test, y_test)"
   ]
  },
  {
   "cell_type": "code",
   "execution_count": 101,
   "metadata": {
    "collapsed": false
   },
   "outputs": [
    {
     "name": "stdout",
     "output_type": "stream",
     "text": [
      "overall input shape: (1681, 23)\n"
     ]
    },
    {
     "data": {
      "image/png": "[encoded data removed]",
      "text/plain": [
       "<matplotlib.figure.Figure at 0x10aebe7f0>"
      ]
     },
     "metadata": {},
     "output_type": "display_data"
    }
   ],
   "source": [
    "plot_rank(['price', 'ratings_average'], model, learning_data)"
   ]
  },
  {
   "cell_type": "markdown",
   "metadata": {},
   "source": [
    "# Rank with Neural Networks"
   ]
  },
  {
   "cell_type": "code",
   "execution_count": 136,
   "metadata": {
    "collapsed": false
   },
   "outputs": [
    {
     "name": "stdout",
     "output_type": "stream",
     "text": [
      "# Neural Network with 1151 learnable parameters\n",
      "\n",
      "## Layer information\n",
      "\n",
      "  #  name      size\n",
      "---  ------  ------\n",
      "  0  input       23\n",
      "  1  hidden      46\n",
      "  2  output       1\n",
      "\n",
      "  epoch    trn loss    val loss    trn/val  dur\n",
      "-------  ----------  ----------  ---------  -----\n",
      "      1     \u001b[36m0.17542\u001b[0m     \u001b[32m0.17387\u001b[0m    1.00891  1.47s\n",
      "      2     \u001b[36m0.17348\u001b[0m     \u001b[32m0.17324\u001b[0m    1.00138  1.81s\n",
      "      3     \u001b[36m0.17325\u001b[0m     \u001b[32m0.17303\u001b[0m    1.00130  1.79s\n",
      "      4     \u001b[36m0.17315\u001b[0m     \u001b[32m0.17293\u001b[0m    1.00127  1.58s\n",
      "      5     \u001b[36m0.17310\u001b[0m     \u001b[32m0.17289\u001b[0m    1.00120  1.47s\n",
      "      6     \u001b[36m0.17306\u001b[0m     \u001b[32m0.17286\u001b[0m    1.00118  1.34s\n",
      "      7     \u001b[36m0.17303\u001b[0m     \u001b[32m0.17284\u001b[0m    1.00111  1.41s\n",
      "      8     \u001b[36m0.17301\u001b[0m     \u001b[32m0.17282\u001b[0m    1.00106  1.34s\n",
      "      9     \u001b[36m0.17299\u001b[0m     \u001b[32m0.17281\u001b[0m    1.00103  1.32s\n",
      "     10     \u001b[36m0.17297\u001b[0m     \u001b[32m0.17280\u001b[0m    1.00099  1.33s\n",
      "     11     \u001b[36m0.17296\u001b[0m     \u001b[32m0.17280\u001b[0m    1.00094  1.28s\n",
      "     12     \u001b[36m0.17295\u001b[0m     \u001b[32m0.17279\u001b[0m    1.00091  1.28s\n",
      "     13     \u001b[36m0.17293\u001b[0m     \u001b[32m0.17278\u001b[0m    1.00087  1.36s\n",
      "     14     \u001b[36m0.17292\u001b[0m     \u001b[32m0.17278\u001b[0m    1.00082  1.57s\n",
      "     15     \u001b[36m0.17291\u001b[0m     \u001b[32m0.17278\u001b[0m    1.00078  1.34s\n",
      "     16     \u001b[36m0.17290\u001b[0m     \u001b[32m0.17277\u001b[0m    1.00074  1.47s\n",
      "     17     \u001b[36m0.17289\u001b[0m     \u001b[32m0.17277\u001b[0m    1.00070  1.39s\n",
      "     18     \u001b[36m0.17288\u001b[0m     \u001b[32m0.17277\u001b[0m    1.00067  1.47s\n",
      "     19     \u001b[36m0.17287\u001b[0m     0.17277    1.00063  1.47s\n",
      "     20     \u001b[36m0.17287\u001b[0m     \u001b[32m0.17276\u001b[0m    1.00059  1.37s\n",
      "     21     \u001b[36m0.17286\u001b[0m     0.17277    1.00053  1.93s\n",
      "     22     \u001b[36m0.17285\u001b[0m     0.17277    1.00047  1.28s\n",
      "     23     \u001b[36m0.17285\u001b[0m     0.17277    1.00044  1.26s\n",
      "     24     \u001b[36m0.17284\u001b[0m     0.17277    1.00040  1.38s\n",
      "     25     \u001b[36m0.17284\u001b[0m     0.17277    1.00036  1.38s\n",
      "     26     \u001b[36m0.17283\u001b[0m     0.17277    1.00034  1.96s\n",
      "     27     \u001b[36m0.17283\u001b[0m     0.17277    1.00031  1.72s\n",
      "     28     \u001b[36m0.17282\u001b[0m     0.17277    1.00029  2.51s\n",
      "     29     \u001b[36m0.17282\u001b[0m     0.17277    1.00025  1.60s\n",
      "     30     \u001b[36m0.17281\u001b[0m     0.17277    1.00023  2.04s\n",
      "     31     \u001b[36m0.17281\u001b[0m     0.17277    1.00021  1.72s\n",
      "     32     \u001b[36m0.17281\u001b[0m     0.17277    1.00019  2.43s\n",
      "     33     \u001b[36m0.17280\u001b[0m     0.17277    1.00017  1.58s\n",
      "     34     \u001b[36m0.17280\u001b[0m     0.17277    1.00017  1.31s\n",
      "     35     \u001b[36m0.17280\u001b[0m     0.17277    1.00016  1.28s\n",
      "     36     \u001b[36m0.17279\u001b[0m     0.17277    1.00015  1.30s\n",
      "     37     \u001b[36m0.17279\u001b[0m     0.17277    1.00014  1.26s\n",
      "     38     \u001b[36m0.17279\u001b[0m     0.17277    1.00012  1.28s\n",
      "     39     \u001b[36m0.17278\u001b[0m     0.17277    1.00011  1.38s\n",
      "     40     \u001b[36m0.17278\u001b[0m     0.17276    1.00010  1.33s\n",
      "     41     \u001b[36m0.17278\u001b[0m     0.17277    1.00008  1.31s\n",
      "     42     \u001b[36m0.17278\u001b[0m     0.17276    1.00007  1.33s\n",
      "     43     \u001b[36m0.17277\u001b[0m     0.17276    1.00006  1.94s\n",
      "     44     \u001b[36m0.17277\u001b[0m     0.17277    1.00004  1.88s\n",
      "     45     \u001b[36m0.17277\u001b[0m     0.17276    1.00003  1.42s\n",
      "     46     \u001b[36m0.17277\u001b[0m     0.17277    1.00001  1.28s\n",
      "     47     \u001b[36m0.17277\u001b[0m     \u001b[32m0.17276\u001b[0m    1.00002  1.31s\n",
      "     48     \u001b[36m0.17276\u001b[0m     \u001b[32m0.17276\u001b[0m    1.00001  1.29s\n",
      "     49     \u001b[36m0.17276\u001b[0m     \u001b[32m0.17276\u001b[0m    1.00000  1.33s\n",
      "     50     \u001b[36m0.17276\u001b[0m     \u001b[32m0.17276\u001b[0m    1.00000  1.35s\n",
      "train precision: 0.622427424709\n",
      "train recall: 0.129165988252\n",
      "train accuracy: 0.763156907845\n",
      "test precision: 0.618767638758\n",
      "test recall: 0.131510546836\n",
      "test accuracy: 0.762538126906\n"
     ]
    }
   ],
   "source": [
    "model = train_nn(X_train, y_train, X_test, y_test)"
   ]
  },
  {
   "cell_type": "code",
   "execution_count": 138,
   "metadata": {
    "collapsed": false
   },
   "outputs": [
    {
     "name": "stdout",
     "output_type": "stream",
     "text": [
      "overall input shape: (1681, 23)\n"
     ]
    },
    {
     "data": {
      "image/png": "[encoded data removed]",
      "text/plain": [
       "<matplotlib.figure.Figure at 0x10a022b00>"
      ]
     },
     "metadata": {},
     "output_type": "display_data"
    }
   ],
   "source": [
    "def predict_fun(model, data):\n",
    "    return model.predict(data)[:, 0]\n",
    "\n",
    "plot_rank(['price', 'ratings_average'], model, learning_data, predict_fun)"
   ]
  },
  {
   "cell_type": "code",
   "execution_count": null,
   "metadata": {
    "collapsed": true
   },
   "outputs": [],
   "source": []
  }
 ],
 "metadata": {
  "hide_input": false,
  "kernelspec": {
   "display_name": "learning-to-rank",
   "language": "python",
   "name": "learning-to-rank"
  },
  "language_info": {
   "codemirror_mode": {
    "name": "ipython",
    "version": 3
   },
   "file_extension": ".py",
   "mimetype": "text/x-python",
   "name": "python",
   "nbconvert_exporter": "python",
   "pygments_lexer": "ipython3",
   "version": "3.5.0"
  }
 },
 "nbformat": 4,
 "nbformat_minor": 0
}
