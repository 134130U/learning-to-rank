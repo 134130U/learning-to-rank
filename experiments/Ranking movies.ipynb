{
 "cells": [
  {
   "cell_type": "code",
   "execution_count": 1,
   "metadata": {
    "collapsed": false
   },
   "outputs": [
    {
     "name": "stderr",
     "output_type": "stream",
     "text": [
      "/usr/local/lib/python3.4/dist-packages/sklearn/cross_validation.py:44: DeprecationWarning: This module was deprecated in version 0.18 in favor of the model_selection module into which all the refactored classes and functions are moved. Also note that the interface of the new CV iterators are different from that of this module. This module will be removed in 0.20.\n",
      "  \"This module will be removed in 0.20.\", DeprecationWarning)\n"
     ]
    }
   ],
   "source": [
    "import numpy as np\n",
    "import pandas as pd\n",
    "from sklearn.cross_validation import train_test_split\n",
    "from sklearn.metrics import mean_squared_error\n",
    "from sklearn.linear_model import LogisticRegression\n",
    "import pdb\n",
    "from sklearn.metrics import *\n",
    "%matplotlib inline\n",
    "import matplotlib.pyplot as plt"
   ]
  },
  {
   "cell_type": "markdown",
   "metadata": {},
   "source": [
    "# Load dataset"
   ]
  },
  {
   "cell_type": "code",
   "execution_count": 14,
   "metadata": {
    "collapsed": false
   },
   "outputs": [],
   "source": [
    "genres_data = pd.read_csv(\n",
    "    'movielens-dataset/u.genre', \n",
    "    sep = '|', \n",
    "    encoding = \"ISO-8859-1\", \n",
    "    header = None, \n",
    "    names=['name', 'id']\n",
    ")"
   ]
  },
  {
   "cell_type": "code",
   "execution_count": 15,
   "metadata": {
    "collapsed": true
   },
   "outputs": [],
   "source": [
    "movie_data_columns = np.append(\n",
    "    ['movie_id', 'title', 'release_date', 'video_release_date', 'url'], \n",
    "    genres_data['name'].values\n",
    ")"
   ]
  },
  {
   "cell_type": "code",
   "execution_count": 16,
   "metadata": {
    "collapsed": true
   },
   "outputs": [],
   "source": [
    "movie_data = pd.read_csv(\n",
    "    'movielens-dataset/u.item', \n",
    "    sep = '|', \n",
    "    encoding = \"ISO-8859-1\", \n",
    "    header = None, \n",
    "    names = movie_data_columns,\n",
    "    index_col = 'movie_id'\n",
    ")"
   ]
  },
  {
   "cell_type": "code",
   "execution_count": 17,
   "metadata": {
    "collapsed": false
   },
   "outputs": [
    {
     "data": {
      "text/html": [
       "<div>\n",
       "<table border=\"1\" class=\"dataframe\">\n",
       "  <thead>\n",
       "    <tr style=\"text-align: right;\">\n",
       "      <th></th>\n",
       "      <th>title</th>\n",
       "      <th>release_date</th>\n",
       "      <th>unknown</th>\n",
       "      <th>Action</th>\n",
       "      <th>Adventure</th>\n",
       "      <th>Animation</th>\n",
       "      <th>Children's</th>\n",
       "      <th>Comedy</th>\n",
       "      <th>Crime</th>\n",
       "      <th>Documentary</th>\n",
       "      <th>...</th>\n",
       "      <th>Fantasy</th>\n",
       "      <th>Film-Noir</th>\n",
       "      <th>Horror</th>\n",
       "      <th>Musical</th>\n",
       "      <th>Mystery</th>\n",
       "      <th>Romance</th>\n",
       "      <th>Sci-Fi</th>\n",
       "      <th>Thriller</th>\n",
       "      <th>War</th>\n",
       "      <th>Western</th>\n",
       "    </tr>\n",
       "    <tr>\n",
       "      <th>movie_id</th>\n",
       "      <th></th>\n",
       "      <th></th>\n",
       "      <th></th>\n",
       "      <th></th>\n",
       "      <th></th>\n",
       "      <th></th>\n",
       "      <th></th>\n",
       "      <th></th>\n",
       "      <th></th>\n",
       "      <th></th>\n",
       "      <th></th>\n",
       "      <th></th>\n",
       "      <th></th>\n",
       "      <th></th>\n",
       "      <th></th>\n",
       "      <th></th>\n",
       "      <th></th>\n",
       "      <th></th>\n",
       "      <th></th>\n",
       "      <th></th>\n",
       "      <th></th>\n",
       "    </tr>\n",
       "  </thead>\n",
       "  <tbody>\n",
       "    <tr>\n",
       "      <th>1</th>\n",
       "      <td>Toy Story (1995)</td>\n",
       "      <td>1995-01-01</td>\n",
       "      <td>0</td>\n",
       "      <td>0</td>\n",
       "      <td>0</td>\n",
       "      <td>1</td>\n",
       "      <td>1</td>\n",
       "      <td>1</td>\n",
       "      <td>0</td>\n",
       "      <td>0</td>\n",
       "      <td>...</td>\n",
       "      <td>0</td>\n",
       "      <td>0</td>\n",
       "      <td>0</td>\n",
       "      <td>0</td>\n",
       "      <td>0</td>\n",
       "      <td>0</td>\n",
       "      <td>0</td>\n",
       "      <td>0</td>\n",
       "      <td>0</td>\n",
       "      <td>0</td>\n",
       "    </tr>\n",
       "    <tr>\n",
       "      <th>2</th>\n",
       "      <td>GoldenEye (1995)</td>\n",
       "      <td>1995-01-01</td>\n",
       "      <td>0</td>\n",
       "      <td>1</td>\n",
       "      <td>1</td>\n",
       "      <td>0</td>\n",
       "      <td>0</td>\n",
       "      <td>0</td>\n",
       "      <td>0</td>\n",
       "      <td>0</td>\n",
       "      <td>...</td>\n",
       "      <td>0</td>\n",
       "      <td>0</td>\n",
       "      <td>0</td>\n",
       "      <td>0</td>\n",
       "      <td>0</td>\n",
       "      <td>0</td>\n",
       "      <td>0</td>\n",
       "      <td>1</td>\n",
       "      <td>0</td>\n",
       "      <td>0</td>\n",
       "    </tr>\n",
       "    <tr>\n",
       "      <th>3</th>\n",
       "      <td>Four Rooms (1995)</td>\n",
       "      <td>1995-01-01</td>\n",
       "      <td>0</td>\n",
       "      <td>0</td>\n",
       "      <td>0</td>\n",
       "      <td>0</td>\n",
       "      <td>0</td>\n",
       "      <td>0</td>\n",
       "      <td>0</td>\n",
       "      <td>0</td>\n",
       "      <td>...</td>\n",
       "      <td>0</td>\n",
       "      <td>0</td>\n",
       "      <td>0</td>\n",
       "      <td>0</td>\n",
       "      <td>0</td>\n",
       "      <td>0</td>\n",
       "      <td>0</td>\n",
       "      <td>1</td>\n",
       "      <td>0</td>\n",
       "      <td>0</td>\n",
       "    </tr>\n",
       "    <tr>\n",
       "      <th>4</th>\n",
       "      <td>Get Shorty (1995)</td>\n",
       "      <td>1995-01-01</td>\n",
       "      <td>0</td>\n",
       "      <td>1</td>\n",
       "      <td>0</td>\n",
       "      <td>0</td>\n",
       "      <td>0</td>\n",
       "      <td>1</td>\n",
       "      <td>0</td>\n",
       "      <td>0</td>\n",
       "      <td>...</td>\n",
       "      <td>0</td>\n",
       "      <td>0</td>\n",
       "      <td>0</td>\n",
       "      <td>0</td>\n",
       "      <td>0</td>\n",
       "      <td>0</td>\n",
       "      <td>0</td>\n",
       "      <td>0</td>\n",
       "      <td>0</td>\n",
       "      <td>0</td>\n",
       "    </tr>\n",
       "    <tr>\n",
       "      <th>5</th>\n",
       "      <td>Copycat (1995)</td>\n",
       "      <td>1995-01-01</td>\n",
       "      <td>0</td>\n",
       "      <td>0</td>\n",
       "      <td>0</td>\n",
       "      <td>0</td>\n",
       "      <td>0</td>\n",
       "      <td>0</td>\n",
       "      <td>1</td>\n",
       "      <td>0</td>\n",
       "      <td>...</td>\n",
       "      <td>0</td>\n",
       "      <td>0</td>\n",
       "      <td>0</td>\n",
       "      <td>0</td>\n",
       "      <td>0</td>\n",
       "      <td>0</td>\n",
       "      <td>0</td>\n",
       "      <td>1</td>\n",
       "      <td>0</td>\n",
       "      <td>0</td>\n",
       "    </tr>\n",
       "  </tbody>\n",
       "</table>\n",
       "<p>5 rows × 21 columns</p>\n",
       "</div>"
      ],
      "text/plain": [
       "                      title release_date  unknown  Action  Adventure  \\\n",
       "movie_id                                                               \n",
       "1          Toy Story (1995)   1995-01-01        0       0          0   \n",
       "2          GoldenEye (1995)   1995-01-01        0       1          1   \n",
       "3         Four Rooms (1995)   1995-01-01        0       0          0   \n",
       "4         Get Shorty (1995)   1995-01-01        0       1          0   \n",
       "5            Copycat (1995)   1995-01-01        0       0          0   \n",
       "\n",
       "          Animation  Children's  Comedy  Crime  Documentary   ...     Fantasy  \\\n",
       "movie_id                                                      ...               \n",
       "1                 1           1       1      0            0   ...           0   \n",
       "2                 0           0       0      0            0   ...           0   \n",
       "3                 0           0       0      0            0   ...           0   \n",
       "4                 0           0       1      0            0   ...           0   \n",
       "5                 0           0       0      1            0   ...           0   \n",
       "\n",
       "          Film-Noir  Horror  Musical  Mystery  Romance  Sci-Fi  Thriller  War  \\\n",
       "movie_id                                                                        \n",
       "1                 0       0        0        0        0       0         0    0   \n",
       "2                 0       0        0        0        0       0         1    0   \n",
       "3                 0       0        0        0        0       0         1    0   \n",
       "4                 0       0        0        0        0       0         0    0   \n",
       "5                 0       0        0        0        0       0         1    0   \n",
       "\n",
       "          Western  \n",
       "movie_id           \n",
       "1               0  \n",
       "2               0  \n",
       "3               0  \n",
       "4               0  \n",
       "5               0  \n",
       "\n",
       "[5 rows x 21 columns]"
      ]
     },
     "execution_count": 17,
     "metadata": {},
     "output_type": "execute_result"
    }
   ],
   "source": [
    "selected_columns = np.append(['title', 'release_date'], genres_data['name'].values)\n",
    "movie_data = movie_data[selected_columns]\n",
    "movie_data['release_date'] = pd.to_datetime(movie_data['release_date'])\n",
    "\n",
    "movie_data.head()"
   ]
  },
  {
   "cell_type": "code",
   "execution_count": 18,
   "metadata": {
    "collapsed": false
   },
   "outputs": [],
   "source": [
    "ratings_data = pd.read_csv(\n",
    "    'movielens-dataset/u.data', \n",
    "    sep = '\\t', \n",
    "    encoding = \"ISO-8859-1\", \n",
    "    header = None, \n",
    "    names=['user_id', 'movie_id', 'rating', 'timestamp']\n",
    ")"
   ]
  },
  {
   "cell_type": "code",
   "execution_count": 19,
   "metadata": {
    "collapsed": false
   },
   "outputs": [],
   "source": [
    "movie_data['ratings_average'] = ratings_data.groupby(['movie_id'])['rating'].mean()\n",
    "movie_data['ratings_count'] = ratings_data.groupby(['movie_id'])['rating'].count()"
   ]
  },
  {
   "cell_type": "code",
   "execution_count": 20,
   "metadata": {
    "collapsed": false
   },
   "outputs": [
    {
     "data": {
      "text/html": [
       "<div>\n",
       "<table border=\"1\" class=\"dataframe\">\n",
       "  <thead>\n",
       "    <tr style=\"text-align: right;\">\n",
       "      <th></th>\n",
       "      <th>title</th>\n",
       "      <th>ratings_average</th>\n",
       "      <th>ratings_count</th>\n",
       "    </tr>\n",
       "    <tr>\n",
       "      <th>movie_id</th>\n",
       "      <th></th>\n",
       "      <th></th>\n",
       "      <th></th>\n",
       "    </tr>\n",
       "  </thead>\n",
       "  <tbody>\n",
       "    <tr>\n",
       "      <th>1</th>\n",
       "      <td>Toy Story (1995)</td>\n",
       "      <td>3.878319</td>\n",
       "      <td>452</td>\n",
       "    </tr>\n",
       "    <tr>\n",
       "      <th>2</th>\n",
       "      <td>GoldenEye (1995)</td>\n",
       "      <td>3.206107</td>\n",
       "      <td>131</td>\n",
       "    </tr>\n",
       "    <tr>\n",
       "      <th>3</th>\n",
       "      <td>Four Rooms (1995)</td>\n",
       "      <td>3.033333</td>\n",
       "      <td>90</td>\n",
       "    </tr>\n",
       "    <tr>\n",
       "      <th>4</th>\n",
       "      <td>Get Shorty (1995)</td>\n",
       "      <td>3.550239</td>\n",
       "      <td>209</td>\n",
       "    </tr>\n",
       "    <tr>\n",
       "      <th>5</th>\n",
       "      <td>Copycat (1995)</td>\n",
       "      <td>3.302326</td>\n",
       "      <td>86</td>\n",
       "    </tr>\n",
       "  </tbody>\n",
       "</table>\n",
       "</div>"
      ],
      "text/plain": [
       "                      title  ratings_average  ratings_count\n",
       "movie_id                                                   \n",
       "1          Toy Story (1995)         3.878319            452\n",
       "2          GoldenEye (1995)         3.206107            131\n",
       "3         Four Rooms (1995)         3.033333             90\n",
       "4         Get Shorty (1995)         3.550239            209\n",
       "5            Copycat (1995)         3.302326             86"
      ]
     },
     "execution_count": 20,
     "metadata": {},
     "output_type": "execute_result"
    }
   ],
   "source": [
    "movie_data[['title', 'ratings_average', 'ratings_count']].head()"
   ]
  },
  {
   "cell_type": "markdown",
   "metadata": {},
   "source": [
    "# Remove null values"
   ]
  },
  {
   "cell_type": "code",
   "execution_count": 21,
   "metadata": {
    "collapsed": false
   },
   "outputs": [
    {
     "data": {
      "text/plain": [
       "title           False\n",
       "release_date     True\n",
       "unknown         False\n",
       "Action          False\n",
       "Adventure       False\n",
       "Animation       False\n",
       "Children's      False\n",
       "Comedy          False\n",
       "Crime           False\n",
       "Documentary     False\n",
       "Drama           False\n",
       "Fantasy         False\n",
       "Film-Noir       False\n",
       "Horror          False\n",
       "Musical         False\n",
       "Mystery         False\n",
       "Romance         False\n",
       "Sci-Fi          False\n",
       "Thriller        False\n",
       "War             False\n",
       "Western         False\n",
       "dtype: bool"
      ]
     },
     "execution_count": 21,
     "metadata": {},
     "output_type": "execute_result"
    }
   ],
   "source": [
    "movie_data[selected_columns].isnull().any()"
   ]
  },
  {
   "cell_type": "code",
   "execution_count": 22,
   "metadata": {
    "collapsed": true
   },
   "outputs": [],
   "source": [
    "null_release_dates = movie_data[movie_data['release_date'].isnull()]\n",
    "assert null_release_dates.shape[0] == 1"
   ]
  },
  {
   "cell_type": "code",
   "execution_count": 23,
   "metadata": {
    "collapsed": true
   },
   "outputs": [],
   "source": [
    "movie_data = movie_data.drop(null_release_dates.index.values)\n",
    "assert movie_data[selected_columns].isnull().any().any() == False"
   ]
  },
  {
   "cell_type": "markdown",
   "metadata": {},
   "source": [
    "# Check data types"
   ]
  },
  {
   "cell_type": "code",
   "execution_count": 24,
   "metadata": {
    "collapsed": false
   },
   "outputs": [
    {
     "data": {
      "text/plain": [
       "title                      object\n",
       "release_date       datetime64[ns]\n",
       "unknown                     int64\n",
       "Action                      int64\n",
       "Adventure                   int64\n",
       "Animation                   int64\n",
       "Children's                  int64\n",
       "Comedy                      int64\n",
       "Crime                       int64\n",
       "Documentary                 int64\n",
       "Drama                       int64\n",
       "Fantasy                     int64\n",
       "Film-Noir                   int64\n",
       "Horror                      int64\n",
       "Musical                     int64\n",
       "Mystery                     int64\n",
       "Romance                     int64\n",
       "Sci-Fi                      int64\n",
       "Thriller                    int64\n",
       "War                         int64\n",
       "Western                     int64\n",
       "ratings_average           float64\n",
       "ratings_count               int64\n",
       "dtype: object"
      ]
     },
     "execution_count": 24,
     "metadata": {},
     "output_type": "execute_result"
    }
   ],
   "source": [
    "movie_data.dtypes"
   ]
  },
  {
   "cell_type": "markdown",
   "metadata": {},
   "source": [
    "# Compute the artificial \"price\" and \"buy_probability\" attributes"
   ]
  },
  {
   "cell_type": "code",
   "execution_count": 25,
   "metadata": {
    "collapsed": false
   },
   "outputs": [],
   "source": [
    "from datetime import datetime\n",
    "import dateutil"
   ]
  },
  {
   "cell_type": "code",
   "execution_count": 26,
   "metadata": {
    "collapsed": false
   },
   "outputs": [
    {
     "data": {
      "text/html": [
       "<div>\n",
       "<table border=\"1\" class=\"dataframe\">\n",
       "  <thead>\n",
       "    <tr style=\"text-align: right;\">\n",
       "      <th></th>\n",
       "      <th>title</th>\n",
       "      <th>price</th>\n",
       "      <th>ratings_average</th>\n",
       "      <th>ratings_count</th>\n",
       "    </tr>\n",
       "    <tr>\n",
       "      <th>movie_id</th>\n",
       "      <th></th>\n",
       "      <th></th>\n",
       "      <th></th>\n",
       "      <th></th>\n",
       "    </tr>\n",
       "  </thead>\n",
       "  <tbody>\n",
       "    <tr>\n",
       "      <th>1</th>\n",
       "      <td>Toy Story (1995)</td>\n",
       "      <td>7.0</td>\n",
       "      <td>3.878319</td>\n",
       "      <td>452</td>\n",
       "    </tr>\n",
       "    <tr>\n",
       "      <th>2</th>\n",
       "      <td>GoldenEye (1995)</td>\n",
       "      <td>5.0</td>\n",
       "      <td>3.206107</td>\n",
       "      <td>131</td>\n",
       "    </tr>\n",
       "    <tr>\n",
       "      <th>3</th>\n",
       "      <td>Four Rooms (1995)</td>\n",
       "      <td>5.0</td>\n",
       "      <td>3.033333</td>\n",
       "      <td>90</td>\n",
       "    </tr>\n",
       "    <tr>\n",
       "      <th>4</th>\n",
       "      <td>Get Shorty (1995)</td>\n",
       "      <td>6.0</td>\n",
       "      <td>3.550239</td>\n",
       "      <td>209</td>\n",
       "    </tr>\n",
       "    <tr>\n",
       "      <th>5</th>\n",
       "      <td>Copycat (1995)</td>\n",
       "      <td>5.0</td>\n",
       "      <td>3.302326</td>\n",
       "      <td>86</td>\n",
       "    </tr>\n",
       "  </tbody>\n",
       "</table>\n",
       "</div>"
      ],
      "text/plain": [
       "                      title  price  ratings_average  ratings_count\n",
       "movie_id                                                          \n",
       "1          Toy Story (1995)    7.0         3.878319            452\n",
       "2          GoldenEye (1995)    5.0         3.206107            131\n",
       "3         Four Rooms (1995)    5.0         3.033333             90\n",
       "4         Get Shorty (1995)    6.0         3.550239            209\n",
       "5            Copycat (1995)    5.0         3.302326             86"
      ]
     },
     "execution_count": 26,
     "metadata": {},
     "output_type": "execute_result"
    }
   ],
   "source": [
    "oldest_date = pd.to_datetime(movie_data['release_date']).min()\n",
    "most_recent_date = pd.to_datetime(movie_data['release_date']).max()\n",
    "normalised_age = (most_recent_date - pd.to_datetime(movie_data['release_date'])) / (most_recent_date - oldest_date)\n",
    "normalised_rating = (5 - movie_data['ratings_average']) / (5 - 1)\n",
    "\n",
    "movie_data['price'] = np.round((1 - normalised_rating) * (1 - normalised_age) * 10)\n",
    "movie_data[['title', 'price', 'ratings_average', 'ratings_count']].head()"
   ]
  },
  {
   "cell_type": "code",
   "execution_count": 27,
   "metadata": {
    "collapsed": true
   },
   "outputs": [],
   "source": [
    "# one movie had title unknown, relesease data unknown, etc...\n",
    "movie_data = movie_data[movie_data['price'].notnull()]"
   ]
  },
  {
   "cell_type": "code",
   "execution_count": 28,
   "metadata": {
    "collapsed": false
   },
   "outputs": [],
   "source": [
    "# the lower the price, the more likely I am going to buy\n",
    "movie_data['buy_probability'] = 1 - movie_data['price'] * 0.1"
   ]
  },
  {
   "cell_type": "markdown",
   "metadata": {},
   "source": [
    "# The perfect ranking"
   ]
  },
  {
   "cell_type": "code",
   "execution_count": 29,
   "metadata": {
    "collapsed": false
   },
   "outputs": [
    {
     "data": {
      "image/png": "[encoded data removed]",
      "text/plain": [
       "<matplotlib.figure.Figure at 0x7f44f6398550>"
      ]
     },
     "metadata": {},
     "output_type": "display_data"
    }
   ],
   "source": [
    "plt.plot(movie_data['price'].values, movie_data['buy_probability'].values, 'ro') # ro = red circles\n",
    "plt.show()"
   ]
  },
  {
   "cell_type": "markdown",
   "metadata": {},
   "source": [
    "## Genres distribution"
   ]
  },
  {
   "cell_type": "code",
   "execution_count": 30,
   "metadata": {
    "collapsed": false
   },
   "outputs": [
    {
     "data": {
      "text/html": [
       "<div>\n",
       "<table border=\"1\" class=\"dataframe\">\n",
       "  <thead>\n",
       "    <tr style=\"text-align: right;\">\n",
       "      <th></th>\n",
       "      <th>count</th>\n",
       "      <th>name</th>\n",
       "    </tr>\n",
       "  </thead>\n",
       "  <tbody>\n",
       "    <tr>\n",
       "      <th>0</th>\n",
       "      <td>1</td>\n",
       "      <td>unknown</td>\n",
       "    </tr>\n",
       "    <tr>\n",
       "      <th>1</th>\n",
       "      <td>251</td>\n",
       "      <td>Action</td>\n",
       "    </tr>\n",
       "    <tr>\n",
       "      <th>2</th>\n",
       "      <td>135</td>\n",
       "      <td>Adventure</td>\n",
       "    </tr>\n",
       "    <tr>\n",
       "      <th>3</th>\n",
       "      <td>42</td>\n",
       "      <td>Animation</td>\n",
       "    </tr>\n",
       "    <tr>\n",
       "      <th>4</th>\n",
       "      <td>122</td>\n",
       "      <td>Children's</td>\n",
       "    </tr>\n",
       "  </tbody>\n",
       "</table>\n",
       "</div>"
      ],
      "text/plain": [
       "   count        name\n",
       "0      1     unknown\n",
       "1    251      Action\n",
       "2    135   Adventure\n",
       "3     42   Animation\n",
       "4    122  Children's"
      ]
     },
     "execution_count": 30,
     "metadata": {},
     "output_type": "execute_result"
    }
   ],
   "source": [
    "genres_array = [(genre, movie_data[genre].sum()) for genre in genres_data['name'].values]\n",
    "genres_names = list(map(lambda x: x[0], genres_array))\n",
    "genres_count = list(map(lambda x: x[1], genres_array))\n",
    "\n",
    "genres_df = pd.DataFrame({'name': genres_names, 'count': genres_count})\n",
    "genres_df.head()"
   ]
  },
  {
   "cell_type": "code",
   "execution_count": 31,
   "metadata": {
    "collapsed": false
   },
   "outputs": [
    {
     "data": {
      "image/png": "[encoded data removed]",
      "text/plain": [
       "<matplotlib.figure.Figure at 0x7f44f646f710>"
      ]
     },
     "metadata": {},
     "output_type": "display_data"
    }
   ],
   "source": [
    "x = np.arange(len(genres_df['name'].values))\n",
    "plt.bar(x, genres_df['count'].values)\n",
    "plt.xticks(x, genres_df['name'].values, rotation='vertical')\n",
    "plt.show()"
   ]
  },
  {
   "cell_type": "markdown",
   "metadata": {},
   "source": [
    "## Release date distribution"
   ]
  },
  {
   "cell_type": "code",
   "execution_count": 32,
   "metadata": {
    "collapsed": false
   },
   "outputs": [
    {
     "data": {
      "image/png": "[encoded data removed]",
      "text/plain": [
       "<matplotlib.figure.Figure at 0x7f44f64cdc88>"
      ]
     },
     "metadata": {},
     "output_type": "display_data"
    }
   ],
   "source": [
    "years = movie_data['release_date'].values.astype('datetime64[Y]').astype(int) + 1970\n",
    "plt.hist(years)\n",
    "plt.show()"
   ]
  },
  {
   "cell_type": "markdown",
   "metadata": {},
   "source": [
    "## Ratings average distribution"
   ]
  },
  {
   "cell_type": "code",
   "execution_count": 33,
   "metadata": {
    "collapsed": false
   },
   "outputs": [
    {
     "data": {
      "text/plain": [
       "<matplotlib.axes._subplots.AxesSubplot at 0x7f44f5112a58>"
      ]
     },
     "execution_count": 33,
     "metadata": {},
     "output_type": "execute_result"
    },
    {
     "data": {
      "image/png": "[encoded data removed]",
      "text/plain": [
       "<matplotlib.figure.Figure at 0x7f44f64e2b38>"
      ]
     },
     "metadata": {},
     "output_type": "display_data"
    }
   ],
   "source": [
    "movie_data['ratings_average'].hist()"
   ]
  },
  {
   "cell_type": "markdown",
   "metadata": {},
   "source": [
    "## Price"
   ]
  },
  {
   "cell_type": "code",
   "execution_count": 34,
   "metadata": {
    "collapsed": false
   },
   "outputs": [
    {
     "data": {
      "text/plain": [
       "<matplotlib.axes._subplots.AxesSubplot at 0x7f44f51a5390>"
      ]
     },
     "execution_count": 34,
     "metadata": {},
     "output_type": "execute_result"
    },
    {
     "data": {
      "image/png": "[encoded data removed]",
      "text/plain": [
       "<matplotlib.figure.Figure at 0x7f44f629e748>"
      ]
     },
     "metadata": {},
     "output_type": "display_data"
    }
   ],
   "source": [
    "movie_data['price'].hist()"
   ]
  },
  {
   "cell_type": "markdown",
   "metadata": {},
   "source": [
    "## Ratings count distribution"
   ]
  },
  {
   "cell_type": "code",
   "execution_count": 35,
   "metadata": {
    "collapsed": false
   },
   "outputs": [
    {
     "data": {
      "text/plain": [
       "<matplotlib.axes._subplots.AxesSubplot at 0x7f44f5051d30>"
      ]
     },
     "execution_count": 35,
     "metadata": {},
     "output_type": "execute_result"
    },
    {
     "data": {
      "image/png": "[encoded data removed]",
      "text/plain": [
       "<matplotlib.figure.Figure at 0x7f44f4fb5ba8>"
      ]
     },
     "metadata": {},
     "output_type": "display_data"
    }
   ],
   "source": [
    "movie_data['ratings_count'].hist()"
   ]
  },
  {
   "cell_type": "markdown",
   "metadata": {},
   "source": [
    "## Buy probability distribution"
   ]
  },
  {
   "cell_type": "code",
   "execution_count": 36,
   "metadata": {
    "collapsed": false,
    "scrolled": true
   },
   "outputs": [
    {
     "data": {
      "text/plain": [
       "<matplotlib.axes._subplots.AxesSubplot at 0x7f44f502e208>"
      ]
     },
     "execution_count": 36,
     "metadata": {},
     "output_type": "execute_result"
    },
    {
     "data": {
      "image/png": "[encoded data removed]",
      "text/plain": [
       "<matplotlib.figure.Figure at 0x7f44f4f2c4e0>"
      ]
     },
     "metadata": {},
     "output_type": "display_data"
    }
   ],
   "source": [
    "movie_data['buy_probability'].hist(bins=11)"
   ]
  },
  {
   "cell_type": "markdown",
   "metadata": {},
   "source": [
    "# Events database"
   ]
  },
  {
   "cell_type": "markdown",
   "metadata": {},
   "source": [
    "Each user has a certain probability of renting a movie. Let `X` the random variable being `1` if the user rented the movie and `0` otherwise.  \n",
    "\n",
    "$$X \\backsim Bernoulli(p)$$\n",
    "\n",
    "where $p=f(movie~features)$."
   ]
  },
  {
   "cell_type": "code",
   "execution_count": 27,
   "metadata": {
    "collapsed": true
   },
   "outputs": [],
   "source": [
    "np.random.seed(1)"
   ]
  },
  {
   "cell_type": "code",
   "execution_count": 28,
   "metadata": {
    "collapsed": true
   },
   "outputs": [],
   "source": [
    "# Saw a movie and ended up buying it\n",
    "# [\n",
    "#   user_1: [list of movies]\n",
    "#   user_2: [list of movies]\n",
    "#   ...\n",
    "# ]\n",
    "class PositiveEvents:\n",
    "    def __init__(self):\n",
    "        self.data = []\n",
    "    \n",
    "    def add(self, user_id, movie_id):\n",
    "        self.data.append({'user_id': user_id, 'movie_id': movie_id})\n",
    "    \n",
    "    def all(self):\n",
    "        return self.data\n",
    "\n",
    "# Saw a movie but did not buy\n",
    "# [\n",
    "#   user_1: [list of movies]\n",
    "#   user_2: [list of movies]\n",
    "#   ...\n",
    "# ]\n",
    "class NegativeEvents:\n",
    "    def __init__(self):\n",
    "        self.data = []\n",
    "        \n",
    "    def add(self, user_id, movie_id):\n",
    "        self.data.append({'user_id': user_id, 'movie_id': movie_id})\n",
    "    \n",
    "    def all(self):\n",
    "        return self.data\n",
    "\n",
    "# The users database\n",
    "class Users:\n",
    "    def __init__(self):\n",
    "        self.data = []\n",
    "        \n",
    "    def add(self, user_id):\n",
    "        self.data.append({'user_id': user_id})\n",
    "    \n",
    "    def all(self):\n",
    "        return self.data"
   ]
  },
  {
   "cell_type": "code",
   "execution_count": 29,
   "metadata": {
    "collapsed": false
   },
   "outputs": [],
   "source": [
    "NUM_OF_OPENED_MOVIES_PER_USER = 20\n",
    "NUM_OF_USERS = 20000\n",
    "\n",
    "users = Users()\n",
    "positive_events = PositiveEvents()\n",
    "negative_events = NegativeEvents()\n",
    "\n",
    "for id in range(1, NUM_OF_USERS):\n",
    "    users.add(id)\n",
    "\n",
    "for user in users.all():\n",
    "    opened_movies = np.random.choice(movie_data.index.values, NUM_OF_OPENED_MOVIES_PER_USER)\n",
    "    \n",
    "    for movie_id in opened_movies:\n",
    "        if np.random.binomial(1, movie_data.loc[movie_id].buy_probability): \n",
    "            positive_events.add(user['user_id'], movie_id)\n",
    "        else:\n",
    "            negative_events.add(user['user_id'], movie_id)"
   ]
  },
  {
   "cell_type": "code",
   "execution_count": 30,
   "metadata": {
    "collapsed": false
   },
   "outputs": [
    {
     "data": {
      "text/plain": [
       "(1681, 25)"
      ]
     },
     "execution_count": 30,
     "metadata": {},
     "output_type": "execute_result"
    }
   ],
   "source": [
    "movie_data.shape"
   ]
  },
  {
   "cell_type": "code",
   "execution_count": 31,
   "metadata": {
    "collapsed": false
   },
   "outputs": [
    {
     "data": {
      "text/plain": [
       "222185"
      ]
     },
     "execution_count": 31,
     "metadata": {},
     "output_type": "execute_result"
    }
   ],
   "source": [
    "len(positive_events.all())"
   ]
  },
  {
   "cell_type": "code",
   "execution_count": 32,
   "metadata": {
    "collapsed": false
   },
   "outputs": [
    {
     "data": {
      "text/plain": [
       "177795"
      ]
     },
     "execution_count": 32,
     "metadata": {},
     "output_type": "execute_result"
    }
   ],
   "source": [
    "len(negative_events.all())"
   ]
  },
  {
   "cell_type": "markdown",
   "metadata": {},
   "source": [
    "# Generates data for training/testing"
   ]
  },
  {
   "cell_type": "code",
   "execution_count": 57,
   "metadata": {
    "collapsed": true
   },
   "outputs": [],
   "source": [
    "from sklearn import preprocessing\n",
    "from sklearn.preprocessing import StandardScaler"
   ]
  },
  {
   "cell_type": "code",
   "execution_count": 58,
   "metadata": {
    "collapsed": false
   },
   "outputs": [
    {
     "data": {
      "text/html": [
       "<div>\n",
       "<table border=\"1\" class=\"dataframe\">\n",
       "  <thead>\n",
       "    <tr style=\"text-align: right;\">\n",
       "      <th></th>\n",
       "      <th>title</th>\n",
       "      <th>release_date</th>\n",
       "      <th>unknown</th>\n",
       "      <th>Action</th>\n",
       "      <th>Adventure</th>\n",
       "      <th>Animation</th>\n",
       "      <th>Children's</th>\n",
       "      <th>Comedy</th>\n",
       "      <th>Crime</th>\n",
       "      <th>Documentary</th>\n",
       "      <th>...</th>\n",
       "      <th>Mystery</th>\n",
       "      <th>Romance</th>\n",
       "      <th>Sci-Fi</th>\n",
       "      <th>Thriller</th>\n",
       "      <th>War</th>\n",
       "      <th>Western</th>\n",
       "      <th>ratings_average</th>\n",
       "      <th>ratings_count</th>\n",
       "      <th>price</th>\n",
       "      <th>buy_probability</th>\n",
       "    </tr>\n",
       "    <tr>\n",
       "      <th>movie_id</th>\n",
       "      <th></th>\n",
       "      <th></th>\n",
       "      <th></th>\n",
       "      <th></th>\n",
       "      <th></th>\n",
       "      <th></th>\n",
       "      <th></th>\n",
       "      <th></th>\n",
       "      <th></th>\n",
       "      <th></th>\n",
       "      <th></th>\n",
       "      <th></th>\n",
       "      <th></th>\n",
       "      <th></th>\n",
       "      <th></th>\n",
       "      <th></th>\n",
       "      <th></th>\n",
       "      <th></th>\n",
       "      <th></th>\n",
       "      <th></th>\n",
       "      <th></th>\n",
       "    </tr>\n",
       "  </thead>\n",
       "  <tbody>\n",
       "    <tr>\n",
       "      <th>1</th>\n",
       "      <td>Toy Story (1995)</td>\n",
       "      <td>1995-01-01</td>\n",
       "      <td>0</td>\n",
       "      <td>0</td>\n",
       "      <td>0</td>\n",
       "      <td>1</td>\n",
       "      <td>1</td>\n",
       "      <td>1</td>\n",
       "      <td>0</td>\n",
       "      <td>0</td>\n",
       "      <td>...</td>\n",
       "      <td>0</td>\n",
       "      <td>0</td>\n",
       "      <td>0</td>\n",
       "      <td>0</td>\n",
       "      <td>0</td>\n",
       "      <td>0</td>\n",
       "      <td>3.878319</td>\n",
       "      <td>452</td>\n",
       "      <td>7.0</td>\n",
       "      <td>0.3</td>\n",
       "    </tr>\n",
       "  </tbody>\n",
       "</table>\n",
       "<p>1 rows × 25 columns</p>\n",
       "</div>"
      ],
      "text/plain": [
       "                     title release_date  unknown  Action  Adventure  \\\n",
       "movie_id                                                              \n",
       "1         Toy Story (1995)   1995-01-01        0       0          0   \n",
       "\n",
       "          Animation  Children's  Comedy  Crime  Documentary       ...         \\\n",
       "movie_id                                                          ...          \n",
       "1                 1           1       1      0            0       ...          \n",
       "\n",
       "          Mystery  Romance  Sci-Fi  Thriller  War  Western  ratings_average  \\\n",
       "movie_id                                                                      \n",
       "1               0        0       0         0    0        0         3.878319   \n",
       "\n",
       "          ratings_count  price  buy_probability  \n",
       "movie_id                                         \n",
       "1                   452    7.0              0.3  \n",
       "\n",
       "[1 rows x 25 columns]"
      ]
     },
     "execution_count": 58,
     "metadata": {},
     "output_type": "execute_result"
    }
   ],
   "source": [
    "movie_data.head(1)"
   ]
  },
  {
   "cell_type": "code",
   "execution_count": 59,
   "metadata": {
    "collapsed": false
   },
   "outputs": [
    {
     "data": {
      "text/plain": [
       "array(['Action', 'Adventure', 'Animation', \"Children's\", 'Comedy', 'Crime',\n",
       "       'Documentary', 'Drama', 'Fantasy', 'Film-Noir', 'Horror', 'Musical',\n",
       "       'Mystery', 'Romance', 'Sci-Fi', 'Thriller', 'War', 'Western',\n",
       "       'price', 'ratings_average', 'ratings_count', 'release_date',\n",
       "       'unknown'], dtype=object)"
      ]
     },
     "execution_count": 59,
     "metadata": {},
     "output_type": "execute_result"
    }
   ],
   "source": [
    "feature_columns = np.setdiff1d(movie_data.columns, np.array(['title', 'buy_probability']))\n",
    "feature_columns"
   ]
  },
  {
   "cell_type": "code",
   "execution_count": 60,
   "metadata": {
    "collapsed": false,
    "scrolled": true
   },
   "outputs": [
    {
     "data": {
      "text/html": [
       "<div>\n",
       "<table border=\"1\" class=\"dataframe\">\n",
       "  <thead>\n",
       "    <tr style=\"text-align: right;\">\n",
       "      <th></th>\n",
       "      <th>Action</th>\n",
       "      <th>Adventure</th>\n",
       "      <th>Animation</th>\n",
       "      <th>Children's</th>\n",
       "      <th>Comedy</th>\n",
       "      <th>Crime</th>\n",
       "      <th>Documentary</th>\n",
       "      <th>Drama</th>\n",
       "      <th>Fantasy</th>\n",
       "      <th>Film-Noir</th>\n",
       "      <th>...</th>\n",
       "      <th>Romance</th>\n",
       "      <th>Sci-Fi</th>\n",
       "      <th>Thriller</th>\n",
       "      <th>War</th>\n",
       "      <th>Western</th>\n",
       "      <th>price</th>\n",
       "      <th>ratings_average</th>\n",
       "      <th>ratings_count</th>\n",
       "      <th>release_date</th>\n",
       "      <th>unknown</th>\n",
       "    </tr>\n",
       "    <tr>\n",
       "      <th>movie_id</th>\n",
       "      <th></th>\n",
       "      <th></th>\n",
       "      <th></th>\n",
       "      <th></th>\n",
       "      <th></th>\n",
       "      <th></th>\n",
       "      <th></th>\n",
       "      <th></th>\n",
       "      <th></th>\n",
       "      <th></th>\n",
       "      <th></th>\n",
       "      <th></th>\n",
       "      <th></th>\n",
       "      <th></th>\n",
       "      <th></th>\n",
       "      <th></th>\n",
       "      <th></th>\n",
       "      <th></th>\n",
       "      <th></th>\n",
       "      <th></th>\n",
       "      <th></th>\n",
       "    </tr>\n",
       "  </thead>\n",
       "  <tbody>\n",
       "    <tr>\n",
       "      <th>1</th>\n",
       "      <td>0</td>\n",
       "      <td>0</td>\n",
       "      <td>1</td>\n",
       "      <td>1</td>\n",
       "      <td>1</td>\n",
       "      <td>0</td>\n",
       "      <td>0</td>\n",
       "      <td>0</td>\n",
       "      <td>0</td>\n",
       "      <td>0</td>\n",
       "      <td>...</td>\n",
       "      <td>0</td>\n",
       "      <td>0</td>\n",
       "      <td>0</td>\n",
       "      <td>0</td>\n",
       "      <td>0</td>\n",
       "      <td>7.0</td>\n",
       "      <td>3.878319</td>\n",
       "      <td>452</td>\n",
       "      <td>1995-01-01</td>\n",
       "      <td>0</td>\n",
       "    </tr>\n",
       "  </tbody>\n",
       "</table>\n",
       "<p>1 rows × 23 columns</p>\n",
       "</div>"
      ],
      "text/plain": [
       "          Action  Adventure  Animation  Children's  Comedy  Crime  \\\n",
       "movie_id                                                            \n",
       "1              0          0          1           1       1      0   \n",
       "\n",
       "          Documentary  Drama  Fantasy  Film-Noir   ...     Romance  Sci-Fi  \\\n",
       "movie_id                                           ...                       \n",
       "1                   0      0        0          0   ...           0       0   \n",
       "\n",
       "          Thriller  War  Western  price  ratings_average  ratings_count  \\\n",
       "movie_id                                                                  \n",
       "1                0    0        0    7.0         3.878319            452   \n",
       "\n",
       "          release_date  unknown  \n",
       "movie_id                         \n",
       "1           1995-01-01        0  \n",
       "\n",
       "[1 rows x 23 columns]"
      ]
     },
     "execution_count": 60,
     "metadata": {},
     "output_type": "execute_result"
    }
   ],
   "source": [
    "learning_data = movie_data.loc[:, feature_columns]\n",
    "learning_data.head(1)"
   ]
  },
  {
   "cell_type": "code",
   "execution_count": 61,
   "metadata": {
    "collapsed": false
   },
   "outputs": [
    {
     "data": {
      "text/html": [
       "<div>\n",
       "<table border=\"1\" class=\"dataframe\">\n",
       "  <thead>\n",
       "    <tr style=\"text-align: right;\">\n",
       "      <th></th>\n",
       "      <th>Action</th>\n",
       "      <th>Adventure</th>\n",
       "      <th>Animation</th>\n",
       "      <th>Children's</th>\n",
       "      <th>Comedy</th>\n",
       "      <th>Crime</th>\n",
       "      <th>Documentary</th>\n",
       "      <th>Drama</th>\n",
       "      <th>Fantasy</th>\n",
       "      <th>Film-Noir</th>\n",
       "      <th>...</th>\n",
       "      <th>Romance</th>\n",
       "      <th>Sci-Fi</th>\n",
       "      <th>Thriller</th>\n",
       "      <th>War</th>\n",
       "      <th>Western</th>\n",
       "      <th>price</th>\n",
       "      <th>ratings_average</th>\n",
       "      <th>ratings_count</th>\n",
       "      <th>release_date</th>\n",
       "      <th>unknown</th>\n",
       "    </tr>\n",
       "    <tr>\n",
       "      <th>movie_id</th>\n",
       "      <th></th>\n",
       "      <th></th>\n",
       "      <th></th>\n",
       "      <th></th>\n",
       "      <th></th>\n",
       "      <th></th>\n",
       "      <th></th>\n",
       "      <th></th>\n",
       "      <th></th>\n",
       "      <th></th>\n",
       "      <th></th>\n",
       "      <th></th>\n",
       "      <th></th>\n",
       "      <th></th>\n",
       "      <th></th>\n",
       "      <th></th>\n",
       "      <th></th>\n",
       "      <th></th>\n",
       "      <th></th>\n",
       "      <th></th>\n",
       "      <th></th>\n",
       "    </tr>\n",
       "  </thead>\n",
       "  <tbody>\n",
       "    <tr>\n",
       "      <th>1</th>\n",
       "      <td>0</td>\n",
       "      <td>0</td>\n",
       "      <td>1</td>\n",
       "      <td>1</td>\n",
       "      <td>1</td>\n",
       "      <td>0</td>\n",
       "      <td>0</td>\n",
       "      <td>0</td>\n",
       "      <td>0</td>\n",
       "      <td>0</td>\n",
       "      <td>...</td>\n",
       "      <td>0</td>\n",
       "      <td>0</td>\n",
       "      <td>0</td>\n",
       "      <td>0</td>\n",
       "      <td>0</td>\n",
       "      <td>1.344357</td>\n",
       "      <td>1.026718</td>\n",
       "      <td>4.883605</td>\n",
       "      <td>0.393978</td>\n",
       "      <td>0</td>\n",
       "    </tr>\n",
       "  </tbody>\n",
       "</table>\n",
       "<p>1 rows × 23 columns</p>\n",
       "</div>"
      ],
      "text/plain": [
       "          Action  Adventure  Animation  Children's  Comedy  Crime  \\\n",
       "movie_id                                                            \n",
       "1              0          0          1           1       1      0   \n",
       "\n",
       "          Documentary  Drama  Fantasy  Film-Noir   ...     Romance  Sci-Fi  \\\n",
       "movie_id                                           ...                       \n",
       "1                   0      0        0          0   ...           0       0   \n",
       "\n",
       "          Thriller  War  Western     price  ratings_average  ratings_count  \\\n",
       "movie_id                                                                     \n",
       "1                0    0        0  1.344357         1.026718       4.883605   \n",
       "\n",
       "          release_date  unknown  \n",
       "movie_id                         \n",
       "1             0.393978        0  \n",
       "\n",
       "[1 rows x 23 columns]"
      ]
     },
     "execution_count": 61,
     "metadata": {},
     "output_type": "execute_result"
    }
   ],
   "source": [
    "scaler = StandardScaler()\n",
    "learning_data.loc[:, ('price')] = scaler.fit_transform(learning_data[['price']])\n",
    "learning_data['ratings_average'] = scaler.fit_transform(learning_data[['ratings_average']])\n",
    "learning_data['ratings_count'] = scaler.fit_transform(learning_data[['ratings_count']])\n",
    "learning_data['release_date'] = learning_data['release_date'].apply(lambda x: x.year)\n",
    "learning_data['release_date'] = scaler.fit_transform(learning_data[['release_date']])\n",
    "\n",
    "learning_data.head(1)"
   ]
  },
  {
   "cell_type": "markdown",
   "metadata": {},
   "source": [
    "# Create the events for learning"
   ]
  },
  {
   "cell_type": "code",
   "execution_count": 38,
   "metadata": {
    "collapsed": false
   },
   "outputs": [
    {
     "data": {
      "text/html": [
       "<div>\n",
       "<table border=\"1\" class=\"dataframe\">\n",
       "  <thead>\n",
       "    <tr style=\"text-align: right;\">\n",
       "      <th></th>\n",
       "      <th>Action</th>\n",
       "      <th>Adventure</th>\n",
       "      <th>Animation</th>\n",
       "      <th>Children's</th>\n",
       "      <th>Comedy</th>\n",
       "      <th>Crime</th>\n",
       "      <th>Documentary</th>\n",
       "      <th>Drama</th>\n",
       "      <th>Fantasy</th>\n",
       "      <th>Film-Noir</th>\n",
       "      <th>...</th>\n",
       "      <th>Sci-Fi</th>\n",
       "      <th>Thriller</th>\n",
       "      <th>War</th>\n",
       "      <th>Western</th>\n",
       "      <th>outcome</th>\n",
       "      <th>price</th>\n",
       "      <th>ratings_average</th>\n",
       "      <th>ratings_count</th>\n",
       "      <th>release_date</th>\n",
       "      <th>unknown</th>\n",
       "    </tr>\n",
       "  </thead>\n",
       "  <tbody>\n",
       "    <tr>\n",
       "      <th>0</th>\n",
       "      <td>0</td>\n",
       "      <td>0</td>\n",
       "      <td>0</td>\n",
       "      <td>0</td>\n",
       "      <td>1</td>\n",
       "      <td>0</td>\n",
       "      <td>0</td>\n",
       "      <td>0</td>\n",
       "      <td>0</td>\n",
       "      <td>0</td>\n",
       "      <td>...</td>\n",
       "      <td>0</td>\n",
       "      <td>0</td>\n",
       "      <td>0</td>\n",
       "      <td>0</td>\n",
       "      <td>1</td>\n",
       "      <td>-1.307443</td>\n",
       "      <td>-1.376422</td>\n",
       "      <td>-0.715191</td>\n",
       "      <td>0.534335</td>\n",
       "      <td>0</td>\n",
       "    </tr>\n",
       "    <tr>\n",
       "      <th>1</th>\n",
       "      <td>0</td>\n",
       "      <td>0</td>\n",
       "      <td>0</td>\n",
       "      <td>0</td>\n",
       "      <td>0</td>\n",
       "      <td>0</td>\n",
       "      <td>0</td>\n",
       "      <td>1</td>\n",
       "      <td>0</td>\n",
       "      <td>0</td>\n",
       "      <td>...</td>\n",
       "      <td>0</td>\n",
       "      <td>0</td>\n",
       "      <td>0</td>\n",
       "      <td>0</td>\n",
       "      <td>1</td>\n",
       "      <td>-2.368163</td>\n",
       "      <td>-2.655833</td>\n",
       "      <td>-0.727633</td>\n",
       "      <td>0.604514</td>\n",
       "      <td>0</td>\n",
       "    </tr>\n",
       "    <tr>\n",
       "      <th>2</th>\n",
       "      <td>1</td>\n",
       "      <td>0</td>\n",
       "      <td>0</td>\n",
       "      <td>0</td>\n",
       "      <td>0</td>\n",
       "      <td>0</td>\n",
       "      <td>0</td>\n",
       "      <td>0</td>\n",
       "      <td>0</td>\n",
       "      <td>0</td>\n",
       "      <td>...</td>\n",
       "      <td>0</td>\n",
       "      <td>0</td>\n",
       "      <td>0</td>\n",
       "      <td>0</td>\n",
       "      <td>1</td>\n",
       "      <td>-0.246723</td>\n",
       "      <td>-0.459109</td>\n",
       "      <td>-0.080661</td>\n",
       "      <td>0.043084</td>\n",
       "      <td>0</td>\n",
       "    </tr>\n",
       "    <tr>\n",
       "      <th>3</th>\n",
       "      <td>0</td>\n",
       "      <td>0</td>\n",
       "      <td>0</td>\n",
       "      <td>0</td>\n",
       "      <td>0</td>\n",
       "      <td>0</td>\n",
       "      <td>0</td>\n",
       "      <td>1</td>\n",
       "      <td>0</td>\n",
       "      <td>0</td>\n",
       "      <td>...</td>\n",
       "      <td>0</td>\n",
       "      <td>0</td>\n",
       "      <td>0</td>\n",
       "      <td>0</td>\n",
       "      <td>1</td>\n",
       "      <td>0.283637</td>\n",
       "      <td>0.069868</td>\n",
       "      <td>-0.453914</td>\n",
       "      <td>0.253620</td>\n",
       "      <td>0</td>\n",
       "    </tr>\n",
       "    <tr>\n",
       "      <th>4</th>\n",
       "      <td>1</td>\n",
       "      <td>0</td>\n",
       "      <td>0</td>\n",
       "      <td>0</td>\n",
       "      <td>0</td>\n",
       "      <td>0</td>\n",
       "      <td>0</td>\n",
       "      <td>1</td>\n",
       "      <td>0</td>\n",
       "      <td>0</td>\n",
       "      <td>...</td>\n",
       "      <td>0</td>\n",
       "      <td>0</td>\n",
       "      <td>0</td>\n",
       "      <td>1</td>\n",
       "      <td>1</td>\n",
       "      <td>-0.777083</td>\n",
       "      <td>1.108383</td>\n",
       "      <td>0.765380</td>\n",
       "      <td>-2.483349</td>\n",
       "      <td>0</td>\n",
       "    </tr>\n",
       "  </tbody>\n",
       "</table>\n",
       "<p>5 rows × 24 columns</p>\n",
       "</div>"
      ],
      "text/plain": [
       "   Action  Adventure  Animation  Children's  Comedy  Crime  Documentary  \\\n",
       "0       0          0          0           0       1      0            0   \n",
       "1       0          0          0           0       0      0            0   \n",
       "2       1          0          0           0       0      0            0   \n",
       "3       0          0          0           0       0      0            0   \n",
       "4       1          0          0           0       0      0            0   \n",
       "\n",
       "   Drama  Fantasy  Film-Noir   ...     Sci-Fi  Thriller  War  Western  \\\n",
       "0      0        0          0   ...          0         0    0        0   \n",
       "1      1        0          0   ...          0         0    0        0   \n",
       "2      0        0          0   ...          0         0    0        0   \n",
       "3      1        0          0   ...          0         0    0        0   \n",
       "4      1        0          0   ...          0         0    0        1   \n",
       "\n",
       "   outcome     price  ratings_average  ratings_count  release_date  unknown  \n",
       "0        1 -1.307443        -1.376422      -0.715191      0.534335        0  \n",
       "1        1 -2.368163        -2.655833      -0.727633      0.604514        0  \n",
       "2        1 -0.246723        -0.459109      -0.080661      0.043084        0  \n",
       "3        1  0.283637         0.069868      -0.453914      0.253620        0  \n",
       "4        1 -0.777083         1.108383       0.765380     -2.483349        0  \n",
       "\n",
       "[5 rows x 24 columns]"
      ]
     },
     "execution_count": 38,
     "metadata": {},
     "output_type": "execute_result"
    }
   ],
   "source": [
    "events_data = []\n",
    "\n",
    "for event in positive_events.all():\n",
    "    tmp = learning_data.loc[event['movie_id']].to_dict()\n",
    "    tmp['outcome'] = 1\n",
    "    events_data += [tmp]\n",
    "\n",
    "for event in negative_events.all():\n",
    "    tmp = learning_data.loc[event['movie_id']].to_dict()\n",
    "    tmp['outcome'] = 0\n",
    "    events_data += [tmp]\n",
    "\n",
    "events_data = pd.DataFrame(events_data)\n",
    "events_data.head()"
   ]
  },
  {
   "cell_type": "code",
   "execution_count": 39,
   "metadata": {
    "collapsed": false
   },
   "outputs": [
    {
     "data": {
      "text/plain": [
       "Action               int64\n",
       "Adventure            int64\n",
       "Animation            int64\n",
       "Children's           int64\n",
       "Comedy               int64\n",
       "Crime                int64\n",
       "Documentary          int64\n",
       "Drama                int64\n",
       "Fantasy              int64\n",
       "Film-Noir            int64\n",
       "Horror               int64\n",
       "Musical              int64\n",
       "Mystery              int64\n",
       "Romance              int64\n",
       "Sci-Fi               int64\n",
       "Thriller             int64\n",
       "War                  int64\n",
       "Western              int64\n",
       "outcome              int64\n",
       "price              float64\n",
       "ratings_average    float64\n",
       "ratings_count      float64\n",
       "release_date       float64\n",
       "unknown              int64\n",
       "dtype: object"
      ]
     },
     "execution_count": 39,
     "metadata": {},
     "output_type": "execute_result"
    }
   ],
   "source": [
    "for genre in genres_data['name'].values:\n",
    "    events_data[genre] = events_data[genre].astype(int)\n",
    "    \n",
    "events_data.dtypes"
   ]
  },
  {
   "cell_type": "markdown",
   "metadata": {},
   "source": [
    "# Events distributions"
   ]
  },
  {
   "cell_type": "code",
   "execution_count": 117,
   "metadata": {
    "collapsed": true
   },
   "outputs": [],
   "source": [
    "events_data_sample = events_data.sample(frac=0.1)"
   ]
  },
  {
   "cell_type": "code",
   "execution_count": 136,
   "metadata": {
    "collapsed": false
   },
   "outputs": [],
   "source": [
    "negative_outcomes = events_data_sample[events_data_sample['outcome'] == 0.0]['price']\n",
    "positive_outcomes = events_data_sample[events_data_sample['outcome'] == 1.0]['price']"
   ]
  },
  {
   "cell_type": "code",
   "execution_count": 148,
   "metadata": {
    "collapsed": false
   },
   "outputs": [
    {
     "data": {
      "image/png": "[encoded data removed]",
      "text/plain": [
       "<matplotlib.figure.Figure at 0x7f8544a0f208>"
      ]
     },
     "metadata": {},
     "output_type": "display_data"
    }
   ],
   "source": [
    "outcomes = np.array(list(zip(negative_outcomes.values, positive_outcomes.values)))\n",
    "plt.hist(outcomes, bins=11)\n",
    "plt.show()"
   ]
  },
  {
   "cell_type": "markdown",
   "metadata": {},
   "source": [
    "# Save events to CSV for external processing"
   ]
  },
  {
   "cell_type": "code",
   "execution_count": 42,
   "metadata": {
    "collapsed": false
   },
   "outputs": [],
   "source": [
    "events_data = events_data.reindex(np.random.permutation(events_data.index))\n",
    "events_data.to_csv('movie_events.csv')"
   ]
  },
  {
   "cell_type": "code",
   "execution_count": 34,
   "metadata": {
    "collapsed": true
   },
   "outputs": [],
   "source": [
    "df = pd.DataFrame(feature_columns)\n",
    "df.to_csv(\"feature_columns.csv\")"
   ]
  },
  {
   "cell_type": "markdown",
   "metadata": {},
   "source": [
    "# Load events from CSV"
   ]
  },
  {
   "cell_type": "code",
   "execution_count": 2,
   "metadata": {
    "collapsed": false
   },
   "outputs": [
    {
     "data": {
      "text/html": [
       "<div>\n",
       "<table border=\"1\" class=\"dataframe\">\n",
       "  <thead>\n",
       "    <tr style=\"text-align: right;\">\n",
       "      <th></th>\n",
       "      <th>Action</th>\n",
       "      <th>Adventure</th>\n",
       "      <th>Animation</th>\n",
       "      <th>Children's</th>\n",
       "      <th>Comedy</th>\n",
       "      <th>Crime</th>\n",
       "      <th>Documentary</th>\n",
       "      <th>Drama</th>\n",
       "      <th>Fantasy</th>\n",
       "      <th>Film-Noir</th>\n",
       "      <th>...</th>\n",
       "      <th>Sci-Fi</th>\n",
       "      <th>Thriller</th>\n",
       "      <th>War</th>\n",
       "      <th>Western</th>\n",
       "      <th>outcome</th>\n",
       "      <th>price</th>\n",
       "      <th>ratings_average</th>\n",
       "      <th>ratings_count</th>\n",
       "      <th>release_date</th>\n",
       "      <th>unknown</th>\n",
       "    </tr>\n",
       "  </thead>\n",
       "  <tbody>\n",
       "    <tr>\n",
       "      <th>83349</th>\n",
       "      <td>0</td>\n",
       "      <td>0</td>\n",
       "      <td>0</td>\n",
       "      <td>0</td>\n",
       "      <td>1</td>\n",
       "      <td>0</td>\n",
       "      <td>0</td>\n",
       "      <td>0</td>\n",
       "      <td>0</td>\n",
       "      <td>0</td>\n",
       "      <td>...</td>\n",
       "      <td>0</td>\n",
       "      <td>0</td>\n",
       "      <td>0</td>\n",
       "      <td>0</td>\n",
       "      <td>1</td>\n",
       "      <td>-0.777083</td>\n",
       "      <td>-0.867410</td>\n",
       "      <td>0.417010</td>\n",
       "      <td>0.464156</td>\n",
       "      <td>0</td>\n",
       "    </tr>\n",
       "    <tr>\n",
       "      <th>68144</th>\n",
       "      <td>0</td>\n",
       "      <td>0</td>\n",
       "      <td>0</td>\n",
       "      <td>0</td>\n",
       "      <td>1</td>\n",
       "      <td>0</td>\n",
       "      <td>0</td>\n",
       "      <td>0</td>\n",
       "      <td>0</td>\n",
       "      <td>0</td>\n",
       "      <td>...</td>\n",
       "      <td>0</td>\n",
       "      <td>0</td>\n",
       "      <td>0</td>\n",
       "      <td>0</td>\n",
       "      <td>1</td>\n",
       "      <td>-0.246723</td>\n",
       "      <td>-0.310247</td>\n",
       "      <td>-0.665424</td>\n",
       "      <td>0.323799</td>\n",
       "      <td>0</td>\n",
       "    </tr>\n",
       "    <tr>\n",
       "      <th>344645</th>\n",
       "      <td>0</td>\n",
       "      <td>0</td>\n",
       "      <td>0</td>\n",
       "      <td>0</td>\n",
       "      <td>1</td>\n",
       "      <td>0</td>\n",
       "      <td>0</td>\n",
       "      <td>0</td>\n",
       "      <td>0</td>\n",
       "      <td>0</td>\n",
       "      <td>...</td>\n",
       "      <td>1</td>\n",
       "      <td>0</td>\n",
       "      <td>0</td>\n",
       "      <td>0</td>\n",
       "      <td>0</td>\n",
       "      <td>-0.246723</td>\n",
       "      <td>0.714322</td>\n",
       "      <td>0.280151</td>\n",
       "      <td>-1.149954</td>\n",
       "      <td>0</td>\n",
       "    </tr>\n",
       "    <tr>\n",
       "      <th>71975</th>\n",
       "      <td>0</td>\n",
       "      <td>0</td>\n",
       "      <td>0</td>\n",
       "      <td>0</td>\n",
       "      <td>0</td>\n",
       "      <td>0</td>\n",
       "      <td>0</td>\n",
       "      <td>0</td>\n",
       "      <td>0</td>\n",
       "      <td>0</td>\n",
       "      <td>...</td>\n",
       "      <td>1</td>\n",
       "      <td>1</td>\n",
       "      <td>0</td>\n",
       "      <td>0</td>\n",
       "      <td>1</td>\n",
       "      <td>-1.307443</td>\n",
       "      <td>-1.725353</td>\n",
       "      <td>-0.603215</td>\n",
       "      <td>0.253620</td>\n",
       "      <td>0</td>\n",
       "    </tr>\n",
       "    <tr>\n",
       "      <th>208783</th>\n",
       "      <td>0</td>\n",
       "      <td>0</td>\n",
       "      <td>0</td>\n",
       "      <td>1</td>\n",
       "      <td>1</td>\n",
       "      <td>0</td>\n",
       "      <td>0</td>\n",
       "      <td>0</td>\n",
       "      <td>1</td>\n",
       "      <td>0</td>\n",
       "      <td>...</td>\n",
       "      <td>0</td>\n",
       "      <td>0</td>\n",
       "      <td>0</td>\n",
       "      <td>0</td>\n",
       "      <td>1</td>\n",
       "      <td>-0.246723</td>\n",
       "      <td>-0.410829</td>\n",
       "      <td>-0.080661</td>\n",
       "      <td>0.534335</td>\n",
       "      <td>0</td>\n",
       "    </tr>\n",
       "  </tbody>\n",
       "</table>\n",
       "<p>5 rows × 24 columns</p>\n",
       "</div>"
      ],
      "text/plain": [
       "        Action  Adventure  Animation  Children's  Comedy  Crime  Documentary  \\\n",
       "83349        0          0          0           0       1      0            0   \n",
       "68144        0          0          0           0       1      0            0   \n",
       "344645       0          0          0           0       1      0            0   \n",
       "71975        0          0          0           0       0      0            0   \n",
       "208783       0          0          0           1       1      0            0   \n",
       "\n",
       "        Drama  Fantasy  Film-Noir   ...     Sci-Fi  Thriller  War  Western  \\\n",
       "83349       0        0          0   ...          0         0    0        0   \n",
       "68144       0        0          0   ...          0         0    0        0   \n",
       "344645      0        0          0   ...          1         0    0        0   \n",
       "71975       0        0          0   ...          1         1    0        0   \n",
       "208783      0        1          0   ...          0         0    0        0   \n",
       "\n",
       "        outcome     price  ratings_average  ratings_count  release_date  \\\n",
       "83349         1 -0.777083        -0.867410       0.417010      0.464156   \n",
       "68144         1 -0.246723        -0.310247      -0.665424      0.323799   \n",
       "344645        0 -0.246723         0.714322       0.280151     -1.149954   \n",
       "71975         1 -1.307443        -1.725353      -0.603215      0.253620   \n",
       "208783        1 -0.246723        -0.410829      -0.080661      0.534335   \n",
       "\n",
       "        unknown  \n",
       "83349         0  \n",
       "68144         0  \n",
       "344645        0  \n",
       "71975         0  \n",
       "208783        0  \n",
       "\n",
       "[5 rows x 24 columns]"
      ]
     },
     "execution_count": 2,
     "metadata": {},
     "output_type": "execute_result"
    }
   ],
   "source": [
    "events_data = pd.DataFrame.from_csv('movie_events.csv')\n",
    "events_data.head()"
   ]
  },
  {
   "cell_type": "code",
   "execution_count": 3,
   "metadata": {
    "collapsed": false
   },
   "outputs": [
    {
     "data": {
      "text/plain": [
       "array(['Action', 'Adventure', 'Animation', \"Children's\", 'Comedy', 'Crime',\n",
       "       'Documentary', 'Drama', 'Fantasy', 'Film-Noir', 'Horror', 'Musical',\n",
       "       'Mystery', 'Romance', 'Sci-Fi', 'Thriller', 'War', 'Western',\n",
       "       'price', 'ratings_average', 'ratings_count', 'release_date',\n",
       "       'unknown'], dtype=object)"
      ]
     },
     "execution_count": 3,
     "metadata": {},
     "output_type": "execute_result"
    }
   ],
   "source": [
    "tmp = pd.DataFrame.from_csv('feature_columns.csv')\n",
    "feature_columns = tmp['0'].values\n",
    "feature_columns"
   ]
  },
  {
   "cell_type": "markdown",
   "metadata": {},
   "source": [
    "# Train/Test data split"
   ]
  },
  {
   "cell_type": "code",
   "execution_count": 44,
   "metadata": {
    "collapsed": false
   },
   "outputs": [
    {
     "name": "stdout",
     "output_type": "stream",
     "text": [
      "overall input shape: (399980, 23)\n",
      "overall output shape: (399980,)\n",
      "training input shape: (319984, 23)\n",
      "training output shape: (319984,)\n",
      "testing input shape: (79996, 23)\n",
      "testing output shape: (79996,)\n"
     ]
    }
   ],
   "source": [
    "X = events_data.loc[:, feature_columns].values.astype(np.float32)\n",
    "print('overall input shape: ' + str(X.shape))\n",
    "\n",
    "y = events_data.loc[:, ['outcome']].values.astype(np.float32).ravel()\n",
    "print('overall output shape: ' + str(y.shape))\n",
    "\n",
    "X_train, X_test, y_train, y_test = train_test_split(X, y, test_size=0.2, random_state=42)\n",
    "print('training input shape: ' + str(X_train.shape))\n",
    "print('training output shape: ' + str(y_train.shape))\n",
    "\n",
    "print('testing input shape: ' + str(X_test.shape))\n",
    "print('testing output shape: ' + str(y_test.shape))"
   ]
  },
  {
   "cell_type": "markdown",
   "metadata": {},
   "source": [
    "# Ranking with Amazon ML"
   ]
  },
  {
   "cell_type": "markdown",
   "metadata": {},
   "source": [
    "![title](amazon_performance.png)"
   ]
  },
  {
   "cell_type": "markdown",
   "metadata": {},
   "source": [
    "# The perfect predictor"
   ]
  },
  {
   "cell_type": "code",
   "execution_count": 188,
   "metadata": {
    "collapsed": true
   },
   "outputs": [],
   "source": [
    "import warnings\n",
    "warnings.filterwarnings(\"ignore\", category=DeprecationWarning)"
   ]
  },
  {
   "cell_type": "code",
   "execution_count": 213,
   "metadata": {
    "collapsed": false
   },
   "outputs": [],
   "source": [
    "class PerfectPredictor:\n",
    "    def predict(self, X):\n",
    "        min_max_scaler = preprocessing.MinMaxScaler()\n",
    "        return 1 - min_max_scaler.fit_transform(X[:, -5])"
   ]
  },
  {
   "cell_type": "code",
   "execution_count": 214,
   "metadata": {
    "collapsed": false
   },
   "outputs": [
    {
     "name": "stdout",
     "output_type": "stream",
     "text": [
      "train precision: 0.725068771013\n",
      "train recall: 0.586215417795\n",
      "train accuracy: 0.646063553178\n"
     ]
    }
   ],
   "source": [
    "p = PerfectPredictor()\n",
    "y_train_pred = np.rint(p.predict(X_train))\n",
    "\n",
    "print('train precision: ' + str(precision_score(y_train, y_train_pred)))\n",
    "print('train recall: ' + str(recall_score(y_train, y_train_pred)))\n",
    "print('train accuracy: ' + str(accuracy_score(y_train, y_train_pred)))"
   ]
  },
  {
   "cell_type": "code",
   "execution_count": 215,
   "metadata": {
    "collapsed": false
   },
   "outputs": [
    {
     "name": "stdout",
     "output_type": "stream",
     "text": [
      "test precision: 0.719687456397\n",
      "test recall: 0.584396456006\n",
      "test accuracy: 0.645157257863\n"
     ]
    }
   ],
   "source": [
    "y_test_pred = np.rint(p.predict(X_test))\n",
    "\n",
    "print('test precision: ' + str(precision_score(y_test, y_test_pred)))\n",
    "print('test recall: ' + str(recall_score(y_test, y_test_pred)))\n",
    "print('test accuracy: ' + str(accuracy_score(y_test, y_test_pred)))"
   ]
  },
  {
   "cell_type": "code",
   "execution_count": 216,
   "metadata": {
    "collapsed": false
   },
   "outputs": [
    {
     "name": "stdout",
     "output_type": "stream",
     "text": [
      "overall input shape: (1681, 23)\n"
     ]
    }
   ],
   "source": [
    "pp_input = learning_data.values.astype(np.float32)\n",
    "print('overall input shape: ' + str(pp_input.shape))\n",
    "\n",
    "learning_data_with_rank = learning_data.copy()\n",
    "learning_data_with_rank['rank'] = p.predict(pp_input)"
   ]
  },
  {
   "cell_type": "code",
   "execution_count": 217,
   "metadata": {
    "collapsed": false
   },
   "outputs": [
    {
     "data": {
      "image/png": "[encoded data removed]",
      "text/plain": [
       "<matplotlib.figure.Figure at 0x7f44fd1dc780>"
      ]
     },
     "metadata": {},
     "output_type": "display_data"
    }
   ],
   "source": [
    "plt.plot(learning_data_with_rank['price'].values, learning_data_with_rank['rank'].values, 'ro')\n",
    "plt.show()"
   ]
  },
  {
   "cell_type": "markdown",
   "metadata": {},
   "source": [
    "# Rank with a Logistic Regression\n",
    "\n",
    "* Collect for each movie the buy probability from the raw events\n",
    "* Run a beta regression\n",
    "\n",
    "=> Expect the coefficients to represent the artificial probability function"
   ]
  },
  {
   "cell_type": "code",
   "execution_count": 84,
   "metadata": {
    "collapsed": false
   },
   "outputs": [
    {
     "data": {
      "text/plain": [
       "LogisticRegression(C=1.0, class_weight=None, dual=False, fit_intercept=True,\n",
       "          intercept_scaling=1, max_iter=100, multi_class='ovr', n_jobs=1,\n",
       "          penalty='l2', random_state=None, solver='liblinear', tol=0.0001,\n",
       "          verbose=0, warm_start=False)"
      ]
     },
     "execution_count": 84,
     "metadata": {},
     "output_type": "execute_result"
    }
   ],
   "source": [
    "l = LogisticRegression()\n",
    "l.fit(X_train, y_train)"
   ]
  },
  {
   "cell_type": "code",
   "execution_count": 106,
   "metadata": {
    "collapsed": false
   },
   "outputs": [
    {
     "data": {
      "text/plain": [
       "(319984, 23)"
      ]
     },
     "execution_count": 106,
     "metadata": {},
     "output_type": "execute_result"
    }
   ],
   "source": [
    "X_train.shape"
   ]
  },
  {
   "cell_type": "code",
   "execution_count": 100,
   "metadata": {
    "collapsed": false
   },
   "outputs": [
    {
     "name": "stdout",
     "output_type": "stream",
     "text": [
      "train precision: 0.664361338798\n",
      "train recall: 0.742903838161\n",
      "train accuracy: 0.648094904745\n"
     ]
    }
   ],
   "source": [
    "y_train_pred = np.argmax(l.predict_proba(X_train), axis=1).astype(np.float32)\n",
    "\n",
    "print('train precision: ' + str(precision_score(y_train, y_train_pred)))\n",
    "print('train recall: ' + str(recall_score(y_train, y_train_pred)))\n",
    "print('train accuracy: ' + str(accuracy_score(y_train, y_train_pred)))"
   ]
  },
  {
   "cell_type": "code",
   "execution_count": 101,
   "metadata": {
    "collapsed": false
   },
   "outputs": [
    {
     "name": "stdout",
     "output_type": "stream",
     "text": [
      "test precision: 0.658046496675\n",
      "test recall: 0.742086061952\n",
      "test accuracy: 0.644982249112\n"
     ]
    }
   ],
   "source": [
    "y_test_pred = np.argmax(l.predict_proba(X_test), axis=1).astype(np.float32)\n",
    "\n",
    "print('test precision: ' + str(precision_score(y_test, y_test_pred)))\n",
    "print('test recall: ' + str(recall_score(y_test, y_test_pred)))\n",
    "print('test accuracy: ' + str(accuracy_score(y_test, y_test_pred)))"
   ]
  },
  {
   "cell_type": "code",
   "execution_count": 126,
   "metadata": {
    "collapsed": false
   },
   "outputs": [
    {
     "data": {
      "text/plain": [
       "array([ 0.,  1.,  1., ...,  0.,  1.,  0.], dtype=float32)"
      ]
     },
     "execution_count": 126,
     "metadata": {},
     "output_type": "execute_result"
    }
   ],
   "source": [
    "np.argmax(l.predict_proba(X_test), axis=1).astype(np.float32)"
   ]
  },
  {
   "cell_type": "code",
   "execution_count": 129,
   "metadata": {
    "collapsed": false
   },
   "outputs": [
    {
     "name": "stdout",
     "output_type": "stream",
     "text": [
      "overall input shape: (1681, 23)\n"
     ]
    }
   ],
   "source": [
    "lg_input = learning_data.values.astype(np.float32)\n",
    "print('overall input shape: ' + str(lg_input.shape))\n",
    "\n",
    "learning_data_with_rank = learning_data.copy()\n",
    "learning_data_with_rank['rank'] = l.predict_proba(lg_input)[:, 1]"
   ]
  },
  {
   "cell_type": "code",
   "execution_count": 130,
   "metadata": {
    "collapsed": false,
    "scrolled": true
   },
   "outputs": [
    {
     "data": {
      "image/png": "[encoded data removed]",
      "text/plain": [
       "<matplotlib.figure.Figure at 0x7f44fe75ea20>"
      ]
     },
     "metadata": {},
     "output_type": "display_data"
    }
   ],
   "source": [
    "plt.plot(learning_data_with_rank['price'].values, learning_data_with_rank['rank'].values, 'ro')\n",
    "plt.show()"
   ]
  },
  {
   "cell_type": "markdown",
   "metadata": {
    "collapsed": true
   },
   "source": [
    "# Neural Network in NoLearn"
   ]
  },
  {
   "cell_type": "code",
   "execution_count": 5,
   "metadata": {
    "collapsed": false
   },
   "outputs": [],
   "source": [
    "from lasagne import layers\n",
    "from lasagne.updates import nesterov_momentum\n",
    "from lasagne.nonlinearities import softmax\n",
    "from nolearn.lasagne import NeuralNet"
   ]
  },
  {
   "cell_type": "code",
   "execution_count": 79,
   "metadata": {
    "collapsed": false
   },
   "outputs": [
    {
     "name": "stdout",
     "output_type": "stream",
     "text": [
      "# Neural Network with 1151 learnable parameters\n",
      "\n",
      "## Layer information\n",
      "\n",
      "  #  name      size\n",
      "---  ------  ------\n",
      "  0  input       23\n",
      "  1  hidden      46\n",
      "  2  output       1\n",
      "\n",
      "  epoch    trn loss    val loss    trn/val  dur\n",
      "-------  ----------  ----------  ---------  -----\n",
      "      1     \u001b[36m0.21492\u001b[0m     \u001b[32m0.21174\u001b[0m    1.01502  0.57s\n",
      "      2     \u001b[36m0.21210\u001b[0m     \u001b[32m0.21149\u001b[0m    1.00288  0.56s\n",
      "      3     \u001b[36m0.21193\u001b[0m     \u001b[32m0.21140\u001b[0m    1.00250  0.56s\n",
      "      4     \u001b[36m0.21185\u001b[0m     \u001b[32m0.21135\u001b[0m    1.00234  0.57s\n",
      "      5     \u001b[36m0.21180\u001b[0m     \u001b[32m0.21131\u001b[0m    1.00229  0.56s\n",
      "      6     \u001b[36m0.21175\u001b[0m     \u001b[32m0.21129\u001b[0m    1.00219  0.57s\n",
      "      7     \u001b[36m0.21171\u001b[0m     \u001b[32m0.21127\u001b[0m    1.00210  0.56s\n",
      "      8     \u001b[36m0.21168\u001b[0m     \u001b[32m0.21126\u001b[0m    1.00202  0.56s\n",
      "      9     \u001b[36m0.21166\u001b[0m     \u001b[32m0.21125\u001b[0m    1.00195  0.58s\n",
      "     10     \u001b[36m0.21164\u001b[0m     \u001b[32m0.21124\u001b[0m    1.00189  0.73s\n",
      "     11     \u001b[36m0.21162\u001b[0m     \u001b[32m0.21123\u001b[0m    1.00185  0.56s\n",
      "     12     \u001b[36m0.21160\u001b[0m     \u001b[32m0.21122\u001b[0m    1.00183  0.56s\n",
      "     13     \u001b[36m0.21159\u001b[0m     \u001b[32m0.21121\u001b[0m    1.00179  0.56s\n",
      "     14     \u001b[36m0.21158\u001b[0m     \u001b[32m0.21121\u001b[0m    1.00172  0.56s\n",
      "     15     \u001b[36m0.21156\u001b[0m     \u001b[32m0.21121\u001b[0m    1.00169  0.56s\n",
      "     16     \u001b[36m0.21155\u001b[0m     \u001b[32m0.21120\u001b[0m    1.00165  0.56s\n",
      "     17     \u001b[36m0.21154\u001b[0m     0.21120    1.00158  0.56s\n",
      "     18     \u001b[36m0.21153\u001b[0m     \u001b[32m0.21120\u001b[0m    1.00154  0.56s\n",
      "     19     \u001b[36m0.21152\u001b[0m     0.21121    1.00148  0.56s\n",
      "     20     \u001b[36m0.21151\u001b[0m     0.21121    1.00142  0.56s\n",
      "     21     \u001b[36m0.21150\u001b[0m     0.21121    1.00137  0.56s\n",
      "     22     \u001b[36m0.21149\u001b[0m     0.21122    1.00131  0.56s\n",
      "     23     \u001b[36m0.21148\u001b[0m     0.21122    1.00126  0.56s\n",
      "     24     \u001b[36m0.21148\u001b[0m     0.21122    1.00121  0.56s\n",
      "     25     \u001b[36m0.21147\u001b[0m     0.21122    1.00116  0.56s\n",
      "     26     \u001b[36m0.21146\u001b[0m     0.21123    1.00112  0.56s\n",
      "     27     \u001b[36m0.21146\u001b[0m     0.21123    1.00108  0.56s\n",
      "     28     \u001b[36m0.21145\u001b[0m     0.21123    1.00104  0.56s\n",
      "     29     \u001b[36m0.21145\u001b[0m     0.21124    1.00099  0.56s\n",
      "     30     \u001b[36m0.21144\u001b[0m     0.21124    1.00097  0.56s\n",
      "     31     \u001b[36m0.21144\u001b[0m     0.21124    1.00093  0.56s\n",
      "     32     \u001b[36m0.21143\u001b[0m     0.21124    1.00091  0.56s\n",
      "     33     \u001b[36m0.21143\u001b[0m     0.21124    1.00089  0.56s\n",
      "     34     \u001b[36m0.21143\u001b[0m     0.21124    1.00087  0.56s\n",
      "     35     \u001b[36m0.21142\u001b[0m     0.21124    1.00085  0.56s\n",
      "     36     \u001b[36m0.21142\u001b[0m     0.21125    1.00082  0.56s\n",
      "     37     \u001b[36m0.21142\u001b[0m     0.21125    1.00080  0.56s\n",
      "     38     \u001b[36m0.21141\u001b[0m     0.21125    1.00077  0.56s\n",
      "     39     \u001b[36m0.21141\u001b[0m     0.21125    1.00073  0.56s\n",
      "     40     \u001b[36m0.21140\u001b[0m     0.21125    1.00071  0.56s\n",
      "     41     \u001b[36m0.21140\u001b[0m     0.21126    1.00068  0.56s\n",
      "     42     \u001b[36m0.21140\u001b[0m     0.21126    1.00065  0.56s\n",
      "     43     \u001b[36m0.21139\u001b[0m     0.21126    1.00063  0.56s\n",
      "     44     \u001b[36m0.21139\u001b[0m     0.21126    1.00061  0.56s\n",
      "     45     \u001b[36m0.21139\u001b[0m     0.21126    1.00059  0.56s\n",
      "     46     \u001b[36m0.21139\u001b[0m     0.21126    1.00058  0.56s\n",
      "     47     \u001b[36m0.21138\u001b[0m     0.21127    1.00056  0.56s\n",
      "     48     \u001b[36m0.21138\u001b[0m     0.21127    1.00053  0.56s\n",
      "     49     \u001b[36m0.21138\u001b[0m     0.21127    1.00051  0.56s\n",
      "     50     \u001b[36m0.21138\u001b[0m     0.21128    1.00049  0.56s\n"
     ]
    },
    {
     "data": {
      "text/plain": [
       "NeuralNet(X_tensor_type=None,\n",
       "     batch_iterator_test=<nolearn.lasagne.base.BatchIterator object at 0x7f45062e5048>,\n",
       "     batch_iterator_train=<nolearn.lasagne.base.BatchIterator object at 0x7f45062dbf28>,\n",
       "     check_input=True, custom_scores=None, hidden_num_units=46,\n",
       "     input_shape=(None, 23),\n",
       "     layers=[('input', <class 'lasagne.layers.input.InputLayer'>), ('hidden', <class 'lasagne.layers.dense.DenseLayer'>), ('output', <class 'lasagne.layers.dense.DenseLayer'>)],\n",
       "     loss=None, max_epochs=50, more_params={},\n",
       "     objective=<function objective at 0x7f45062e4730>,\n",
       "     objective_loss_function=<function squared_error at 0x7f450632b400>,\n",
       "     on_batch_finished=[],\n",
       "     on_epoch_finished=[<nolearn.lasagne.handlers.PrintLog object at 0x7f44fec53dd8>],\n",
       "     on_training_finished=[],\n",
       "     on_training_started=[<nolearn.lasagne.handlers.PrintLayerInfo object at 0x7f44fec53f60>],\n",
       "     output_nonlinearity=None, output_num_units=1, regression=True,\n",
       "     scores_train=[], scores_valid=[],\n",
       "     train_split=<nolearn.lasagne.base.TrainSplit object at 0x7f45062e5080>,\n",
       "     update=<function nesterov_momentum at 0x7f450632be18>,\n",
       "     update_learning_rate=0.01, use_label_encoder=False, verbose=1,\n",
       "     y_tensor_type=TensorType(float32, matrix))"
      ]
     },
     "execution_count": 79,
     "metadata": {},
     "output_type": "execute_result"
    }
   ],
   "source": [
    "nn = NeuralNet(\n",
    "    layers=[  # three layers: one hidden layer\n",
    "        ('input', layers.InputLayer),\n",
    "        ('hidden', layers.DenseLayer),\n",
    "        ('output', layers.DenseLayer),\n",
    "        ],\n",
    "    # layer parameters:\n",
    "    input_shape=(None, 23),  # this code won't compile without SIZE being set\n",
    "    hidden_num_units=46,  # number of units in hidden layer\n",
    "    output_nonlinearity=None,  # output layer uses identity function\n",
    "    output_num_units=1,  # this code won't compile without OUTPUTS being set\n",
    "\n",
    "    # optimization method:\n",
    "    update_learning_rate=0.01, \n",
    "    regression=True,  # If you're doing classification you want this off\n",
    "    max_epochs=50,  # more epochs can be good, \n",
    "    verbose=1, # enabled so that you see meaningful output when the program runs\n",
    ")\n",
    "\n",
    "nn.fit(X_train.astype(np.float32), y_train.astype(np.float32))"
   ]
  },
  {
   "cell_type": "code",
   "execution_count": 80,
   "metadata": {
    "collapsed": false
   },
   "outputs": [
    {
     "name": "stdout",
     "output_type": "stream",
     "text": [
      "train precision: 0.655913927508\n",
      "train recall: 0.776882294135\n",
      "train accuracy: 0.649069953498\n"
     ]
    }
   ],
   "source": [
    "y_train_pred = np.rint(nn.predict(X_train.astype(np.float32)))\n",
    "print('train precision: ' + str(precision_score(y_train, y_train_pred)))\n",
    "print('train recall: ' + str(recall_score(y_train, y_train_pred)))\n",
    "print('train accuracy: ' + str(accuracy_score(y_train, y_train_pred)))"
   ]
  },
  {
   "cell_type": "code",
   "execution_count": 81,
   "metadata": {
    "collapsed": false
   },
   "outputs": [
    {
     "name": "stdout",
     "output_type": "stream",
     "text": [
      "test precision: 0.648514382146\n",
      "test recall: 0.775010763409\n",
      "test accuracy: 0.64415720786\n"
     ]
    }
   ],
   "source": [
    "y_test_pred = np.rint(nn.predict(X_test.astype(np.float32)))\n",
    "\n",
    "print('test precision: ' + str(precision_score(y_test, y_test_pred)))\n",
    "print('test recall: ' + str(recall_score(y_test, y_test_pred)))\n",
    "print('test accuracy: ' + str(accuracy_score(y_test, y_test_pred)))"
   ]
  },
  {
   "cell_type": "code",
   "execution_count": 113,
   "metadata": {
    "collapsed": false
   },
   "outputs": [
    {
     "name": "stdout",
     "output_type": "stream",
     "text": [
      "overall input shape: (1681, 23)\n"
     ]
    }
   ],
   "source": [
    "nn_input = learning_data.values.astype(np.float32)\n",
    "print('overall input shape: ' + str(nn_input.shape))\n",
    "\n",
    "learning_data_with_rank = learning_data.copy()\n",
    "learning_data_with_rank['rank'] = nn.predict(nn_input)"
   ]
  },
  {
   "cell_type": "code",
   "execution_count": 114,
   "metadata": {
    "collapsed": false
   },
   "outputs": [
    {
     "data": {
      "image/png": "[encoded data removed]",
      "text/plain": [
       "<matplotlib.figure.Figure at 0x7f44fe966c18>"
      ]
     },
     "metadata": {},
     "output_type": "display_data"
    }
   ],
   "source": [
    "plt.plot(learning_data_with_rank['price'].values, learning_data_with_rank['rank'].values, 'ro')\n",
    "plt.show()"
   ]
  },
  {
   "cell_type": "code",
   "execution_count": null,
   "metadata": {
    "collapsed": true
   },
   "outputs": [],
   "source": []
  }
 ],
 "metadata": {
  "hide_input": false,
  "kernelspec": {
   "display_name": "Python 3",
   "language": "python",
   "name": "python3"
  },
  "language_info": {
   "codemirror_mode": {
    "name": "ipython",
    "version": 3
   },
   "file_extension": ".py",
   "mimetype": "text/x-python",
   "name": "python",
   "nbconvert_exporter": "python",
   "pygments_lexer": "ipython3",
   "version": "3.4.3"
  }
 },
 "nbformat": 4,
 "nbformat_minor": 0
}
