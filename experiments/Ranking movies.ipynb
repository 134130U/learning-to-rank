{
 "cells": [
  {
   "cell_type": "code",
   "execution_count": 1,
   "metadata": {
    "collapsed": false
   },
   "outputs": [],
   "source": [
    "%load_ext rpy2.ipython\n",
    "import numpy as np\n",
    "import pandas as pd\n",
    "from sklearn.cross_validation import train_test_split\n",
    "from sklearn.metrics import mean_squared_error\n",
    "from sklearn.linear_model import LogisticRegression\n",
    "import pdb\n",
    "from sklearn.metrics import *"
   ]
  },
  {
   "cell_type": "code",
   "execution_count": 2,
   "metadata": {
    "collapsed": false
   },
   "outputs": [],
   "source": [
    "%%R \n",
    "library(ggplot2)"
   ]
  },
  {
   "cell_type": "markdown",
   "metadata": {},
   "source": [
    "# Load dataset"
   ]
  },
  {
   "cell_type": "code",
   "execution_count": 3,
   "metadata": {
    "collapsed": false
   },
   "outputs": [],
   "source": [
    "genres_data = pd.read_csv(\n",
    "    'movielens-dataset/u.genre', \n",
    "    sep = '|', \n",
    "    encoding = \"ISO-8859-1\", \n",
    "    header = None, \n",
    "    names=['name', 'id']\n",
    ")"
   ]
  },
  {
   "cell_type": "code",
   "execution_count": 4,
   "metadata": {
    "collapsed": true
   },
   "outputs": [],
   "source": [
    "movie_data_columns = np.append(\n",
    "    ['movie_id', 'title', 'release_date', 'video_release_date', 'url'], \n",
    "    genres_data['name'].values\n",
    ")"
   ]
  },
  {
   "cell_type": "code",
   "execution_count": 5,
   "metadata": {
    "collapsed": true
   },
   "outputs": [],
   "source": [
    "movie_data = pd.read_csv(\n",
    "    'movielens-dataset/u.item', \n",
    "    sep = '|', \n",
    "    encoding = \"ISO-8859-1\", \n",
    "    header = None, \n",
    "    names = movie_data_columns,\n",
    "    index_col = 'movie_id'\n",
    ")"
   ]
  },
  {
   "cell_type": "code",
   "execution_count": 6,
   "metadata": {
    "collapsed": false
   },
   "outputs": [
    {
     "data": {
      "text/html": [
       "<div>\n",
       "<table border=\"1\" class=\"dataframe\">\n",
       "  <thead>\n",
       "    <tr style=\"text-align: right;\">\n",
       "      <th></th>\n",
       "      <th>title</th>\n",
       "      <th>release_date</th>\n",
       "      <th>unknown</th>\n",
       "      <th>Action</th>\n",
       "      <th>Adventure</th>\n",
       "      <th>Animation</th>\n",
       "      <th>Children's</th>\n",
       "      <th>Comedy</th>\n",
       "      <th>Crime</th>\n",
       "      <th>Documentary</th>\n",
       "      <th>...</th>\n",
       "      <th>Fantasy</th>\n",
       "      <th>Film-Noir</th>\n",
       "      <th>Horror</th>\n",
       "      <th>Musical</th>\n",
       "      <th>Mystery</th>\n",
       "      <th>Romance</th>\n",
       "      <th>Sci-Fi</th>\n",
       "      <th>Thriller</th>\n",
       "      <th>War</th>\n",
       "      <th>Western</th>\n",
       "    </tr>\n",
       "    <tr>\n",
       "      <th>movie_id</th>\n",
       "      <th></th>\n",
       "      <th></th>\n",
       "      <th></th>\n",
       "      <th></th>\n",
       "      <th></th>\n",
       "      <th></th>\n",
       "      <th></th>\n",
       "      <th></th>\n",
       "      <th></th>\n",
       "      <th></th>\n",
       "      <th></th>\n",
       "      <th></th>\n",
       "      <th></th>\n",
       "      <th></th>\n",
       "      <th></th>\n",
       "      <th></th>\n",
       "      <th></th>\n",
       "      <th></th>\n",
       "      <th></th>\n",
       "      <th></th>\n",
       "      <th></th>\n",
       "    </tr>\n",
       "  </thead>\n",
       "  <tbody>\n",
       "    <tr>\n",
       "      <th>1</th>\n",
       "      <td>Toy Story (1995)</td>\n",
       "      <td>1995-01-01</td>\n",
       "      <td>0</td>\n",
       "      <td>0</td>\n",
       "      <td>0</td>\n",
       "      <td>1</td>\n",
       "      <td>1</td>\n",
       "      <td>1</td>\n",
       "      <td>0</td>\n",
       "      <td>0</td>\n",
       "      <td>...</td>\n",
       "      <td>0</td>\n",
       "      <td>0</td>\n",
       "      <td>0</td>\n",
       "      <td>0</td>\n",
       "      <td>0</td>\n",
       "      <td>0</td>\n",
       "      <td>0</td>\n",
       "      <td>0</td>\n",
       "      <td>0</td>\n",
       "      <td>0</td>\n",
       "    </tr>\n",
       "    <tr>\n",
       "      <th>2</th>\n",
       "      <td>GoldenEye (1995)</td>\n",
       "      <td>1995-01-01</td>\n",
       "      <td>0</td>\n",
       "      <td>1</td>\n",
       "      <td>1</td>\n",
       "      <td>0</td>\n",
       "      <td>0</td>\n",
       "      <td>0</td>\n",
       "      <td>0</td>\n",
       "      <td>0</td>\n",
       "      <td>...</td>\n",
       "      <td>0</td>\n",
       "      <td>0</td>\n",
       "      <td>0</td>\n",
       "      <td>0</td>\n",
       "      <td>0</td>\n",
       "      <td>0</td>\n",
       "      <td>0</td>\n",
       "      <td>1</td>\n",
       "      <td>0</td>\n",
       "      <td>0</td>\n",
       "    </tr>\n",
       "    <tr>\n",
       "      <th>3</th>\n",
       "      <td>Four Rooms (1995)</td>\n",
       "      <td>1995-01-01</td>\n",
       "      <td>0</td>\n",
       "      <td>0</td>\n",
       "      <td>0</td>\n",
       "      <td>0</td>\n",
       "      <td>0</td>\n",
       "      <td>0</td>\n",
       "      <td>0</td>\n",
       "      <td>0</td>\n",
       "      <td>...</td>\n",
       "      <td>0</td>\n",
       "      <td>0</td>\n",
       "      <td>0</td>\n",
       "      <td>0</td>\n",
       "      <td>0</td>\n",
       "      <td>0</td>\n",
       "      <td>0</td>\n",
       "      <td>1</td>\n",
       "      <td>0</td>\n",
       "      <td>0</td>\n",
       "    </tr>\n",
       "    <tr>\n",
       "      <th>4</th>\n",
       "      <td>Get Shorty (1995)</td>\n",
       "      <td>1995-01-01</td>\n",
       "      <td>0</td>\n",
       "      <td>1</td>\n",
       "      <td>0</td>\n",
       "      <td>0</td>\n",
       "      <td>0</td>\n",
       "      <td>1</td>\n",
       "      <td>0</td>\n",
       "      <td>0</td>\n",
       "      <td>...</td>\n",
       "      <td>0</td>\n",
       "      <td>0</td>\n",
       "      <td>0</td>\n",
       "      <td>0</td>\n",
       "      <td>0</td>\n",
       "      <td>0</td>\n",
       "      <td>0</td>\n",
       "      <td>0</td>\n",
       "      <td>0</td>\n",
       "      <td>0</td>\n",
       "    </tr>\n",
       "    <tr>\n",
       "      <th>5</th>\n",
       "      <td>Copycat (1995)</td>\n",
       "      <td>1995-01-01</td>\n",
       "      <td>0</td>\n",
       "      <td>0</td>\n",
       "      <td>0</td>\n",
       "      <td>0</td>\n",
       "      <td>0</td>\n",
       "      <td>0</td>\n",
       "      <td>1</td>\n",
       "      <td>0</td>\n",
       "      <td>...</td>\n",
       "      <td>0</td>\n",
       "      <td>0</td>\n",
       "      <td>0</td>\n",
       "      <td>0</td>\n",
       "      <td>0</td>\n",
       "      <td>0</td>\n",
       "      <td>0</td>\n",
       "      <td>1</td>\n",
       "      <td>0</td>\n",
       "      <td>0</td>\n",
       "    </tr>\n",
       "  </tbody>\n",
       "</table>\n",
       "<p>5 rows × 21 columns</p>\n",
       "</div>"
      ],
      "text/plain": [
       "                      title release_date  unknown  Action  Adventure  \\\n",
       "movie_id                                                               \n",
       "1          Toy Story (1995)   1995-01-01        0       0          0   \n",
       "2          GoldenEye (1995)   1995-01-01        0       1          1   \n",
       "3         Four Rooms (1995)   1995-01-01        0       0          0   \n",
       "4         Get Shorty (1995)   1995-01-01        0       1          0   \n",
       "5            Copycat (1995)   1995-01-01        0       0          0   \n",
       "\n",
       "          Animation  Children's  Comedy  Crime  Documentary   ...     Fantasy  \\\n",
       "movie_id                                                      ...               \n",
       "1                 1           1       1      0            0   ...           0   \n",
       "2                 0           0       0      0            0   ...           0   \n",
       "3                 0           0       0      0            0   ...           0   \n",
       "4                 0           0       1      0            0   ...           0   \n",
       "5                 0           0       0      1            0   ...           0   \n",
       "\n",
       "          Film-Noir  Horror  Musical  Mystery  Romance  Sci-Fi  Thriller  War  \\\n",
       "movie_id                                                                        \n",
       "1                 0       0        0        0        0       0         0    0   \n",
       "2                 0       0        0        0        0       0         1    0   \n",
       "3                 0       0        0        0        0       0         1    0   \n",
       "4                 0       0        0        0        0       0         0    0   \n",
       "5                 0       0        0        0        0       0         1    0   \n",
       "\n",
       "          Western  \n",
       "movie_id           \n",
       "1               0  \n",
       "2               0  \n",
       "3               0  \n",
       "4               0  \n",
       "5               0  \n",
       "\n",
       "[5 rows x 21 columns]"
      ]
     },
     "execution_count": 6,
     "metadata": {},
     "output_type": "execute_result"
    }
   ],
   "source": [
    "selected_columns = np.append(['title', 'release_date'], genres_data['name'].values)\n",
    "movie_data = movie_data[selected_columns]\n",
    "movie_data['release_date'] = pd.to_datetime(movie_data['release_date'])\n",
    "\n",
    "movie_data.head()"
   ]
  },
  {
   "cell_type": "code",
   "execution_count": 7,
   "metadata": {
    "collapsed": false
   },
   "outputs": [],
   "source": [
    "ratings_data = pd.read_csv(\n",
    "    'movielens-dataset/u.data', \n",
    "    sep = '\\t', \n",
    "    encoding = \"ISO-8859-1\", \n",
    "    header = None, \n",
    "    names=['user_id', 'movie_id', 'rating', 'timestamp']\n",
    ")"
   ]
  },
  {
   "cell_type": "code",
   "execution_count": 8,
   "metadata": {
    "collapsed": false
   },
   "outputs": [],
   "source": [
    "movie_data['ratings_average'] = ratings_data.groupby(['movie_id'])['rating'].mean()\n",
    "movie_data['ratings_count'] = ratings_data.groupby(['movie_id'])['rating'].count()"
   ]
  },
  {
   "cell_type": "code",
   "execution_count": 9,
   "metadata": {
    "collapsed": false
   },
   "outputs": [
    {
     "data": {
      "text/html": [
       "<div>\n",
       "<table border=\"1\" class=\"dataframe\">\n",
       "  <thead>\n",
       "    <tr style=\"text-align: right;\">\n",
       "      <th></th>\n",
       "      <th>title</th>\n",
       "      <th>ratings_average</th>\n",
       "      <th>ratings_count</th>\n",
       "    </tr>\n",
       "    <tr>\n",
       "      <th>movie_id</th>\n",
       "      <th></th>\n",
       "      <th></th>\n",
       "      <th></th>\n",
       "    </tr>\n",
       "  </thead>\n",
       "  <tbody>\n",
       "    <tr>\n",
       "      <th>1</th>\n",
       "      <td>Toy Story (1995)</td>\n",
       "      <td>3.878319</td>\n",
       "      <td>452</td>\n",
       "    </tr>\n",
       "    <tr>\n",
       "      <th>2</th>\n",
       "      <td>GoldenEye (1995)</td>\n",
       "      <td>3.206107</td>\n",
       "      <td>131</td>\n",
       "    </tr>\n",
       "    <tr>\n",
       "      <th>3</th>\n",
       "      <td>Four Rooms (1995)</td>\n",
       "      <td>3.033333</td>\n",
       "      <td>90</td>\n",
       "    </tr>\n",
       "    <tr>\n",
       "      <th>4</th>\n",
       "      <td>Get Shorty (1995)</td>\n",
       "      <td>3.550239</td>\n",
       "      <td>209</td>\n",
       "    </tr>\n",
       "    <tr>\n",
       "      <th>5</th>\n",
       "      <td>Copycat (1995)</td>\n",
       "      <td>3.302326</td>\n",
       "      <td>86</td>\n",
       "    </tr>\n",
       "  </tbody>\n",
       "</table>\n",
       "</div>"
      ],
      "text/plain": [
       "                      title  ratings_average  ratings_count\n",
       "movie_id                                                   \n",
       "1          Toy Story (1995)         3.878319            452\n",
       "2          GoldenEye (1995)         3.206107            131\n",
       "3         Four Rooms (1995)         3.033333             90\n",
       "4         Get Shorty (1995)         3.550239            209\n",
       "5            Copycat (1995)         3.302326             86"
      ]
     },
     "execution_count": 9,
     "metadata": {},
     "output_type": "execute_result"
    }
   ],
   "source": [
    "movie_data[['title', 'ratings_average', 'ratings_count']].head()"
   ]
  },
  {
   "cell_type": "markdown",
   "metadata": {},
   "source": [
    "# Remove null values"
   ]
  },
  {
   "cell_type": "code",
   "execution_count": 10,
   "metadata": {
    "collapsed": false
   },
   "outputs": [
    {
     "data": {
      "text/plain": [
       "title           False\n",
       "release_date     True\n",
       "unknown         False\n",
       "Action          False\n",
       "Adventure       False\n",
       "Animation       False\n",
       "Children's      False\n",
       "Comedy          False\n",
       "Crime           False\n",
       "Documentary     False\n",
       "Drama           False\n",
       "Fantasy         False\n",
       "Film-Noir       False\n",
       "Horror          False\n",
       "Musical         False\n",
       "Mystery         False\n",
       "Romance         False\n",
       "Sci-Fi          False\n",
       "Thriller        False\n",
       "War             False\n",
       "Western         False\n",
       "dtype: bool"
      ]
     },
     "execution_count": 10,
     "metadata": {},
     "output_type": "execute_result"
    }
   ],
   "source": [
    "movie_data[selected_columns].isnull().any()"
   ]
  },
  {
   "cell_type": "code",
   "execution_count": 11,
   "metadata": {
    "collapsed": true
   },
   "outputs": [],
   "source": [
    "null_release_dates = movie_data[movie_data['release_date'].isnull()]\n",
    "assert null_release_dates.shape[0] == 1"
   ]
  },
  {
   "cell_type": "code",
   "execution_count": 12,
   "metadata": {
    "collapsed": true
   },
   "outputs": [],
   "source": [
    "movie_data = movie_data.drop(null_release_dates.index.values)\n",
    "assert movie_data[selected_columns].isnull().any().any() == False"
   ]
  },
  {
   "cell_type": "markdown",
   "metadata": {},
   "source": [
    "# Check data types"
   ]
  },
  {
   "cell_type": "code",
   "execution_count": 13,
   "metadata": {
    "collapsed": false
   },
   "outputs": [
    {
     "data": {
      "text/plain": [
       "title                      object\n",
       "release_date       datetime64[ns]\n",
       "unknown                     int64\n",
       "Action                      int64\n",
       "Adventure                   int64\n",
       "Animation                   int64\n",
       "Children's                  int64\n",
       "Comedy                      int64\n",
       "Crime                       int64\n",
       "Documentary                 int64\n",
       "Drama                       int64\n",
       "Fantasy                     int64\n",
       "Film-Noir                   int64\n",
       "Horror                      int64\n",
       "Musical                     int64\n",
       "Mystery                     int64\n",
       "Romance                     int64\n",
       "Sci-Fi                      int64\n",
       "Thriller                    int64\n",
       "War                         int64\n",
       "Western                     int64\n",
       "ratings_average           float64\n",
       "ratings_count               int64\n",
       "dtype: object"
      ]
     },
     "execution_count": 13,
     "metadata": {},
     "output_type": "execute_result"
    }
   ],
   "source": [
    "movie_data.dtypes"
   ]
  },
  {
   "cell_type": "markdown",
   "metadata": {},
   "source": [
    "# Compute the artificial \"price\" and \"buy_probability\" attributes"
   ]
  },
  {
   "cell_type": "code",
   "execution_count": 14,
   "metadata": {
    "collapsed": false
   },
   "outputs": [],
   "source": [
    "from datetime import datetime\n",
    "import dateutil"
   ]
  },
  {
   "cell_type": "code",
   "execution_count": 15,
   "metadata": {
    "collapsed": false
   },
   "outputs": [
    {
     "data": {
      "text/html": [
       "<div>\n",
       "<table border=\"1\" class=\"dataframe\">\n",
       "  <thead>\n",
       "    <tr style=\"text-align: right;\">\n",
       "      <th></th>\n",
       "      <th>title</th>\n",
       "      <th>price</th>\n",
       "      <th>ratings_average</th>\n",
       "      <th>ratings_count</th>\n",
       "    </tr>\n",
       "    <tr>\n",
       "      <th>movie_id</th>\n",
       "      <th></th>\n",
       "      <th></th>\n",
       "      <th></th>\n",
       "      <th></th>\n",
       "    </tr>\n",
       "  </thead>\n",
       "  <tbody>\n",
       "    <tr>\n",
       "      <th>1</th>\n",
       "      <td>Toy Story (1995)</td>\n",
       "      <td>7</td>\n",
       "      <td>3.878319</td>\n",
       "      <td>452</td>\n",
       "    </tr>\n",
       "    <tr>\n",
       "      <th>2</th>\n",
       "      <td>GoldenEye (1995)</td>\n",
       "      <td>5</td>\n",
       "      <td>3.206107</td>\n",
       "      <td>131</td>\n",
       "    </tr>\n",
       "    <tr>\n",
       "      <th>3</th>\n",
       "      <td>Four Rooms (1995)</td>\n",
       "      <td>5</td>\n",
       "      <td>3.033333</td>\n",
       "      <td>90</td>\n",
       "    </tr>\n",
       "    <tr>\n",
       "      <th>4</th>\n",
       "      <td>Get Shorty (1995)</td>\n",
       "      <td>6</td>\n",
       "      <td>3.550239</td>\n",
       "      <td>209</td>\n",
       "    </tr>\n",
       "    <tr>\n",
       "      <th>5</th>\n",
       "      <td>Copycat (1995)</td>\n",
       "      <td>5</td>\n",
       "      <td>3.302326</td>\n",
       "      <td>86</td>\n",
       "    </tr>\n",
       "  </tbody>\n",
       "</table>\n",
       "</div>"
      ],
      "text/plain": [
       "                      title  price  ratings_average  ratings_count\n",
       "movie_id                                                          \n",
       "1          Toy Story (1995)      7         3.878319            452\n",
       "2          GoldenEye (1995)      5         3.206107            131\n",
       "3         Four Rooms (1995)      5         3.033333             90\n",
       "4         Get Shorty (1995)      6         3.550239            209\n",
       "5            Copycat (1995)      5         3.302326             86"
      ]
     },
     "execution_count": 15,
     "metadata": {},
     "output_type": "execute_result"
    }
   ],
   "source": [
    "oldest_date = pd.to_datetime(movie_data['release_date']).min()\n",
    "most_recent_date = pd.to_datetime(movie_data['release_date']).max()\n",
    "normalised_age = (most_recent_date - pd.to_datetime(movie_data['release_date'])) / (most_recent_date - oldest_date)\n",
    "normalised_rating = (5 - movie_data['ratings_average']) / (5 - 1)\n",
    "\n",
    "movie_data['price'] = np.round((1 - normalised_rating) * (1 - normalised_age) * 10)\n",
    "movie_data[['title', 'price', 'ratings_average', 'ratings_count']].head()"
   ]
  },
  {
   "cell_type": "code",
   "execution_count": 16,
   "metadata": {
    "collapsed": true
   },
   "outputs": [],
   "source": [
    "# one movie had title unknown, relesease data unknown, etc...\n",
    "movie_data = movie_data[movie_data['price'].notnull()]"
   ]
  },
  {
   "cell_type": "code",
   "execution_count": 17,
   "metadata": {
    "collapsed": false
   },
   "outputs": [],
   "source": [
    "# the lower the price, the more likely I am going to buy\n",
    "movie_data['buy_probability'] = 1 - movie_data['price'] * 0.1"
   ]
  },
  {
   "cell_type": "markdown",
   "metadata": {},
   "source": [
    "# Look at the data"
   ]
  },
  {
   "cell_type": "code",
   "execution_count": 18,
   "metadata": {
    "collapsed": false
   },
   "outputs": [
    {
     "data": {
      "text/html": [
       "<div>\n",
       "<table border=\"1\" class=\"dataframe\">\n",
       "  <thead>\n",
       "    <tr style=\"text-align: right;\">\n",
       "      <th></th>\n",
       "      <th>title</th>\n",
       "      <th>release_date</th>\n",
       "      <th>unknown</th>\n",
       "      <th>Action</th>\n",
       "      <th>Adventure</th>\n",
       "      <th>Animation</th>\n",
       "      <th>Children's</th>\n",
       "      <th>Comedy</th>\n",
       "      <th>Crime</th>\n",
       "      <th>Documentary</th>\n",
       "      <th>...</th>\n",
       "      <th>Mystery</th>\n",
       "      <th>Romance</th>\n",
       "      <th>Sci-Fi</th>\n",
       "      <th>Thriller</th>\n",
       "      <th>War</th>\n",
       "      <th>Western</th>\n",
       "      <th>ratings_average</th>\n",
       "      <th>ratings_count</th>\n",
       "      <th>price</th>\n",
       "      <th>buy_probability</th>\n",
       "    </tr>\n",
       "    <tr>\n",
       "      <th>movie_id</th>\n",
       "      <th></th>\n",
       "      <th></th>\n",
       "      <th></th>\n",
       "      <th></th>\n",
       "      <th></th>\n",
       "      <th></th>\n",
       "      <th></th>\n",
       "      <th></th>\n",
       "      <th></th>\n",
       "      <th></th>\n",
       "      <th></th>\n",
       "      <th></th>\n",
       "      <th></th>\n",
       "      <th></th>\n",
       "      <th></th>\n",
       "      <th></th>\n",
       "      <th></th>\n",
       "      <th></th>\n",
       "      <th></th>\n",
       "      <th></th>\n",
       "      <th></th>\n",
       "    </tr>\n",
       "  </thead>\n",
       "  <tbody>\n",
       "    <tr>\n",
       "      <th>1</th>\n",
       "      <td>Toy Story (1995)</td>\n",
       "      <td>1995-01-01</td>\n",
       "      <td>0</td>\n",
       "      <td>0</td>\n",
       "      <td>0</td>\n",
       "      <td>1</td>\n",
       "      <td>1</td>\n",
       "      <td>1</td>\n",
       "      <td>0</td>\n",
       "      <td>0</td>\n",
       "      <td>...</td>\n",
       "      <td>0</td>\n",
       "      <td>0</td>\n",
       "      <td>0</td>\n",
       "      <td>0</td>\n",
       "      <td>0</td>\n",
       "      <td>0</td>\n",
       "      <td>3.878319</td>\n",
       "      <td>452</td>\n",
       "      <td>7</td>\n",
       "      <td>0.3</td>\n",
       "    </tr>\n",
       "    <tr>\n",
       "      <th>2</th>\n",
       "      <td>GoldenEye (1995)</td>\n",
       "      <td>1995-01-01</td>\n",
       "      <td>0</td>\n",
       "      <td>1</td>\n",
       "      <td>1</td>\n",
       "      <td>0</td>\n",
       "      <td>0</td>\n",
       "      <td>0</td>\n",
       "      <td>0</td>\n",
       "      <td>0</td>\n",
       "      <td>...</td>\n",
       "      <td>0</td>\n",
       "      <td>0</td>\n",
       "      <td>0</td>\n",
       "      <td>1</td>\n",
       "      <td>0</td>\n",
       "      <td>0</td>\n",
       "      <td>3.206107</td>\n",
       "      <td>131</td>\n",
       "      <td>5</td>\n",
       "      <td>0.5</td>\n",
       "    </tr>\n",
       "    <tr>\n",
       "      <th>3</th>\n",
       "      <td>Four Rooms (1995)</td>\n",
       "      <td>1995-01-01</td>\n",
       "      <td>0</td>\n",
       "      <td>0</td>\n",
       "      <td>0</td>\n",
       "      <td>0</td>\n",
       "      <td>0</td>\n",
       "      <td>0</td>\n",
       "      <td>0</td>\n",
       "      <td>0</td>\n",
       "      <td>...</td>\n",
       "      <td>0</td>\n",
       "      <td>0</td>\n",
       "      <td>0</td>\n",
       "      <td>1</td>\n",
       "      <td>0</td>\n",
       "      <td>0</td>\n",
       "      <td>3.033333</td>\n",
       "      <td>90</td>\n",
       "      <td>5</td>\n",
       "      <td>0.5</td>\n",
       "    </tr>\n",
       "    <tr>\n",
       "      <th>4</th>\n",
       "      <td>Get Shorty (1995)</td>\n",
       "      <td>1995-01-01</td>\n",
       "      <td>0</td>\n",
       "      <td>1</td>\n",
       "      <td>0</td>\n",
       "      <td>0</td>\n",
       "      <td>0</td>\n",
       "      <td>1</td>\n",
       "      <td>0</td>\n",
       "      <td>0</td>\n",
       "      <td>...</td>\n",
       "      <td>0</td>\n",
       "      <td>0</td>\n",
       "      <td>0</td>\n",
       "      <td>0</td>\n",
       "      <td>0</td>\n",
       "      <td>0</td>\n",
       "      <td>3.550239</td>\n",
       "      <td>209</td>\n",
       "      <td>6</td>\n",
       "      <td>0.4</td>\n",
       "    </tr>\n",
       "    <tr>\n",
       "      <th>5</th>\n",
       "      <td>Copycat (1995)</td>\n",
       "      <td>1995-01-01</td>\n",
       "      <td>0</td>\n",
       "      <td>0</td>\n",
       "      <td>0</td>\n",
       "      <td>0</td>\n",
       "      <td>0</td>\n",
       "      <td>0</td>\n",
       "      <td>1</td>\n",
       "      <td>0</td>\n",
       "      <td>...</td>\n",
       "      <td>0</td>\n",
       "      <td>0</td>\n",
       "      <td>0</td>\n",
       "      <td>1</td>\n",
       "      <td>0</td>\n",
       "      <td>0</td>\n",
       "      <td>3.302326</td>\n",
       "      <td>86</td>\n",
       "      <td>5</td>\n",
       "      <td>0.5</td>\n",
       "    </tr>\n",
       "  </tbody>\n",
       "</table>\n",
       "<p>5 rows × 25 columns</p>\n",
       "</div>"
      ],
      "text/plain": [
       "                      title release_date  unknown  Action  Adventure  \\\n",
       "movie_id                                                               \n",
       "1          Toy Story (1995)   1995-01-01        0       0          0   \n",
       "2          GoldenEye (1995)   1995-01-01        0       1          1   \n",
       "3         Four Rooms (1995)   1995-01-01        0       0          0   \n",
       "4         Get Shorty (1995)   1995-01-01        0       1          0   \n",
       "5            Copycat (1995)   1995-01-01        0       0          0   \n",
       "\n",
       "          Animation  Children's  Comedy  Crime  Documentary       ...         \\\n",
       "movie_id                                                          ...          \n",
       "1                 1           1       1      0            0       ...          \n",
       "2                 0           0       0      0            0       ...          \n",
       "3                 0           0       0      0            0       ...          \n",
       "4                 0           0       1      0            0       ...          \n",
       "5                 0           0       0      1            0       ...          \n",
       "\n",
       "          Mystery  Romance  Sci-Fi  Thriller  War  Western  ratings_average  \\\n",
       "movie_id                                                                      \n",
       "1               0        0       0         0    0        0         3.878319   \n",
       "2               0        0       0         1    0        0         3.206107   \n",
       "3               0        0       0         1    0        0         3.033333   \n",
       "4               0        0       0         0    0        0         3.550239   \n",
       "5               0        0       0         1    0        0         3.302326   \n",
       "\n",
       "          ratings_count  price  buy_probability  \n",
       "movie_id                                         \n",
       "1                   452      7              0.3  \n",
       "2                   131      5              0.5  \n",
       "3                    90      5              0.5  \n",
       "4                   209      6              0.4  \n",
       "5                    86      5              0.5  \n",
       "\n",
       "[5 rows x 25 columns]"
      ]
     },
     "execution_count": 18,
     "metadata": {},
     "output_type": "execute_result"
    }
   ],
   "source": [
    "movie_data.head()"
   ]
  },
  {
   "cell_type": "markdown",
   "metadata": {},
   "source": [
    "## Genres distribution"
   ]
  },
  {
   "cell_type": "code",
   "execution_count": 19,
   "metadata": {
    "collapsed": false
   },
   "outputs": [
    {
     "data": {
      "text/html": [
       "<div>\n",
       "<table border=\"1\" class=\"dataframe\">\n",
       "  <thead>\n",
       "    <tr style=\"text-align: right;\">\n",
       "      <th></th>\n",
       "      <th>count</th>\n",
       "      <th>name</th>\n",
       "    </tr>\n",
       "  </thead>\n",
       "  <tbody>\n",
       "    <tr>\n",
       "      <th>0</th>\n",
       "      <td>1</td>\n",
       "      <td>unknown</td>\n",
       "    </tr>\n",
       "    <tr>\n",
       "      <th>1</th>\n",
       "      <td>251</td>\n",
       "      <td>Action</td>\n",
       "    </tr>\n",
       "    <tr>\n",
       "      <th>2</th>\n",
       "      <td>135</td>\n",
       "      <td>Adventure</td>\n",
       "    </tr>\n",
       "    <tr>\n",
       "      <th>3</th>\n",
       "      <td>42</td>\n",
       "      <td>Animation</td>\n",
       "    </tr>\n",
       "    <tr>\n",
       "      <th>4</th>\n",
       "      <td>122</td>\n",
       "      <td>Children's</td>\n",
       "    </tr>\n",
       "  </tbody>\n",
       "</table>\n",
       "</div>"
      ],
      "text/plain": [
       "   count        name\n",
       "0      1     unknown\n",
       "1    251      Action\n",
       "2    135   Adventure\n",
       "3     42   Animation\n",
       "4    122  Children's"
      ]
     },
     "execution_count": 19,
     "metadata": {},
     "output_type": "execute_result"
    }
   ],
   "source": [
    "genres_array = [(genre, movie_data[genre].sum()) for genre in genres_data['name'].values]\n",
    "genres_names = list(map(lambda x: x[0], genres_array))\n",
    "genres_count = list(map(lambda x: x[1], genres_array))\n",
    "\n",
    "genres_df = pd.DataFrame({'name': genres_names, 'count': genres_count})\n",
    "genres_df.head()"
   ]
  },
  {
   "cell_type": "code",
   "execution_count": 20,
   "metadata": {
    "collapsed": false
   },
   "outputs": [
    {
     "data": {
      "image/png": "[encoded data removed]"
     },
     "metadata": {},
     "output_type": "display_data"
    }
   ],
   "source": [
    "%%R -i genres_df -w 500 -h 300\n",
    "\n",
    "ggplot(genres_df, aes(x=name, y=count)) + \n",
    "geom_bar(stat=\"identity\") +\n",
    "theme(axis.text.x = element_text(angle=90))"
   ]
  },
  {
   "cell_type": "markdown",
   "metadata": {},
   "source": [
    "## Release date distribution"
   ]
  },
  {
   "cell_type": "code",
   "execution_count": 21,
   "metadata": {
    "collapsed": false
   },
   "outputs": [
    {
     "data": {
      "image/png": "[encoded data removed]"
     },
     "metadata": {},
     "output_type": "display_data"
    }
   ],
   "source": [
    "%%R -i movie_data -w 3000 -h 500\n",
    "\n",
    "ggplot(movie_data, aes(x=release_date)) + \n",
    "geom_bar() +\n",
    "theme(axis.text.x = element_text(angle=90))"
   ]
  },
  {
   "cell_type": "markdown",
   "metadata": {},
   "source": [
    "## Ratings average distribution"
   ]
  },
  {
   "cell_type": "code",
   "execution_count": 22,
   "metadata": {
    "collapsed": false
   },
   "outputs": [
    {
     "data": {
      "image/png": "[encoded data removed]"
     },
     "metadata": {},
     "output_type": "display_data"
    }
   ],
   "source": [
    "%%R -i movie_data -w 500 -h 300\n",
    "\n",
    "ggplot(movie_data, aes(x=ratings_average)) + \n",
    "geom_bar() +\n",
    "theme(axis.text.x = element_text(angle=90))"
   ]
  },
  {
   "cell_type": "markdown",
   "metadata": {},
   "source": [
    "## Price"
   ]
  },
  {
   "cell_type": "code",
   "execution_count": 23,
   "metadata": {
    "collapsed": false
   },
   "outputs": [
    {
     "data": {
      "image/png": "[encoded data removed]"
     },
     "metadata": {},
     "output_type": "display_data"
    }
   ],
   "source": [
    "%%R -i movie_data -w 500 -h 300\n",
    "\n",
    "ggplot(movie_data, aes(x=price)) + \n",
    "geom_bar() +\n",
    "theme(axis.text.x = element_text(angle=90))"
   ]
  },
  {
   "cell_type": "markdown",
   "metadata": {},
   "source": [
    "## Ratings count distribution"
   ]
  },
  {
   "cell_type": "code",
   "execution_count": 24,
   "metadata": {
    "collapsed": false
   },
   "outputs": [
    {
     "data": {
      "image/png": "[encoded data removed]"
     },
     "metadata": {},
     "output_type": "display_data"
    }
   ],
   "source": [
    "%%R -i movie_data -w 500 -h 300\n",
    "\n",
    "ggplot(movie_data, aes(x=ratings_count)) + \n",
    "geom_bar() +\n",
    "theme(axis.text.x = element_text(angle=90))"
   ]
  },
  {
   "cell_type": "markdown",
   "metadata": {},
   "source": [
    "## Buy probability distribution"
   ]
  },
  {
   "cell_type": "code",
   "execution_count": 25,
   "metadata": {
    "collapsed": false
   },
   "outputs": [
    {
     "data": {
      "image/png": "[encoded data removed]"
     },
     "metadata": {},
     "output_type": "display_data"
    }
   ],
   "source": [
    "%%R -i movie_data -w 500 -h 300\n",
    "\n",
    "ggplot(movie_data, aes(x=buy_probability)) + \n",
    "geom_bar() +\n",
    "theme(axis.text.x = element_text(angle=90))"
   ]
  },
  {
   "cell_type": "markdown",
   "metadata": {},
   "source": [
    "## Buy and Price relation"
   ]
  },
  {
   "cell_type": "code",
   "execution_count": 26,
   "metadata": {
    "collapsed": false
   },
   "outputs": [
    {
     "data": {
      "image/png": "[encoded data removed]"
     },
     "metadata": {},
     "output_type": "display_data"
    }
   ],
   "source": [
    "%%R -i movie_data\n",
    "ggplot(movie_data, aes(x=price, y=buy_probability)) + geom_point(position = position_jitter())"
   ]
  },
  {
   "cell_type": "markdown",
   "metadata": {},
   "source": [
    "# Events database"
   ]
  },
  {
   "cell_type": "markdown",
   "metadata": {},
   "source": [
    "Each user has a certain probability of renting a movie. Let `X` the random variable being `1` if the user rented the movie and `0` otherwise.  \n",
    "\n",
    "$$X \\backsim Bernoulli(p)$$\n",
    "\n",
    "where $p=f(movie~features)$."
   ]
  },
  {
   "cell_type": "code",
   "execution_count": 27,
   "metadata": {
    "collapsed": true
   },
   "outputs": [],
   "source": [
    "np.random.seed(1)"
   ]
  },
  {
   "cell_type": "code",
   "execution_count": 28,
   "metadata": {
    "collapsed": true
   },
   "outputs": [],
   "source": [
    "# Saw a movie and ended up buying it\n",
    "# [\n",
    "#   user_1: [list of movies]\n",
    "#   user_2: [list of movies]\n",
    "#   ...\n",
    "# ]\n",
    "class PositiveEvents:\n",
    "    def __init__(self):\n",
    "        self.data = []\n",
    "    \n",
    "    def add(self, user_id, movie_id):\n",
    "        self.data.append({'user_id': user_id, 'movie_id': movie_id})\n",
    "    \n",
    "    def all(self):\n",
    "        return self.data\n",
    "\n",
    "# Saw a movie but did not buy\n",
    "# [\n",
    "#   user_1: [list of movies]\n",
    "#   user_2: [list of movies]\n",
    "#   ...\n",
    "# ]\n",
    "class NegativeEvents:\n",
    "    def __init__(self):\n",
    "        self.data = []\n",
    "        \n",
    "    def add(self, user_id, movie_id):\n",
    "        self.data.append({'user_id': user_id, 'movie_id': movie_id})\n",
    "    \n",
    "    def all(self):\n",
    "        return self.data\n",
    "\n",
    "# The users database\n",
    "class Users:\n",
    "    def __init__(self):\n",
    "        self.data = []\n",
    "        \n",
    "    def add(self, user_id):\n",
    "        self.data.append({'user_id': user_id})\n",
    "    \n",
    "    def all(self):\n",
    "        return self.data"
   ]
  },
  {
   "cell_type": "code",
   "execution_count": 29,
   "metadata": {
    "collapsed": false
   },
   "outputs": [],
   "source": [
    "NUM_OF_OPENED_MOVIES_PER_USER = 20\n",
    "NUM_OF_USERS = 20000\n",
    "\n",
    "users = Users()\n",
    "positive_events = PositiveEvents()\n",
    "negative_events = NegativeEvents()\n",
    "\n",
    "for id in range(1, NUM_OF_USERS):\n",
    "    users.add(id)\n",
    "\n",
    "for user in users.all():\n",
    "    opened_movies = np.random.choice(movie_data.index.values, NUM_OF_OPENED_MOVIES_PER_USER)\n",
    "    \n",
    "    for movie_id in opened_movies:\n",
    "        if np.random.binomial(1, movie_data.loc[movie_id].buy_probability): \n",
    "            positive_events.add(user['user_id'], movie_id)\n",
    "        else:\n",
    "            negative_events.add(user['user_id'], movie_id)"
   ]
  },
  {
   "cell_type": "code",
   "execution_count": 30,
   "metadata": {
    "collapsed": false
   },
   "outputs": [
    {
     "data": {
      "text/plain": [
       "(1681, 25)"
      ]
     },
     "execution_count": 30,
     "metadata": {},
     "output_type": "execute_result"
    }
   ],
   "source": [
    "movie_data.shape"
   ]
  },
  {
   "cell_type": "code",
   "execution_count": 31,
   "metadata": {
    "collapsed": false
   },
   "outputs": [
    {
     "data": {
      "text/plain": [
       "222185"
      ]
     },
     "execution_count": 31,
     "metadata": {},
     "output_type": "execute_result"
    }
   ],
   "source": [
    "len(positive_events.all())"
   ]
  },
  {
   "cell_type": "code",
   "execution_count": 32,
   "metadata": {
    "collapsed": false
   },
   "outputs": [
    {
     "data": {
      "text/plain": [
       "177795"
      ]
     },
     "execution_count": 32,
     "metadata": {},
     "output_type": "execute_result"
    }
   ],
   "source": [
    "len(negative_events.all())"
   ]
  },
  {
   "cell_type": "markdown",
   "metadata": {},
   "source": [
    "# Generates data for training/testing"
   ]
  },
  {
   "cell_type": "code",
   "execution_count": 33,
   "metadata": {
    "collapsed": true
   },
   "outputs": [],
   "source": [
    "from sklearn import preprocessing\n",
    "from sklearn.preprocessing import StandardScaler"
   ]
  },
  {
   "cell_type": "code",
   "execution_count": 34,
   "metadata": {
    "collapsed": false
   },
   "outputs": [
    {
     "data": {
      "text/html": [
       "<div>\n",
       "<table border=\"1\" class=\"dataframe\">\n",
       "  <thead>\n",
       "    <tr style=\"text-align: right;\">\n",
       "      <th></th>\n",
       "      <th>title</th>\n",
       "      <th>release_date</th>\n",
       "      <th>unknown</th>\n",
       "      <th>Action</th>\n",
       "      <th>Adventure</th>\n",
       "      <th>Animation</th>\n",
       "      <th>Children's</th>\n",
       "      <th>Comedy</th>\n",
       "      <th>Crime</th>\n",
       "      <th>Documentary</th>\n",
       "      <th>...</th>\n",
       "      <th>Mystery</th>\n",
       "      <th>Romance</th>\n",
       "      <th>Sci-Fi</th>\n",
       "      <th>Thriller</th>\n",
       "      <th>War</th>\n",
       "      <th>Western</th>\n",
       "      <th>ratings_average</th>\n",
       "      <th>ratings_count</th>\n",
       "      <th>price</th>\n",
       "      <th>buy_probability</th>\n",
       "    </tr>\n",
       "    <tr>\n",
       "      <th>movie_id</th>\n",
       "      <th></th>\n",
       "      <th></th>\n",
       "      <th></th>\n",
       "      <th></th>\n",
       "      <th></th>\n",
       "      <th></th>\n",
       "      <th></th>\n",
       "      <th></th>\n",
       "      <th></th>\n",
       "      <th></th>\n",
       "      <th></th>\n",
       "      <th></th>\n",
       "      <th></th>\n",
       "      <th></th>\n",
       "      <th></th>\n",
       "      <th></th>\n",
       "      <th></th>\n",
       "      <th></th>\n",
       "      <th></th>\n",
       "      <th></th>\n",
       "      <th></th>\n",
       "    </tr>\n",
       "  </thead>\n",
       "  <tbody>\n",
       "    <tr>\n",
       "      <th>1</th>\n",
       "      <td>Toy Story (1995)</td>\n",
       "      <td>1995-01-01</td>\n",
       "      <td>0</td>\n",
       "      <td>0</td>\n",
       "      <td>0</td>\n",
       "      <td>1</td>\n",
       "      <td>1</td>\n",
       "      <td>1</td>\n",
       "      <td>0</td>\n",
       "      <td>0</td>\n",
       "      <td>...</td>\n",
       "      <td>0</td>\n",
       "      <td>0</td>\n",
       "      <td>0</td>\n",
       "      <td>0</td>\n",
       "      <td>0</td>\n",
       "      <td>0</td>\n",
       "      <td>3.878319</td>\n",
       "      <td>452</td>\n",
       "      <td>7</td>\n",
       "      <td>0.3</td>\n",
       "    </tr>\n",
       "  </tbody>\n",
       "</table>\n",
       "<p>1 rows × 25 columns</p>\n",
       "</div>"
      ],
      "text/plain": [
       "                     title release_date  unknown  Action  Adventure  \\\n",
       "movie_id                                                              \n",
       "1         Toy Story (1995)   1995-01-01        0       0          0   \n",
       "\n",
       "          Animation  Children's  Comedy  Crime  Documentary       ...         \\\n",
       "movie_id                                                          ...          \n",
       "1                 1           1       1      0            0       ...          \n",
       "\n",
       "          Mystery  Romance  Sci-Fi  Thriller  War  Western  ratings_average  \\\n",
       "movie_id                                                                      \n",
       "1               0        0       0         0    0        0         3.878319   \n",
       "\n",
       "          ratings_count  price  buy_probability  \n",
       "movie_id                                         \n",
       "1                   452      7              0.3  \n",
       "\n",
       "[1 rows x 25 columns]"
      ]
     },
     "execution_count": 34,
     "metadata": {},
     "output_type": "execute_result"
    }
   ],
   "source": [
    "movie_data.head(1)"
   ]
  },
  {
   "cell_type": "code",
   "execution_count": 35,
   "metadata": {
    "collapsed": false
   },
   "outputs": [
    {
     "data": {
      "text/plain": [
       "array(['Action', 'Adventure', 'Animation', \"Children's\", 'Comedy', 'Crime',\n",
       "       'Documentary', 'Drama', 'Fantasy', 'Film-Noir', 'Horror', 'Musical',\n",
       "       'Mystery', 'Romance', 'Sci-Fi', 'Thriller', 'War', 'Western',\n",
       "       'price', 'ratings_average', 'ratings_count', 'release_date',\n",
       "       'unknown'], dtype=object)"
      ]
     },
     "execution_count": 35,
     "metadata": {},
     "output_type": "execute_result"
    }
   ],
   "source": [
    "feature_columns = np.setdiff1d(movie_data.columns, np.array(['title', 'buy_probability']))\n",
    "feature_columns"
   ]
  },
  {
   "cell_type": "code",
   "execution_count": 36,
   "metadata": {
    "collapsed": false,
    "scrolled": true
   },
   "outputs": [
    {
     "data": {
      "text/html": [
       "<div>\n",
       "<table border=\"1\" class=\"dataframe\">\n",
       "  <thead>\n",
       "    <tr style=\"text-align: right;\">\n",
       "      <th></th>\n",
       "      <th>Action</th>\n",
       "      <th>Adventure</th>\n",
       "      <th>Animation</th>\n",
       "      <th>Children's</th>\n",
       "      <th>Comedy</th>\n",
       "      <th>Crime</th>\n",
       "      <th>Documentary</th>\n",
       "      <th>Drama</th>\n",
       "      <th>Fantasy</th>\n",
       "      <th>Film-Noir</th>\n",
       "      <th>...</th>\n",
       "      <th>Romance</th>\n",
       "      <th>Sci-Fi</th>\n",
       "      <th>Thriller</th>\n",
       "      <th>War</th>\n",
       "      <th>Western</th>\n",
       "      <th>price</th>\n",
       "      <th>ratings_average</th>\n",
       "      <th>ratings_count</th>\n",
       "      <th>release_date</th>\n",
       "      <th>unknown</th>\n",
       "    </tr>\n",
       "    <tr>\n",
       "      <th>movie_id</th>\n",
       "      <th></th>\n",
       "      <th></th>\n",
       "      <th></th>\n",
       "      <th></th>\n",
       "      <th></th>\n",
       "      <th></th>\n",
       "      <th></th>\n",
       "      <th></th>\n",
       "      <th></th>\n",
       "      <th></th>\n",
       "      <th></th>\n",
       "      <th></th>\n",
       "      <th></th>\n",
       "      <th></th>\n",
       "      <th></th>\n",
       "      <th></th>\n",
       "      <th></th>\n",
       "      <th></th>\n",
       "      <th></th>\n",
       "      <th></th>\n",
       "      <th></th>\n",
       "    </tr>\n",
       "  </thead>\n",
       "  <tbody>\n",
       "    <tr>\n",
       "      <th>1</th>\n",
       "      <td>0</td>\n",
       "      <td>0</td>\n",
       "      <td>1</td>\n",
       "      <td>1</td>\n",
       "      <td>1</td>\n",
       "      <td>0</td>\n",
       "      <td>0</td>\n",
       "      <td>0</td>\n",
       "      <td>0</td>\n",
       "      <td>0</td>\n",
       "      <td>...</td>\n",
       "      <td>0</td>\n",
       "      <td>0</td>\n",
       "      <td>0</td>\n",
       "      <td>0</td>\n",
       "      <td>0</td>\n",
       "      <td>7</td>\n",
       "      <td>3.878319</td>\n",
       "      <td>452</td>\n",
       "      <td>1995-01-01</td>\n",
       "      <td>0</td>\n",
       "    </tr>\n",
       "  </tbody>\n",
       "</table>\n",
       "<p>1 rows × 23 columns</p>\n",
       "</div>"
      ],
      "text/plain": [
       "          Action  Adventure  Animation  Children's  Comedy  Crime  \\\n",
       "movie_id                                                            \n",
       "1              0          0          1           1       1      0   \n",
       "\n",
       "          Documentary  Drama  Fantasy  Film-Noir   ...     Romance  Sci-Fi  \\\n",
       "movie_id                                           ...                       \n",
       "1                   0      0        0          0   ...           0       0   \n",
       "\n",
       "          Thriller  War  Western  price  ratings_average  ratings_count  \\\n",
       "movie_id                                                                  \n",
       "1                0    0        0      7         3.878319            452   \n",
       "\n",
       "          release_date  unknown  \n",
       "movie_id                         \n",
       "1           1995-01-01        0  \n",
       "\n",
       "[1 rows x 23 columns]"
      ]
     },
     "execution_count": 36,
     "metadata": {},
     "output_type": "execute_result"
    }
   ],
   "source": [
    "learning_data = movie_data.loc[:, feature_columns]\n",
    "learning_data.head(1)"
   ]
  },
  {
   "cell_type": "code",
   "execution_count": 37,
   "metadata": {
    "collapsed": false
   },
   "outputs": [
    {
     "data": {
      "text/html": [
       "<div>\n",
       "<table border=\"1\" class=\"dataframe\">\n",
       "  <thead>\n",
       "    <tr style=\"text-align: right;\">\n",
       "      <th></th>\n",
       "      <th>Action</th>\n",
       "      <th>Adventure</th>\n",
       "      <th>Animation</th>\n",
       "      <th>Children's</th>\n",
       "      <th>Comedy</th>\n",
       "      <th>Crime</th>\n",
       "      <th>Documentary</th>\n",
       "      <th>Drama</th>\n",
       "      <th>Fantasy</th>\n",
       "      <th>Film-Noir</th>\n",
       "      <th>...</th>\n",
       "      <th>Romance</th>\n",
       "      <th>Sci-Fi</th>\n",
       "      <th>Thriller</th>\n",
       "      <th>War</th>\n",
       "      <th>Western</th>\n",
       "      <th>price</th>\n",
       "      <th>ratings_average</th>\n",
       "      <th>ratings_count</th>\n",
       "      <th>release_date</th>\n",
       "      <th>unknown</th>\n",
       "    </tr>\n",
       "    <tr>\n",
       "      <th>movie_id</th>\n",
       "      <th></th>\n",
       "      <th></th>\n",
       "      <th></th>\n",
       "      <th></th>\n",
       "      <th></th>\n",
       "      <th></th>\n",
       "      <th></th>\n",
       "      <th></th>\n",
       "      <th></th>\n",
       "      <th></th>\n",
       "      <th></th>\n",
       "      <th></th>\n",
       "      <th></th>\n",
       "      <th></th>\n",
       "      <th></th>\n",
       "      <th></th>\n",
       "      <th></th>\n",
       "      <th></th>\n",
       "      <th></th>\n",
       "      <th></th>\n",
       "      <th></th>\n",
       "    </tr>\n",
       "  </thead>\n",
       "  <tbody>\n",
       "    <tr>\n",
       "      <th>1</th>\n",
       "      <td>0</td>\n",
       "      <td>0</td>\n",
       "      <td>1</td>\n",
       "      <td>1</td>\n",
       "      <td>1</td>\n",
       "      <td>0</td>\n",
       "      <td>0</td>\n",
       "      <td>0</td>\n",
       "      <td>0</td>\n",
       "      <td>0</td>\n",
       "      <td>...</td>\n",
       "      <td>0</td>\n",
       "      <td>0</td>\n",
       "      <td>0</td>\n",
       "      <td>0</td>\n",
       "      <td>0</td>\n",
       "      <td>1.344357</td>\n",
       "      <td>1.026718</td>\n",
       "      <td>4.883605</td>\n",
       "      <td>0.393978</td>\n",
       "      <td>0</td>\n",
       "    </tr>\n",
       "  </tbody>\n",
       "</table>\n",
       "<p>1 rows × 23 columns</p>\n",
       "</div>"
      ],
      "text/plain": [
       "          Action  Adventure  Animation  Children's  Comedy  Crime  \\\n",
       "movie_id                                                            \n",
       "1              0          0          1           1       1      0   \n",
       "\n",
       "          Documentary  Drama  Fantasy  Film-Noir   ...     Romance  Sci-Fi  \\\n",
       "movie_id                                           ...                       \n",
       "1                   0      0        0          0   ...           0       0   \n",
       "\n",
       "          Thriller  War  Western     price  ratings_average  ratings_count  \\\n",
       "movie_id                                                                     \n",
       "1                0    0        0  1.344357         1.026718       4.883605   \n",
       "\n",
       "          release_date  unknown  \n",
       "movie_id                         \n",
       "1             0.393978        0  \n",
       "\n",
       "[1 rows x 23 columns]"
      ]
     },
     "execution_count": 37,
     "metadata": {},
     "output_type": "execute_result"
    }
   ],
   "source": [
    "scaler = StandardScaler()\n",
    "learning_data.loc[:, ('price')] = scaler.fit_transform(learning_data[['price']])\n",
    "learning_data['ratings_average'] = scaler.fit_transform(learning_data[['ratings_average']])\n",
    "learning_data['ratings_count'] = scaler.fit_transform(learning_data[['ratings_count']])\n",
    "learning_data['release_date'] = learning_data['release_date'].apply(lambda x: x.year)\n",
    "learning_data['release_date'] = scaler.fit_transform(learning_data[['release_date']])\n",
    "\n",
    "learning_data.head(1)"
   ]
  },
  {
   "cell_type": "markdown",
   "metadata": {},
   "source": [
    "# Create the events for learning"
   ]
  },
  {
   "cell_type": "code",
   "execution_count": 38,
   "metadata": {
    "collapsed": false
   },
   "outputs": [
    {
     "data": {
      "text/html": [
       "<div>\n",
       "<table border=\"1\" class=\"dataframe\">\n",
       "  <thead>\n",
       "    <tr style=\"text-align: right;\">\n",
       "      <th></th>\n",
       "      <th>Action</th>\n",
       "      <th>Adventure</th>\n",
       "      <th>Animation</th>\n",
       "      <th>Children's</th>\n",
       "      <th>Comedy</th>\n",
       "      <th>Crime</th>\n",
       "      <th>Documentary</th>\n",
       "      <th>Drama</th>\n",
       "      <th>Fantasy</th>\n",
       "      <th>Film-Noir</th>\n",
       "      <th>...</th>\n",
       "      <th>Sci-Fi</th>\n",
       "      <th>Thriller</th>\n",
       "      <th>War</th>\n",
       "      <th>Western</th>\n",
       "      <th>outcome</th>\n",
       "      <th>price</th>\n",
       "      <th>ratings_average</th>\n",
       "      <th>ratings_count</th>\n",
       "      <th>release_date</th>\n",
       "      <th>unknown</th>\n",
       "    </tr>\n",
       "  </thead>\n",
       "  <tbody>\n",
       "    <tr>\n",
       "      <th>0</th>\n",
       "      <td>0</td>\n",
       "      <td>0</td>\n",
       "      <td>0</td>\n",
       "      <td>0</td>\n",
       "      <td>1</td>\n",
       "      <td>0</td>\n",
       "      <td>0</td>\n",
       "      <td>0</td>\n",
       "      <td>0</td>\n",
       "      <td>0</td>\n",
       "      <td>...</td>\n",
       "      <td>0</td>\n",
       "      <td>0</td>\n",
       "      <td>0</td>\n",
       "      <td>0</td>\n",
       "      <td>1</td>\n",
       "      <td>-1.307443</td>\n",
       "      <td>-1.376422</td>\n",
       "      <td>-0.715191</td>\n",
       "      <td>0.534335</td>\n",
       "      <td>0</td>\n",
       "    </tr>\n",
       "    <tr>\n",
       "      <th>1</th>\n",
       "      <td>0</td>\n",
       "      <td>0</td>\n",
       "      <td>0</td>\n",
       "      <td>0</td>\n",
       "      <td>0</td>\n",
       "      <td>0</td>\n",
       "      <td>0</td>\n",
       "      <td>1</td>\n",
       "      <td>0</td>\n",
       "      <td>0</td>\n",
       "      <td>...</td>\n",
       "      <td>0</td>\n",
       "      <td>0</td>\n",
       "      <td>0</td>\n",
       "      <td>0</td>\n",
       "      <td>1</td>\n",
       "      <td>-2.368163</td>\n",
       "      <td>-2.655833</td>\n",
       "      <td>-0.727633</td>\n",
       "      <td>0.604514</td>\n",
       "      <td>0</td>\n",
       "    </tr>\n",
       "    <tr>\n",
       "      <th>2</th>\n",
       "      <td>1</td>\n",
       "      <td>0</td>\n",
       "      <td>0</td>\n",
       "      <td>0</td>\n",
       "      <td>0</td>\n",
       "      <td>0</td>\n",
       "      <td>0</td>\n",
       "      <td>0</td>\n",
       "      <td>0</td>\n",
       "      <td>0</td>\n",
       "      <td>...</td>\n",
       "      <td>0</td>\n",
       "      <td>0</td>\n",
       "      <td>0</td>\n",
       "      <td>0</td>\n",
       "      <td>1</td>\n",
       "      <td>-0.246723</td>\n",
       "      <td>-0.459109</td>\n",
       "      <td>-0.080661</td>\n",
       "      <td>0.043084</td>\n",
       "      <td>0</td>\n",
       "    </tr>\n",
       "    <tr>\n",
       "      <th>3</th>\n",
       "      <td>0</td>\n",
       "      <td>0</td>\n",
       "      <td>0</td>\n",
       "      <td>0</td>\n",
       "      <td>0</td>\n",
       "      <td>0</td>\n",
       "      <td>0</td>\n",
       "      <td>1</td>\n",
       "      <td>0</td>\n",
       "      <td>0</td>\n",
       "      <td>...</td>\n",
       "      <td>0</td>\n",
       "      <td>0</td>\n",
       "      <td>0</td>\n",
       "      <td>0</td>\n",
       "      <td>1</td>\n",
       "      <td>0.283637</td>\n",
       "      <td>0.069868</td>\n",
       "      <td>-0.453914</td>\n",
       "      <td>0.253620</td>\n",
       "      <td>0</td>\n",
       "    </tr>\n",
       "    <tr>\n",
       "      <th>4</th>\n",
       "      <td>1</td>\n",
       "      <td>0</td>\n",
       "      <td>0</td>\n",
       "      <td>0</td>\n",
       "      <td>0</td>\n",
       "      <td>0</td>\n",
       "      <td>0</td>\n",
       "      <td>1</td>\n",
       "      <td>0</td>\n",
       "      <td>0</td>\n",
       "      <td>...</td>\n",
       "      <td>0</td>\n",
       "      <td>0</td>\n",
       "      <td>0</td>\n",
       "      <td>1</td>\n",
       "      <td>1</td>\n",
       "      <td>-0.777083</td>\n",
       "      <td>1.108383</td>\n",
       "      <td>0.765380</td>\n",
       "      <td>-2.483349</td>\n",
       "      <td>0</td>\n",
       "    </tr>\n",
       "  </tbody>\n",
       "</table>\n",
       "<p>5 rows × 24 columns</p>\n",
       "</div>"
      ],
      "text/plain": [
       "   Action  Adventure  Animation  Children's  Comedy  Crime  Documentary  \\\n",
       "0       0          0          0           0       1      0            0   \n",
       "1       0          0          0           0       0      0            0   \n",
       "2       1          0          0           0       0      0            0   \n",
       "3       0          0          0           0       0      0            0   \n",
       "4       1          0          0           0       0      0            0   \n",
       "\n",
       "   Drama  Fantasy  Film-Noir   ...     Sci-Fi  Thriller  War  Western  \\\n",
       "0      0        0          0   ...          0         0    0        0   \n",
       "1      1        0          0   ...          0         0    0        0   \n",
       "2      0        0          0   ...          0         0    0        0   \n",
       "3      1        0          0   ...          0         0    0        0   \n",
       "4      1        0          0   ...          0         0    0        1   \n",
       "\n",
       "   outcome     price  ratings_average  ratings_count  release_date  unknown  \n",
       "0        1 -1.307443        -1.376422      -0.715191      0.534335        0  \n",
       "1        1 -2.368163        -2.655833      -0.727633      0.604514        0  \n",
       "2        1 -0.246723        -0.459109      -0.080661      0.043084        0  \n",
       "3        1  0.283637         0.069868      -0.453914      0.253620        0  \n",
       "4        1 -0.777083         1.108383       0.765380     -2.483349        0  \n",
       "\n",
       "[5 rows x 24 columns]"
      ]
     },
     "execution_count": 38,
     "metadata": {},
     "output_type": "execute_result"
    }
   ],
   "source": [
    "events_data = []\n",
    "\n",
    "for event in positive_events.all():\n",
    "    tmp = learning_data.loc[event['movie_id']].to_dict()\n",
    "    tmp['outcome'] = 1\n",
    "    events_data += [tmp]\n",
    "\n",
    "for event in negative_events.all():\n",
    "    tmp = learning_data.loc[event['movie_id']].to_dict()\n",
    "    tmp['outcome'] = 0\n",
    "    events_data += [tmp]\n",
    "\n",
    "events_data = pd.DataFrame(events_data)\n",
    "events_data.head()"
   ]
  },
  {
   "cell_type": "code",
   "execution_count": 39,
   "metadata": {
    "collapsed": false
   },
   "outputs": [
    {
     "data": {
      "text/plain": [
       "Action               int64\n",
       "Adventure            int64\n",
       "Animation            int64\n",
       "Children's           int64\n",
       "Comedy               int64\n",
       "Crime                int64\n",
       "Documentary          int64\n",
       "Drama                int64\n",
       "Fantasy              int64\n",
       "Film-Noir            int64\n",
       "Horror               int64\n",
       "Musical              int64\n",
       "Mystery              int64\n",
       "Romance              int64\n",
       "Sci-Fi               int64\n",
       "Thriller             int64\n",
       "War                  int64\n",
       "Western              int64\n",
       "outcome              int64\n",
       "price              float64\n",
       "ratings_average    float64\n",
       "ratings_count      float64\n",
       "release_date       float64\n",
       "unknown              int64\n",
       "dtype: object"
      ]
     },
     "execution_count": 39,
     "metadata": {},
     "output_type": "execute_result"
    }
   ],
   "source": [
    "for genre in genres_data['name'].values:\n",
    "    events_data[genre] = events_data[genre].astype(int)\n",
    "    \n",
    "events_data.dtypes"
   ]
  },
  {
   "cell_type": "markdown",
   "metadata": {},
   "source": [
    "# Events distributions"
   ]
  },
  {
   "cell_type": "code",
   "execution_count": 40,
   "metadata": {
    "collapsed": true
   },
   "outputs": [],
   "source": [
    "events_data_sample = events_data.sample(frac=0.1)"
   ]
  },
  {
   "cell_type": "code",
   "execution_count": 41,
   "metadata": {
    "collapsed": false
   },
   "outputs": [
    {
     "data": {
      "image/png": "[encoded data removed]"
     },
     "metadata": {},
     "output_type": "display_data"
    }
   ],
   "source": [
    "%%R -i events_data_sample -w 500 -h 300\n",
    "\n",
    "ggplot(events_data_sample, aes(x=price, color=factor(outcome))) + \n",
    "geom_bar() +\n",
    "theme(axis.text.x = element_text(angle=90))"
   ]
  },
  {
   "cell_type": "markdown",
   "metadata": {},
   "source": [
    "# Save events to CSV for external processing"
   ]
  },
  {
   "cell_type": "code",
   "execution_count": 42,
   "metadata": {
    "collapsed": false
   },
   "outputs": [],
   "source": [
    "events_data = events_data.reindex(np.random.permutation(events_data.index))\n",
    "events_data.to_csv('movie_events.csv')"
   ]
  },
  {
   "cell_type": "code",
   "execution_count": 50,
   "metadata": {
    "collapsed": true
   },
   "outputs": [],
   "source": [
    "df = pd.DataFrame(feature_columns)\n",
    "df.to_csv(\"feature_columns.csv\")"
   ]
  },
  {
   "cell_type": "markdown",
   "metadata": {},
   "source": [
    "# Load events from CSV"
   ]
  },
  {
   "cell_type": "code",
   "execution_count": 48,
   "metadata": {
    "collapsed": false
   },
   "outputs": [
    {
     "data": {
      "text/html": [
       "<div>\n",
       "<table border=\"1\" class=\"dataframe\">\n",
       "  <thead>\n",
       "    <tr style=\"text-align: right;\">\n",
       "      <th></th>\n",
       "      <th>Action</th>\n",
       "      <th>Adventure</th>\n",
       "      <th>Animation</th>\n",
       "      <th>Children's</th>\n",
       "      <th>Comedy</th>\n",
       "      <th>Crime</th>\n",
       "      <th>Documentary</th>\n",
       "      <th>Drama</th>\n",
       "      <th>Fantasy</th>\n",
       "      <th>Film-Noir</th>\n",
       "      <th>...</th>\n",
       "      <th>Sci-Fi</th>\n",
       "      <th>Thriller</th>\n",
       "      <th>War</th>\n",
       "      <th>Western</th>\n",
       "      <th>outcome</th>\n",
       "      <th>price</th>\n",
       "      <th>ratings_average</th>\n",
       "      <th>ratings_count</th>\n",
       "      <th>release_date</th>\n",
       "      <th>unknown</th>\n",
       "    </tr>\n",
       "  </thead>\n",
       "  <tbody>\n",
       "    <tr>\n",
       "      <th>83349</th>\n",
       "      <td>0</td>\n",
       "      <td>0</td>\n",
       "      <td>0</td>\n",
       "      <td>0</td>\n",
       "      <td>1</td>\n",
       "      <td>0</td>\n",
       "      <td>0</td>\n",
       "      <td>0</td>\n",
       "      <td>0</td>\n",
       "      <td>0</td>\n",
       "      <td>...</td>\n",
       "      <td>0</td>\n",
       "      <td>0</td>\n",
       "      <td>0</td>\n",
       "      <td>0</td>\n",
       "      <td>1</td>\n",
       "      <td>-0.777083</td>\n",
       "      <td>-0.867410</td>\n",
       "      <td>0.417010</td>\n",
       "      <td>0.464156</td>\n",
       "      <td>0</td>\n",
       "    </tr>\n",
       "    <tr>\n",
       "      <th>68144</th>\n",
       "      <td>0</td>\n",
       "      <td>0</td>\n",
       "      <td>0</td>\n",
       "      <td>0</td>\n",
       "      <td>1</td>\n",
       "      <td>0</td>\n",
       "      <td>0</td>\n",
       "      <td>0</td>\n",
       "      <td>0</td>\n",
       "      <td>0</td>\n",
       "      <td>...</td>\n",
       "      <td>0</td>\n",
       "      <td>0</td>\n",
       "      <td>0</td>\n",
       "      <td>0</td>\n",
       "      <td>1</td>\n",
       "      <td>-0.246723</td>\n",
       "      <td>-0.310247</td>\n",
       "      <td>-0.665424</td>\n",
       "      <td>0.323799</td>\n",
       "      <td>0</td>\n",
       "    </tr>\n",
       "    <tr>\n",
       "      <th>344645</th>\n",
       "      <td>0</td>\n",
       "      <td>0</td>\n",
       "      <td>0</td>\n",
       "      <td>0</td>\n",
       "      <td>1</td>\n",
       "      <td>0</td>\n",
       "      <td>0</td>\n",
       "      <td>0</td>\n",
       "      <td>0</td>\n",
       "      <td>0</td>\n",
       "      <td>...</td>\n",
       "      <td>1</td>\n",
       "      <td>0</td>\n",
       "      <td>0</td>\n",
       "      <td>0</td>\n",
       "      <td>0</td>\n",
       "      <td>-0.246723</td>\n",
       "      <td>0.714322</td>\n",
       "      <td>0.280151</td>\n",
       "      <td>-1.149954</td>\n",
       "      <td>0</td>\n",
       "    </tr>\n",
       "    <tr>\n",
       "      <th>71975</th>\n",
       "      <td>0</td>\n",
       "      <td>0</td>\n",
       "      <td>0</td>\n",
       "      <td>0</td>\n",
       "      <td>0</td>\n",
       "      <td>0</td>\n",
       "      <td>0</td>\n",
       "      <td>0</td>\n",
       "      <td>0</td>\n",
       "      <td>0</td>\n",
       "      <td>...</td>\n",
       "      <td>1</td>\n",
       "      <td>1</td>\n",
       "      <td>0</td>\n",
       "      <td>0</td>\n",
       "      <td>1</td>\n",
       "      <td>-1.307443</td>\n",
       "      <td>-1.725353</td>\n",
       "      <td>-0.603215</td>\n",
       "      <td>0.253620</td>\n",
       "      <td>0</td>\n",
       "    </tr>\n",
       "    <tr>\n",
       "      <th>208783</th>\n",
       "      <td>0</td>\n",
       "      <td>0</td>\n",
       "      <td>0</td>\n",
       "      <td>1</td>\n",
       "      <td>1</td>\n",
       "      <td>0</td>\n",
       "      <td>0</td>\n",
       "      <td>0</td>\n",
       "      <td>1</td>\n",
       "      <td>0</td>\n",
       "      <td>...</td>\n",
       "      <td>0</td>\n",
       "      <td>0</td>\n",
       "      <td>0</td>\n",
       "      <td>0</td>\n",
       "      <td>1</td>\n",
       "      <td>-0.246723</td>\n",
       "      <td>-0.410829</td>\n",
       "      <td>-0.080661</td>\n",
       "      <td>0.534335</td>\n",
       "      <td>0</td>\n",
       "    </tr>\n",
       "  </tbody>\n",
       "</table>\n",
       "<p>5 rows × 24 columns</p>\n",
       "</div>"
      ],
      "text/plain": [
       "        Action  Adventure  Animation  Children's  Comedy  Crime  Documentary  \\\n",
       "83349        0          0          0           0       1      0            0   \n",
       "68144        0          0          0           0       1      0            0   \n",
       "344645       0          0          0           0       1      0            0   \n",
       "71975        0          0          0           0       0      0            0   \n",
       "208783       0          0          0           1       1      0            0   \n",
       "\n",
       "        Drama  Fantasy  Film-Noir   ...     Sci-Fi  Thriller  War  Western  \\\n",
       "83349       0        0          0   ...          0         0    0        0   \n",
       "68144       0        0          0   ...          0         0    0        0   \n",
       "344645      0        0          0   ...          1         0    0        0   \n",
       "71975       0        0          0   ...          1         1    0        0   \n",
       "208783      0        1          0   ...          0         0    0        0   \n",
       "\n",
       "        outcome     price  ratings_average  ratings_count  release_date  \\\n",
       "83349         1 -0.777083        -0.867410       0.417010      0.464156   \n",
       "68144         1 -0.246723        -0.310247      -0.665424      0.323799   \n",
       "344645        0 -0.246723         0.714322       0.280151     -1.149954   \n",
       "71975         1 -1.307443        -1.725353      -0.603215      0.253620   \n",
       "208783        1 -0.246723        -0.410829      -0.080661      0.534335   \n",
       "\n",
       "        unknown  \n",
       "83349         0  \n",
       "68144         0  \n",
       "344645        0  \n",
       "71975         0  \n",
       "208783        0  \n",
       "\n",
       "[5 rows x 24 columns]"
      ]
     },
     "execution_count": 48,
     "metadata": {},
     "output_type": "execute_result"
    }
   ],
   "source": [
    "tmp = pd.DataFrame.from_csv('movie_events.csv')\n",
    "tmp.head()"
   ]
  },
  {
   "cell_type": "code",
   "execution_count": 58,
   "metadata": {
    "collapsed": false
   },
   "outputs": [
    {
     "data": {
      "text/plain": [
       "array(['Action', 'Adventure', 'Animation', \"Children's\", 'Comedy', 'Crime',\n",
       "       'Documentary', 'Drama', 'Fantasy', 'Film-Noir', 'Horror', 'Musical',\n",
       "       'Mystery', 'Romance', 'Sci-Fi', 'Thriller', 'War', 'Western',\n",
       "       'price', 'ratings_average', 'ratings_count', 'release_date',\n",
       "       'unknown'], dtype=object)"
      ]
     },
     "execution_count": 58,
     "metadata": {},
     "output_type": "execute_result"
    }
   ],
   "source": [
    "tmp = pd.DataFrame.from_csv('feature_columns.csv')\n",
    "feature_columns = tmp['0'].values\n",
    "feature_columns"
   ]
  },
  {
   "cell_type": "markdown",
   "metadata": {},
   "source": [
    "# Train/Test data split"
   ]
  },
  {
   "cell_type": "code",
   "execution_count": 43,
   "metadata": {
    "collapsed": false
   },
   "outputs": [
    {
     "name": "stdout",
     "output_type": "stream",
     "text": [
      "overall input shape: (399980, 23)\n",
      "overall output shape: (399980,)\n",
      "training input shape: (319984, 23)\n",
      "training output shape: (319984,)\n",
      "testing input shape: (79996, 23)\n",
      "testing output shape: (79996,)\n"
     ]
    }
   ],
   "source": [
    "X = events_data.loc[:, feature_columns].values\n",
    "print('overall input shape: ' + str(X.shape))\n",
    "\n",
    "y = events_data.loc[:, ['outcome']].values.ravel()\n",
    "print('overall output shape: ' + str(y.shape))\n",
    "\n",
    "X_train, X_test, y_train, y_test = train_test_split(X, y, test_size=0.2, random_state=42)\n",
    "print('training input shape: ' + str(X_train.shape))\n",
    "print('training output shape: ' + str(y_train.shape))\n",
    "\n",
    "print('testing input shape: ' + str(X_test.shape))\n",
    "print('testing output shape: ' + str(y_test.shape))"
   ]
  },
  {
   "cell_type": "markdown",
   "metadata": {},
   "source": [
    "# Ranking with Amazon ML"
   ]
  },
  {
   "cell_type": "markdown",
   "metadata": {},
   "source": [
    "![title](amazon_performance.png)"
   ]
  },
  {
   "cell_type": "markdown",
   "metadata": {},
   "source": [
    "# The perfect predictor"
   ]
  },
  {
   "cell_type": "code",
   "execution_count": 105,
   "metadata": {
    "collapsed": false
   },
   "outputs": [],
   "source": [
    "class PerfectPredictor:\n",
    "    def __init__(self, prices):\n",
    "        price = X_train[:, -5]\n",
    "        max_price = np.max(prices)\n",
    "        min_price = np.min(prices)\n",
    "\n",
    "        self.norm_prices = [ (x - min_price)/(max_price - min_price) for x in prices ]\n",
    "    \n",
    "    def predict(self, X):\n",
    "        return [self.predict_one(i, x) for i, x in enumerate(X)]\n",
    "            \n",
    "    def predict_one(self, i, x):\n",
    "        if self.norm_prices[i] > 0.5:\n",
    "            return 1\n",
    "        else:\n",
    "            return 0"
   ]
  },
  {
   "cell_type": "code",
   "execution_count": 106,
   "metadata": {
    "collapsed": false
   },
   "outputs": [],
   "source": [
    "p = PerfectPredictor(X_train[:, -5])"
   ]
  },
  {
   "cell_type": "code",
   "execution_count": 107,
   "metadata": {
    "collapsed": false
   },
   "outputs": [
    {
     "name": "stdout",
     "output_type": "stream",
     "text": [
      "train precision: 0.351595983815\n",
      "train recall: 0.198007156682\n",
      "train accuracy: 0.351701960098\n"
     ]
    }
   ],
   "source": [
    "y_train_pred = p.predict(X_train)\n",
    "\n",
    "print('train precision: ' + str(precision_score(y_train, y_train_pred)))\n",
    "print('train recall: ' + str(recall_score(y_train, y_train_pred)))\n",
    "print('train accuracy: ' + str(accuracy_score(y_train, y_train_pred)))"
   ]
  },
  {
   "cell_type": "code",
   "execution_count": 108,
   "metadata": {
    "collapsed": false
   },
   "outputs": [
    {
     "name": "stdout",
     "output_type": "stream",
     "text": [
      "test precision: 0.552117329465\n",
      "test recall: 0.308285900695\n",
      "test accuracy: 0.476698834942\n"
     ]
    }
   ],
   "source": [
    "y_test_pred = p.predict(X_test)\n",
    "\n",
    "print('test precision: ' + str(precision_score(y_test, y_test_pred)))\n",
    "print('test recall: ' + str(recall_score(y_test, y_test_pred)))\n",
    "print('test accuracy: ' + str(accuracy_score(y_test, y_test_pred)))"
   ]
  },
  {
   "cell_type": "markdown",
   "metadata": {},
   "source": [
    "# Rank with a Logistic Regression\n",
    "\n",
    "* Collect for each movie the buy probability from the raw events\n",
    "* Run a beta regression\n",
    "\n",
    "=> Expect the coefficients to represent the artificial probability function"
   ]
  },
  {
   "cell_type": "code",
   "execution_count": 39,
   "metadata": {
    "collapsed": false
   },
   "outputs": [
    {
     "data": {
      "text/plain": [
       "LogisticRegression(C=1.0, class_weight=None, dual=False, fit_intercept=True,\n",
       "          intercept_scaling=1, max_iter=100, multi_class='ovr', n_jobs=1,\n",
       "          penalty='l2', random_state=None, solver='liblinear', tol=0.0001,\n",
       "          verbose=0, warm_start=False)"
      ]
     },
     "execution_count": 39,
     "metadata": {},
     "output_type": "execute_result"
    }
   ],
   "source": [
    "l = LogisticRegression()\n",
    "l.fit(X_train, y_train)"
   ]
  },
  {
   "cell_type": "code",
   "execution_count": 40,
   "metadata": {
    "collapsed": false
   },
   "outputs": [
    {
     "name": "stdout",
     "output_type": "stream",
     "text": [
      "train precision: 0.665267528143\n",
      "train recall: 0.737470180492\n",
      "train accuracy: 0.648069903495\n"
     ]
    }
   ],
   "source": [
    "y_train_pred = l.predict(X_train)\n",
    "\n",
    "print('train precision: ' + str(precision_score(y_train, y_train_pred)))\n",
    "print('train recall: ' + str(recall_score(y_train, y_train_pred)))\n",
    "print('train accuracy: ' + str(accuracy_score(y_train, y_train_pred)))"
   ]
  },
  {
   "cell_type": "code",
   "execution_count": 41,
   "metadata": {
    "collapsed": false
   },
   "outputs": [
    {
     "name": "stdout",
     "output_type": "stream",
     "text": [
      "test precision: 0.66292225798\n",
      "test recall: 0.736866971135\n",
      "test accuracy: 0.645607280364\n"
     ]
    }
   ],
   "source": [
    "y_test_pred = l.predict(X_test)\n",
    "\n",
    "print('test precision: ' + str(precision_score(y_test, y_test_pred)))\n",
    "print('test recall: ' + str(recall_score(y_test, y_test_pred)))\n",
    "print('test accuracy: ' + str(accuracy_score(y_test, y_test_pred)))"
   ]
  },
  {
   "cell_type": "markdown",
   "metadata": {},
   "source": [
    "# Rank with a Neural Network\n",
    "\n",
    "* Input each event to the Neural network\n",
    "* Train the network\n",
    "* Run the prediction on the training set\n",
    "\n",
    "=> Expect the order of the results to represent the artificial probability function"
   ]
  },
  {
   "cell_type": "code",
   "execution_count": 44,
   "metadata": {
    "collapsed": true
   },
   "outputs": [],
   "source": [
    "import logging\n",
    "fh = logging.FileHandler('output.log')\n",
    "\n",
    "logger = logging.getLogger()\n",
    "logger.setLevel(logging.DEBUG)\n",
    "logger.removeHandler(logger.handlers[0])\n",
    "logger.addHandler(fh)"
   ]
  },
  {
   "cell_type": "code",
   "execution_count": 45,
   "metadata": {
    "collapsed": false
   },
   "outputs": [
    {
     "ename": "ImportError",
     "evalue": "No module named 'sknn'",
     "output_type": "error",
     "traceback": [
      "\u001b[1;31m---------------------------------------------------------------------------\u001b[0m",
      "\u001b[1;31mImportError\u001b[0m                               Traceback (most recent call last)",
      "\u001b[1;32m<ipython-input-45-e2c4553509ea>\u001b[0m in \u001b[0;36m<module>\u001b[1;34m()\u001b[0m\n\u001b[1;32m----> 1\u001b[1;33m \u001b[1;32mfrom\u001b[0m \u001b[0msknn\u001b[0m\u001b[1;33m.\u001b[0m\u001b[0mmlp\u001b[0m \u001b[1;32mimport\u001b[0m \u001b[0mClassifier\u001b[0m\u001b[1;33m,\u001b[0m \u001b[0mLayer\u001b[0m\u001b[1;33m\u001b[0m\u001b[0m\n\u001b[0m\u001b[0;32m      2\u001b[0m \u001b[1;33m\u001b[0m\u001b[0m\n\u001b[0;32m      3\u001b[0m nn = Classifier(\n\u001b[0;32m      4\u001b[0m     layers=[\n\u001b[0;32m      5\u001b[0m         \u001b[0mLayer\u001b[0m\u001b[1;33m(\u001b[0m\u001b[1;34m\"Sigmoid\"\u001b[0m\u001b[1;33m,\u001b[0m \u001b[0munits\u001b[0m\u001b[1;33m=\u001b[0m\u001b[0mfeature_columns\u001b[0m\u001b[1;33m.\u001b[0m\u001b[0msize\u001b[0m\u001b[1;33m)\u001b[0m\u001b[1;33m,\u001b[0m\u001b[1;33m\u001b[0m\u001b[0m\n",
      "\u001b[1;31mImportError\u001b[0m: No module named 'sknn'"
     ]
    }
   ],
   "source": [
    "from sknn.mlp import Classifier, Layer\n",
    "\n",
    "nn = Classifier(\n",
    "    layers=[\n",
    "        Layer(\"Sigmoid\", units=feature_columns.size),\n",
    "        Layer(\"Softmax\")],\n",
    "    learning_rate=0.1,\n",
    "    n_iter=20)\n",
    "\n",
    "nn.fit(X_train, y_train)"
   ]
  },
  {
   "cell_type": "code",
   "execution_count": 45,
   "metadata": {
    "collapsed": false
   },
   "outputs": [
    {
     "name": "stdout",
     "output_type": "stream",
     "text": [
      "[(319984, 2)]\n",
      "train precision: 0.599829332786\n",
      "train recall: 0.921484673898\n",
      "train accuracy: 0.614918245912\n"
     ]
    }
   ],
   "source": [
    "y_train_pred = nn.predict(X_train)\n",
    "\n",
    "print('train precision: ' + str(precision_score(y_train, y_train_pred)))\n",
    "print('train recall: ' + str(recall_score(y_train, y_train_pred)))\n",
    "print('train accuracy: ' + str(accuracy_score(y_train, y_train_pred)))"
   ]
  },
  {
   "cell_type": "code",
   "execution_count": 46,
   "metadata": {
    "collapsed": false
   },
   "outputs": [
    {
     "name": "stdout",
     "output_type": "stream",
     "text": [
      "[(79996, 2)]\n",
      "test precision: 0.598877406341\n",
      "test recall: 0.921753020315\n",
      "test accuracy: 0.613480674034\n"
     ]
    }
   ],
   "source": [
    "y_test_pred = nn.predict(X_test)\n",
    "\n",
    "print('test precision: ' + str(precision_score(y_test, y_test_pred)))\n",
    "print('test recall: ' + str(recall_score(y_test, y_test_pred)))\n",
    "print('test accuracy: ' + str(accuracy_score(y_test, y_test_pred)))"
   ]
  },
  {
   "cell_type": "markdown",
   "metadata": {},
   "source": [
    "# FANN"
   ]
  },
  {
   "cell_type": "code",
   "execution_count": 59,
   "metadata": {
    "collapsed": true
   },
   "outputs": [],
   "source": [
    "from fann2 import libfann"
   ]
  },
  {
   "cell_type": "code",
   "execution_count": 60,
   "metadata": {
    "collapsed": true
   },
   "outputs": [],
   "source": [
    "ann = libfann.neural_net()"
   ]
  },
  {
   "cell_type": "code",
   "execution_count": 61,
   "metadata": {
    "collapsed": false
   },
   "outputs": [
    {
     "data": {
      "text/plain": [
       "True"
      ]
     },
     "execution_count": 61,
     "metadata": {},
     "output_type": "execute_result"
    }
   ],
   "source": [
    "ann.create_standard_array([feature_columns.size, feature_columns.size, 1])"
   ]
  },
  {
   "cell_type": "code",
   "execution_count": 62,
   "metadata": {
    "collapsed": true
   },
   "outputs": [],
   "source": [
    "fann_data = libfann.training_data()"
   ]
  },
  {
   "cell_type": "code",
   "execution_count": 63,
   "metadata": {
    "collapsed": true
   },
   "outputs": [],
   "source": [
    "fann_y_train = [[y] for y in y_train]"
   ]
  },
  {
   "cell_type": "code",
   "execution_count": 64,
   "metadata": {
    "collapsed": false
   },
   "outputs": [],
   "source": [
    "fann_data.set_train_data(X_train, fann_y_train)\n",
    "ann.train_on_data(fann_data, 100, 1, 0.001)"
   ]
  },
  {
   "cell_type": "code",
   "execution_count": 65,
   "metadata": {
    "collapsed": true
   },
   "outputs": [],
   "source": [
    "def get_predictions_for(ann, x):\n",
    "    y_pred = []\n",
    "    for i in x:\n",
    "        y_pred.append(np.argmax(ann.run(i)))\n",
    "\n",
    "    return np.array(y_pred)"
   ]
  },
  {
   "cell_type": "code",
   "execution_count": 66,
   "metadata": {
    "collapsed": false
   },
   "outputs": [
    {
     "name": "stdout",
     "output_type": "stream",
     "text": [
      "train precision: 0.0\n",
      "train recall: 0.0\n",
      "train accuracy: 0.444547227361\n"
     ]
    },
    {
     "name": "stderr",
     "output_type": "stream",
     "text": [
      "/Users/motta/.pyenv/versions/learning-to-rank/lib/python3.5/site-packages/sklearn/metrics/classification.py:1074: UndefinedMetricWarning: Precision is ill-defined and being set to 0.0 due to no predicted samples.\n",
      "  'precision', 'predicted', average, warn_for)\n"
     ]
    }
   ],
   "source": [
    "y_train = np.array(fann_y_train).ravel()\n",
    "y_train_pred = get_predictions_for(ann, X_train)\n",
    "\n",
    "print('train precision: ' + str(precision_score(y_train, y_train_pred)))\n",
    "print('train recall: ' + str(recall_score(y_train, y_train_pred)))\n",
    "print('train accuracy: ' + str(accuracy_score(y_train, y_train_pred)))"
   ]
  },
  {
   "cell_type": "code",
   "execution_count": 57,
   "metadata": {
    "collapsed": false
   },
   "outputs": [
    {
     "data": {
      "text/plain": [
       "array([0, 0, 0, ..., 0, 0, 0])"
      ]
     },
     "execution_count": 57,
     "metadata": {},
     "output_type": "execute_result"
    }
   ],
   "source": [
    "y_train_pred"
   ]
  },
  {
   "cell_type": "code",
   "execution_count": 58,
   "metadata": {
    "collapsed": false
   },
   "outputs": [
    {
     "data": {
      "text/plain": [
       "array([1, 1, 1, ..., 1, 1, 1])"
      ]
     },
     "execution_count": 58,
     "metadata": {},
     "output_type": "execute_result"
    }
   ],
   "source": [
    "y_train"
   ]
  },
  {
   "cell_type": "markdown",
   "metadata": {
    "collapsed": true
   },
   "source": [
    "# Neural Network on the cloud"
   ]
  },
  {
   "cell_type": "markdown",
   "metadata": {},
   "source": [
    "Setup on MacOSx\n",
    "https://gist.github.com/ageitgey/819a51afa4613649bd18\n",
    "\n",
    "Setup on AWS\n",
    "https://github.com/Avsecz/aws-tensorflow-setup\n",
    "\n",
    "https://github.com/aymericdamien/TensorFlow-Examples/blob/master/notebooks/3_NeuralNetworks/multilayer_perceptron.ipynb"
   ]
  },
  {
   "cell_type": "code",
   "execution_count": null,
   "metadata": {
    "collapsed": true
   },
   "outputs": [],
   "source": []
  }
 ],
 "metadata": {
  "kernelspec": {
   "display_name": "learning-to-rank",
   "language": "python",
   "name": "learning-to-rank"
  },
  "language_info": {
   "codemirror_mode": {
    "name": "ipython",
    "version": 3
   },
   "file_extension": ".py",
   "mimetype": "text/x-python",
   "name": "python",
   "nbconvert_exporter": "python",
   "pygments_lexer": "ipython3",
   "version": "3.5.0"
  }
 },
 "nbformat": 4,
 "nbformat_minor": 0
}
